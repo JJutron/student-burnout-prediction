{
 "cells": [
  {
   "cell_type": "code",
   "execution_count": 3,
   "id": "df068a74",
   "metadata": {},
   "outputs": [],
   "source": [
    "### import numpy as np # 벡터, 행렬 등 수치 연산을 수행하는 선형대수 라이브러리\n",
    "import pandas as pd # 시리즈, 데이터프레임 포맷 데이터 처리를 위한 라이브러리\n",
    "import warnings; warnings.filterwarnings(action='ignore') # 경고 메시지 무시\n",
    "import matplotlib.pyplot as plt # 데이터 시각화 라이브러리\n",
    "import pickle # 객체 입출력을 위한 라이브러리\n",
    "from sklearn.model_selection import train_test_split # 훈련 데이터, 테스트 데이터 분리\n",
    "from sklearn.preprocessing import StandardScaler # 정규화\n",
    "from sklearn.ensemble import RandomForestClassifier as RFC # 랜덤포레스트 분류 알고리즘\n",
    "from sklearn.tree import DecisionTreeClassifier as DTC # 의사결정나무 분류 알고리즘\n",
    "from sklearn.ensemble import GradientBoostingClassifier as GBC # 그래디언트 부스팅 분류 알고리즘\n",
    "# 모델 평가를 위한 metrics\n",
    "from sklearn.metrics import roc_auc_score,roc_curve,accuracy_score, precision_score, recall_score, f1_score, plot_confusion_matrix"
   ]
  },
  {
   "cell_type": "raw",
   "id": "95ea1625",
   "metadata": {},
   "source": [
    "conda activate tensorflow\n"
   ]
  },
  {
   "cell_type": "code",
   "execution_count": null,
   "id": "e906e18a",
   "metadata": {},
   "outputs": [],
   "source": []
  },
  {
   "cell_type": "code",
   "execution_count": 4,
   "id": "e265caea",
   "metadata": {},
   "outputs": [],
   "source": [
    "mid2 = pd.read_csv('중1 코호트 청소년_데이터.csv',encoding='cp949')"
   ]
  },
  {
   "cell_type": "code",
   "execution_count": 5,
   "id": "7e7dcc14",
   "metadata": {},
   "outputs": [],
   "source": [
    "mid2.columns= ['가구 ID','개인 ID','조사참여 여부: 청소년','시/도(학교 기준)','도시규모(학교 기준)','시/도(거주지 기준)','성별','부모관계1','부모관계2','무능력1','무능력2','무능력3','반감1', '반감2','반감3', '냉담1','냉담2', '탈진1','탈진2','탈진3', '탈진4','학업소진13', '학업소진 14','학업소진15', '학업소진16','자아존중감1','자아존중감2','자아존중감3','자아존중감4','자아존중감5','자아존중감6','자아존중감7','자아존중감8','자아존중감9','자아존중감10','주의집중1','주의집중2','주의집중3','주의집중4','주의집중5','주의집중6','주의집중7','우울1','우울2','우울3','우울4','우울5','우울6','우울7','우울8','우울9','우울10','그릿1','그릿2','그릿3','그릿4','그릿5','그릿6','그릿7','그릿8','친구관계1','친구관계2','친구관계3','친구관계4','친구관계5','친구관계6','친구관계7','친구관계8','교사관계1','교사관계2','교사관계3','교사관계4','교사관계5','교사관계6','교사관계7','교사관계8','교사관계9','교사관계10','부모관계3','부모관계4','부모관계5','부모관계6','부모관계7','부모관계8','부모관계9','부모관계10','부모관계11','부모관계12','부모관계13','부모관계14']"
   ]
  },
  {
   "cell_type": "code",
   "execution_count": 6,
   "id": "79596241",
   "metadata": {},
   "outputs": [],
   "source": [
    "mid2 = mid2.drop(['학업소진13'], axis =1)"
   ]
  },
  {
   "cell_type": "code",
   "execution_count": 7,
   "id": "be963b65",
   "metadata": {},
   "outputs": [],
   "source": [
    "mid2 = mid2.drop(['학업소진 14'], axis =1)"
   ]
  },
  {
   "cell_type": "code",
   "execution_count": 8,
   "id": "863c9a4b",
   "metadata": {},
   "outputs": [],
   "source": [
    "mid2 = mid2.drop(['학업소진15'], axis =1)"
   ]
  },
  {
   "cell_type": "code",
   "execution_count": 9,
   "id": "30b985d0",
   "metadata": {},
   "outputs": [],
   "source": [
    "mid2 = mid2.drop(['학업소진16'], axis =1)"
   ]
  },
  {
   "cell_type": "code",
   "execution_count": 10,
   "id": "70ec6a1e",
   "metadata": {},
   "outputs": [
    {
     "data": {
      "text/plain": [
       "Index(['가구 ID', '개인 ID', '조사참여 여부: 청소년', '시/도(학교 기준)', '도시규모(학교 기준)',\n",
       "       '시/도(거주지 기준)', '성별', '부모관계1', '부모관계2', '무능력1', '무능력2', '무능력3', '반감1',\n",
       "       '반감2', '반감3', '냉담1', '냉담2', '탈진1', '탈진2', '탈진3', '탈진4', '자아존중감1',\n",
       "       '자아존중감2', '자아존중감3', '자아존중감4', '자아존중감5', '자아존중감6', '자아존중감7', '자아존중감8',\n",
       "       '자아존중감9', '자아존중감10', '주의집중1', '주의집중2', '주의집중3', '주의집중4', '주의집중5',\n",
       "       '주의집중6', '주의집중7', '우울1', '우울2', '우울3', '우울4', '우울5', '우울6', '우울7',\n",
       "       '우울8', '우울9', '우울10', '그릿1', '그릿2', '그릿3', '그릿4', '그릿5', '그릿6', '그릿7',\n",
       "       '그릿8', '친구관계1', '친구관계2', '친구관계3', '친구관계4', '친구관계5', '친구관계6', '친구관계7',\n",
       "       '친구관계8', '교사관계1', '교사관계2', '교사관계3', '교사관계4', '교사관계5', '교사관계6', '교사관계7',\n",
       "       '교사관계8', '교사관계9', '교사관계10', '부모관계3', '부모관계4', '부모관계5', '부모관계6', '부모관계7',\n",
       "       '부모관계8', '부모관계9', '부모관계10', '부모관계11', '부모관계12', '부모관계13', '부모관계14'],\n",
       "      dtype='object')"
      ]
     },
     "execution_count": 10,
     "metadata": {},
     "output_type": "execute_result"
    }
   ],
   "source": [
    "mid2.columns"
   ]
  },
  {
   "cell_type": "code",
   "execution_count": 11,
   "id": "be758c6f",
   "metadata": {
    "scrolled": false
   },
   "outputs": [
    {
     "data": {
      "text/plain": [
       "가구 ID             0\n",
       "개인 ID             0\n",
       "조사참여 여부: 청소년      0\n",
       "시/도(학교 기준)      206\n",
       "도시규모(학교 기준)     206\n",
       "               ... \n",
       "부모관계10          206\n",
       "부모관계11          206\n",
       "부모관계12          206\n",
       "부모관계13          206\n",
       "부모관계14          206\n",
       "Length: 86, dtype: int64"
      ]
     },
     "execution_count": 11,
     "metadata": {},
     "output_type": "execute_result"
    }
   ],
   "source": [
    "mid2.isnull().sum()"
   ]
  },
  {
   "cell_type": "code",
   "execution_count": 12,
   "id": "922427fa",
   "metadata": {},
   "outputs": [],
   "source": [
    "mid2.dropna(axis = 0, how = 'any', inplace = True)"
   ]
  },
  {
   "cell_type": "code",
   "execution_count": 13,
   "id": "da56428e",
   "metadata": {
    "scrolled": false
   },
   "outputs": [
    {
     "data": {
      "text/plain": [
       "가구 ID           0\n",
       "개인 ID           0\n",
       "조사참여 여부: 청소년    0\n",
       "시/도(학교 기준)      0\n",
       "도시규모(학교 기준)     0\n",
       "               ..\n",
       "부모관계10          0\n",
       "부모관계11          0\n",
       "부모관계12          0\n",
       "부모관계13          0\n",
       "부모관계14          0\n",
       "Length: 86, dtype: int64"
      ]
     },
     "execution_count": 13,
     "metadata": {},
     "output_type": "execute_result"
    }
   ],
   "source": [
    "mid2.isnull().sum()"
   ]
  },
  {
   "cell_type": "code",
   "execution_count": 14,
   "id": "1290d385",
   "metadata": {
    "scrolled": true
   },
   "outputs": [
    {
     "data": {
      "text/html": [
       "<div>\n",
       "<style scoped>\n",
       "    .dataframe tbody tr th:only-of-type {\n",
       "        vertical-align: middle;\n",
       "    }\n",
       "\n",
       "    .dataframe tbody tr th {\n",
       "        vertical-align: top;\n",
       "    }\n",
       "\n",
       "    .dataframe thead th {\n",
       "        text-align: right;\n",
       "    }\n",
       "</style>\n",
       "<table border=\"1\" class=\"dataframe\">\n",
       "  <thead>\n",
       "    <tr style=\"text-align: right;\">\n",
       "      <th></th>\n",
       "      <th>가구 ID</th>\n",
       "      <th>개인 ID</th>\n",
       "      <th>조사참여 여부: 청소년</th>\n",
       "      <th>시/도(학교 기준)</th>\n",
       "      <th>도시규모(학교 기준)</th>\n",
       "      <th>시/도(거주지 기준)</th>\n",
       "      <th>성별</th>\n",
       "      <th>부모관계1</th>\n",
       "      <th>부모관계2</th>\n",
       "      <th>무능력1</th>\n",
       "      <th>...</th>\n",
       "      <th>부모관계5</th>\n",
       "      <th>부모관계6</th>\n",
       "      <th>부모관계7</th>\n",
       "      <th>부모관계8</th>\n",
       "      <th>부모관계9</th>\n",
       "      <th>부모관계10</th>\n",
       "      <th>부모관계11</th>\n",
       "      <th>부모관계12</th>\n",
       "      <th>부모관계13</th>\n",
       "      <th>부모관계14</th>\n",
       "    </tr>\n",
       "  </thead>\n",
       "  <tbody>\n",
       "    <tr>\n",
       "      <th>0</th>\n",
       "      <td>1193</td>\n",
       "      <td>2</td>\n",
       "      <td>1</td>\n",
       "      <td>9.0</td>\n",
       "      <td>3.0</td>\n",
       "      <td>9.0</td>\n",
       "      <td>2.0</td>\n",
       "      <td>5.0</td>\n",
       "      <td>7.0</td>\n",
       "      <td>2.0</td>\n",
       "      <td>...</td>\n",
       "      <td>4.0</td>\n",
       "      <td>3.0</td>\n",
       "      <td>4.0</td>\n",
       "      <td>4.0</td>\n",
       "      <td>4.0</td>\n",
       "      <td>4.0</td>\n",
       "      <td>3.0</td>\n",
       "      <td>3.0</td>\n",
       "      <td>3.0</td>\n",
       "      <td>4.0</td>\n",
       "    </tr>\n",
       "    <tr>\n",
       "      <th>1</th>\n",
       "      <td>1285</td>\n",
       "      <td>2</td>\n",
       "      <td>1</td>\n",
       "      <td>9.0</td>\n",
       "      <td>2.0</td>\n",
       "      <td>9.0</td>\n",
       "      <td>1.0</td>\n",
       "      <td>3.0</td>\n",
       "      <td>4.0</td>\n",
       "      <td>2.0</td>\n",
       "      <td>...</td>\n",
       "      <td>3.0</td>\n",
       "      <td>3.0</td>\n",
       "      <td>3.0</td>\n",
       "      <td>3.0</td>\n",
       "      <td>3.0</td>\n",
       "      <td>3.0</td>\n",
       "      <td>2.0</td>\n",
       "      <td>3.0</td>\n",
       "      <td>2.0</td>\n",
       "      <td>2.0</td>\n",
       "    </tr>\n",
       "    <tr>\n",
       "      <th>2</th>\n",
       "      <td>1590</td>\n",
       "      <td>2</td>\n",
       "      <td>1</td>\n",
       "      <td>9.0</td>\n",
       "      <td>3.0</td>\n",
       "      <td>9.0</td>\n",
       "      <td>2.0</td>\n",
       "      <td>7.0</td>\n",
       "      <td>7.0</td>\n",
       "      <td>2.0</td>\n",
       "      <td>...</td>\n",
       "      <td>3.0</td>\n",
       "      <td>3.0</td>\n",
       "      <td>4.0</td>\n",
       "      <td>4.0</td>\n",
       "      <td>4.0</td>\n",
       "      <td>4.0</td>\n",
       "      <td>2.0</td>\n",
       "      <td>3.0</td>\n",
       "      <td>3.0</td>\n",
       "      <td>3.0</td>\n",
       "    </tr>\n",
       "    <tr>\n",
       "      <th>3</th>\n",
       "      <td>2079</td>\n",
       "      <td>2</td>\n",
       "      <td>1</td>\n",
       "      <td>13.0</td>\n",
       "      <td>3.0</td>\n",
       "      <td>13.0</td>\n",
       "      <td>2.0</td>\n",
       "      <td>5.0</td>\n",
       "      <td>5.0</td>\n",
       "      <td>2.0</td>\n",
       "      <td>...</td>\n",
       "      <td>4.0</td>\n",
       "      <td>4.0</td>\n",
       "      <td>4.0</td>\n",
       "      <td>4.0</td>\n",
       "      <td>4.0</td>\n",
       "      <td>4.0</td>\n",
       "      <td>2.0</td>\n",
       "      <td>4.0</td>\n",
       "      <td>4.0</td>\n",
       "      <td>3.0</td>\n",
       "    </tr>\n",
       "    <tr>\n",
       "      <th>6</th>\n",
       "      <td>2591</td>\n",
       "      <td>1</td>\n",
       "      <td>1</td>\n",
       "      <td>1.0</td>\n",
       "      <td>1.0</td>\n",
       "      <td>9.0</td>\n",
       "      <td>1.0</td>\n",
       "      <td>3.0</td>\n",
       "      <td>3.0</td>\n",
       "      <td>1.0</td>\n",
       "      <td>...</td>\n",
       "      <td>3.0</td>\n",
       "      <td>2.0</td>\n",
       "      <td>2.0</td>\n",
       "      <td>2.0</td>\n",
       "      <td>2.0</td>\n",
       "      <td>3.0</td>\n",
       "      <td>3.0</td>\n",
       "      <td>3.0</td>\n",
       "      <td>3.0</td>\n",
       "      <td>2.0</td>\n",
       "    </tr>\n",
       "    <tr>\n",
       "      <th>...</th>\n",
       "      <td>...</td>\n",
       "      <td>...</td>\n",
       "      <td>...</td>\n",
       "      <td>...</td>\n",
       "      <td>...</td>\n",
       "      <td>...</td>\n",
       "      <td>...</td>\n",
       "      <td>...</td>\n",
       "      <td>...</td>\n",
       "      <td>...</td>\n",
       "      <td>...</td>\n",
       "      <td>...</td>\n",
       "      <td>...</td>\n",
       "      <td>...</td>\n",
       "      <td>...</td>\n",
       "      <td>...</td>\n",
       "      <td>...</td>\n",
       "      <td>...</td>\n",
       "      <td>...</td>\n",
       "      <td>...</td>\n",
       "      <td>...</td>\n",
       "    </tr>\n",
       "    <tr>\n",
       "      <th>2583</th>\n",
       "      <td>5157</td>\n",
       "      <td>1</td>\n",
       "      <td>1</td>\n",
       "      <td>17.0</td>\n",
       "      <td>2.0</td>\n",
       "      <td>17.0</td>\n",
       "      <td>1.0</td>\n",
       "      <td>5.0</td>\n",
       "      <td>4.0</td>\n",
       "      <td>2.0</td>\n",
       "      <td>...</td>\n",
       "      <td>3.0</td>\n",
       "      <td>3.0</td>\n",
       "      <td>3.0</td>\n",
       "      <td>3.0</td>\n",
       "      <td>3.0</td>\n",
       "      <td>3.0</td>\n",
       "      <td>2.0</td>\n",
       "      <td>2.0</td>\n",
       "      <td>3.0</td>\n",
       "      <td>2.0</td>\n",
       "    </tr>\n",
       "    <tr>\n",
       "      <th>2584</th>\n",
       "      <td>5158</td>\n",
       "      <td>1</td>\n",
       "      <td>1</td>\n",
       "      <td>17.0</td>\n",
       "      <td>2.0</td>\n",
       "      <td>17.0</td>\n",
       "      <td>1.0</td>\n",
       "      <td>4.0</td>\n",
       "      <td>5.0</td>\n",
       "      <td>1.0</td>\n",
       "      <td>...</td>\n",
       "      <td>3.0</td>\n",
       "      <td>3.0</td>\n",
       "      <td>3.0</td>\n",
       "      <td>3.0</td>\n",
       "      <td>4.0</td>\n",
       "      <td>4.0</td>\n",
       "      <td>1.0</td>\n",
       "      <td>3.0</td>\n",
       "      <td>3.0</td>\n",
       "      <td>4.0</td>\n",
       "    </tr>\n",
       "    <tr>\n",
       "      <th>2585</th>\n",
       "      <td>5159</td>\n",
       "      <td>1</td>\n",
       "      <td>1</td>\n",
       "      <td>17.0</td>\n",
       "      <td>2.0</td>\n",
       "      <td>17.0</td>\n",
       "      <td>1.0</td>\n",
       "      <td>6.0</td>\n",
       "      <td>6.0</td>\n",
       "      <td>2.0</td>\n",
       "      <td>...</td>\n",
       "      <td>3.0</td>\n",
       "      <td>3.0</td>\n",
       "      <td>3.0</td>\n",
       "      <td>3.0</td>\n",
       "      <td>3.0</td>\n",
       "      <td>3.0</td>\n",
       "      <td>3.0</td>\n",
       "      <td>2.0</td>\n",
       "      <td>3.0</td>\n",
       "      <td>3.0</td>\n",
       "    </tr>\n",
       "    <tr>\n",
       "      <th>2586</th>\n",
       "      <td>5160</td>\n",
       "      <td>1</td>\n",
       "      <td>1</td>\n",
       "      <td>17.0</td>\n",
       "      <td>2.0</td>\n",
       "      <td>17.0</td>\n",
       "      <td>1.0</td>\n",
       "      <td>7.0</td>\n",
       "      <td>7.0</td>\n",
       "      <td>1.0</td>\n",
       "      <td>...</td>\n",
       "      <td>4.0</td>\n",
       "      <td>4.0</td>\n",
       "      <td>4.0</td>\n",
       "      <td>4.0</td>\n",
       "      <td>4.0</td>\n",
       "      <td>4.0</td>\n",
       "      <td>4.0</td>\n",
       "      <td>4.0</td>\n",
       "      <td>4.0</td>\n",
       "      <td>3.0</td>\n",
       "    </tr>\n",
       "    <tr>\n",
       "      <th>2588</th>\n",
       "      <td>780</td>\n",
       "      <td>2</td>\n",
       "      <td>1</td>\n",
       "      <td>4.0</td>\n",
       "      <td>1.0</td>\n",
       "      <td>4.0</td>\n",
       "      <td>1.0</td>\n",
       "      <td>4.0</td>\n",
       "      <td>5.0</td>\n",
       "      <td>2.0</td>\n",
       "      <td>...</td>\n",
       "      <td>3.0</td>\n",
       "      <td>3.0</td>\n",
       "      <td>2.0</td>\n",
       "      <td>3.0</td>\n",
       "      <td>3.0</td>\n",
       "      <td>3.0</td>\n",
       "      <td>3.0</td>\n",
       "      <td>4.0</td>\n",
       "      <td>3.0</td>\n",
       "      <td>3.0</td>\n",
       "    </tr>\n",
       "  </tbody>\n",
       "</table>\n",
       "<p>2383 rows × 86 columns</p>\n",
       "</div>"
      ],
      "text/plain": [
       "      가구 ID  개인 ID  조사참여 여부: 청소년  시/도(학교 기준)  도시규모(학교 기준)  시/도(거주지 기준)   성별  \\\n",
       "0      1193      2             1         9.0          3.0          9.0  2.0   \n",
       "1      1285      2             1         9.0          2.0          9.0  1.0   \n",
       "2      1590      2             1         9.0          3.0          9.0  2.0   \n",
       "3      2079      2             1        13.0          3.0         13.0  2.0   \n",
       "6      2591      1             1         1.0          1.0          9.0  1.0   \n",
       "...     ...    ...           ...         ...          ...          ...  ...   \n",
       "2583   5157      1             1        17.0          2.0         17.0  1.0   \n",
       "2584   5158      1             1        17.0          2.0         17.0  1.0   \n",
       "2585   5159      1             1        17.0          2.0         17.0  1.0   \n",
       "2586   5160      1             1        17.0          2.0         17.0  1.0   \n",
       "2588    780      2             1         4.0          1.0          4.0  1.0   \n",
       "\n",
       "      부모관계1  부모관계2  무능력1  ...  부모관계5  부모관계6  부모관계7  부모관계8  부모관계9  부모관계10  \\\n",
       "0       5.0    7.0   2.0  ...    4.0    3.0    4.0    4.0    4.0     4.0   \n",
       "1       3.0    4.0   2.0  ...    3.0    3.0    3.0    3.0    3.0     3.0   \n",
       "2       7.0    7.0   2.0  ...    3.0    3.0    4.0    4.0    4.0     4.0   \n",
       "3       5.0    5.0   2.0  ...    4.0    4.0    4.0    4.0    4.0     4.0   \n",
       "6       3.0    3.0   1.0  ...    3.0    2.0    2.0    2.0    2.0     3.0   \n",
       "...     ...    ...   ...  ...    ...    ...    ...    ...    ...     ...   \n",
       "2583    5.0    4.0   2.0  ...    3.0    3.0    3.0    3.0    3.0     3.0   \n",
       "2584    4.0    5.0   1.0  ...    3.0    3.0    3.0    3.0    4.0     4.0   \n",
       "2585    6.0    6.0   2.0  ...    3.0    3.0    3.0    3.0    3.0     3.0   \n",
       "2586    7.0    7.0   1.0  ...    4.0    4.0    4.0    4.0    4.0     4.0   \n",
       "2588    4.0    5.0   2.0  ...    3.0    3.0    2.0    3.0    3.0     3.0   \n",
       "\n",
       "      부모관계11  부모관계12  부모관계13  부모관계14  \n",
       "0        3.0     3.0     3.0     4.0  \n",
       "1        2.0     3.0     2.0     2.0  \n",
       "2        2.0     3.0     3.0     3.0  \n",
       "3        2.0     4.0     4.0     3.0  \n",
       "6        3.0     3.0     3.0     2.0  \n",
       "...      ...     ...     ...     ...  \n",
       "2583     2.0     2.0     3.0     2.0  \n",
       "2584     1.0     3.0     3.0     4.0  \n",
       "2585     3.0     2.0     3.0     3.0  \n",
       "2586     4.0     4.0     4.0     3.0  \n",
       "2588     3.0     4.0     3.0     3.0  \n",
       "\n",
       "[2383 rows x 86 columns]"
      ]
     },
     "execution_count": 14,
     "metadata": {},
     "output_type": "execute_result"
    }
   ],
   "source": [
    "mid2"
   ]
  },
  {
   "cell_type": "code",
   "execution_count": 15,
   "id": "431eb0f3",
   "metadata": {},
   "outputs": [],
   "source": [
    "df2 = mid2[['무능력1','무능력2','무능력3','반감1', '반감2','반감3', '냉담1','냉담2', '탈진1','탈진2','탈진3', '탈진4']]"
   ]
  },
  {
   "cell_type": "code",
   "execution_count": 16,
   "id": "6b418b2c",
   "metadata": {
    "scrolled": true
   },
   "outputs": [
    {
     "data": {
      "text/html": [
       "<div>\n",
       "<style scoped>\n",
       "    .dataframe tbody tr th:only-of-type {\n",
       "        vertical-align: middle;\n",
       "    }\n",
       "\n",
       "    .dataframe tbody tr th {\n",
       "        vertical-align: top;\n",
       "    }\n",
       "\n",
       "    .dataframe thead th {\n",
       "        text-align: right;\n",
       "    }\n",
       "</style>\n",
       "<table border=\"1\" class=\"dataframe\">\n",
       "  <thead>\n",
       "    <tr style=\"text-align: right;\">\n",
       "      <th></th>\n",
       "      <th>무능력1</th>\n",
       "      <th>무능력2</th>\n",
       "      <th>무능력3</th>\n",
       "      <th>반감1</th>\n",
       "      <th>반감2</th>\n",
       "      <th>반감3</th>\n",
       "      <th>냉담1</th>\n",
       "      <th>냉담2</th>\n",
       "      <th>탈진1</th>\n",
       "      <th>탈진2</th>\n",
       "      <th>탈진3</th>\n",
       "      <th>탈진4</th>\n",
       "    </tr>\n",
       "  </thead>\n",
       "  <tbody>\n",
       "    <tr>\n",
       "      <th>0</th>\n",
       "      <td>2.0</td>\n",
       "      <td>2.0</td>\n",
       "      <td>1.0</td>\n",
       "      <td>1.0</td>\n",
       "      <td>3.0</td>\n",
       "      <td>2.0</td>\n",
       "      <td>2.0</td>\n",
       "      <td>3.0</td>\n",
       "      <td>3.0</td>\n",
       "      <td>2.0</td>\n",
       "      <td>2.0</td>\n",
       "      <td>2.0</td>\n",
       "    </tr>\n",
       "    <tr>\n",
       "      <th>1</th>\n",
       "      <td>2.0</td>\n",
       "      <td>2.0</td>\n",
       "      <td>2.0</td>\n",
       "      <td>2.0</td>\n",
       "      <td>2.0</td>\n",
       "      <td>2.0</td>\n",
       "      <td>3.0</td>\n",
       "      <td>2.0</td>\n",
       "      <td>3.0</td>\n",
       "      <td>2.0</td>\n",
       "      <td>2.0</td>\n",
       "      <td>3.0</td>\n",
       "    </tr>\n",
       "    <tr>\n",
       "      <th>2</th>\n",
       "      <td>2.0</td>\n",
       "      <td>2.0</td>\n",
       "      <td>2.0</td>\n",
       "      <td>2.0</td>\n",
       "      <td>2.0</td>\n",
       "      <td>2.0</td>\n",
       "      <td>2.0</td>\n",
       "      <td>1.0</td>\n",
       "      <td>2.0</td>\n",
       "      <td>2.0</td>\n",
       "      <td>2.0</td>\n",
       "      <td>2.0</td>\n",
       "    </tr>\n",
       "    <tr>\n",
       "      <th>3</th>\n",
       "      <td>2.0</td>\n",
       "      <td>2.0</td>\n",
       "      <td>2.0</td>\n",
       "      <td>2.0</td>\n",
       "      <td>2.0</td>\n",
       "      <td>2.0</td>\n",
       "      <td>2.0</td>\n",
       "      <td>2.0</td>\n",
       "      <td>2.0</td>\n",
       "      <td>2.0</td>\n",
       "      <td>2.0</td>\n",
       "      <td>1.0</td>\n",
       "    </tr>\n",
       "    <tr>\n",
       "      <th>6</th>\n",
       "      <td>1.0</td>\n",
       "      <td>1.0</td>\n",
       "      <td>1.0</td>\n",
       "      <td>1.0</td>\n",
       "      <td>4.0</td>\n",
       "      <td>2.0</td>\n",
       "      <td>2.0</td>\n",
       "      <td>3.0</td>\n",
       "      <td>3.0</td>\n",
       "      <td>3.0</td>\n",
       "      <td>2.0</td>\n",
       "      <td>3.0</td>\n",
       "    </tr>\n",
       "    <tr>\n",
       "      <th>...</th>\n",
       "      <td>...</td>\n",
       "      <td>...</td>\n",
       "      <td>...</td>\n",
       "      <td>...</td>\n",
       "      <td>...</td>\n",
       "      <td>...</td>\n",
       "      <td>...</td>\n",
       "      <td>...</td>\n",
       "      <td>...</td>\n",
       "      <td>...</td>\n",
       "      <td>...</td>\n",
       "      <td>...</td>\n",
       "    </tr>\n",
       "    <tr>\n",
       "      <th>2583</th>\n",
       "      <td>2.0</td>\n",
       "      <td>1.0</td>\n",
       "      <td>2.0</td>\n",
       "      <td>1.0</td>\n",
       "      <td>4.0</td>\n",
       "      <td>4.0</td>\n",
       "      <td>4.0</td>\n",
       "      <td>4.0</td>\n",
       "      <td>4.0</td>\n",
       "      <td>4.0</td>\n",
       "      <td>3.0</td>\n",
       "      <td>2.0</td>\n",
       "    </tr>\n",
       "    <tr>\n",
       "      <th>2584</th>\n",
       "      <td>1.0</td>\n",
       "      <td>1.0</td>\n",
       "      <td>1.0</td>\n",
       "      <td>1.0</td>\n",
       "      <td>1.0</td>\n",
       "      <td>1.0</td>\n",
       "      <td>1.0</td>\n",
       "      <td>1.0</td>\n",
       "      <td>1.0</td>\n",
       "      <td>1.0</td>\n",
       "      <td>1.0</td>\n",
       "      <td>1.0</td>\n",
       "    </tr>\n",
       "    <tr>\n",
       "      <th>2585</th>\n",
       "      <td>2.0</td>\n",
       "      <td>2.0</td>\n",
       "      <td>1.0</td>\n",
       "      <td>1.0</td>\n",
       "      <td>1.0</td>\n",
       "      <td>2.0</td>\n",
       "      <td>2.0</td>\n",
       "      <td>2.0</td>\n",
       "      <td>2.0</td>\n",
       "      <td>2.0</td>\n",
       "      <td>2.0</td>\n",
       "      <td>1.0</td>\n",
       "    </tr>\n",
       "    <tr>\n",
       "      <th>2586</th>\n",
       "      <td>1.0</td>\n",
       "      <td>1.0</td>\n",
       "      <td>1.0</td>\n",
       "      <td>1.0</td>\n",
       "      <td>1.0</td>\n",
       "      <td>1.0</td>\n",
       "      <td>1.0</td>\n",
       "      <td>1.0</td>\n",
       "      <td>2.0</td>\n",
       "      <td>2.0</td>\n",
       "      <td>1.0</td>\n",
       "      <td>1.0</td>\n",
       "    </tr>\n",
       "    <tr>\n",
       "      <th>2588</th>\n",
       "      <td>2.0</td>\n",
       "      <td>2.0</td>\n",
       "      <td>2.0</td>\n",
       "      <td>2.0</td>\n",
       "      <td>2.0</td>\n",
       "      <td>2.0</td>\n",
       "      <td>2.0</td>\n",
       "      <td>2.0</td>\n",
       "      <td>2.0</td>\n",
       "      <td>3.0</td>\n",
       "      <td>2.0</td>\n",
       "      <td>1.0</td>\n",
       "    </tr>\n",
       "  </tbody>\n",
       "</table>\n",
       "<p>2383 rows × 12 columns</p>\n",
       "</div>"
      ],
      "text/plain": [
       "      무능력1  무능력2  무능력3  반감1  반감2  반감3  냉담1  냉담2  탈진1  탈진2  탈진3  탈진4\n",
       "0      2.0   2.0   1.0  1.0  3.0  2.0  2.0  3.0  3.0  2.0  2.0  2.0\n",
       "1      2.0   2.0   2.0  2.0  2.0  2.0  3.0  2.0  3.0  2.0  2.0  3.0\n",
       "2      2.0   2.0   2.0  2.0  2.0  2.0  2.0  1.0  2.0  2.0  2.0  2.0\n",
       "3      2.0   2.0   2.0  2.0  2.0  2.0  2.0  2.0  2.0  2.0  2.0  1.0\n",
       "6      1.0   1.0   1.0  1.0  4.0  2.0  2.0  3.0  3.0  3.0  2.0  3.0\n",
       "...    ...   ...   ...  ...  ...  ...  ...  ...  ...  ...  ...  ...\n",
       "2583   2.0   1.0   2.0  1.0  4.0  4.0  4.0  4.0  4.0  4.0  3.0  2.0\n",
       "2584   1.0   1.0   1.0  1.0  1.0  1.0  1.0  1.0  1.0  1.0  1.0  1.0\n",
       "2585   2.0   2.0   1.0  1.0  1.0  2.0  2.0  2.0  2.0  2.0  2.0  1.0\n",
       "2586   1.0   1.0   1.0  1.0  1.0  1.0  1.0  1.0  2.0  2.0  1.0  1.0\n",
       "2588   2.0   2.0   2.0  2.0  2.0  2.0  2.0  2.0  2.0  3.0  2.0  1.0\n",
       "\n",
       "[2383 rows x 12 columns]"
      ]
     },
     "execution_count": 16,
     "metadata": {},
     "output_type": "execute_result"
    }
   ],
   "source": [
    "df2"
   ]
  },
  {
   "cell_type": "code",
   "execution_count": 17,
   "id": "5b80b0ab",
   "metadata": {},
   "outputs": [],
   "source": [
    "a = df2.sum(axis=1)"
   ]
  },
  {
   "cell_type": "code",
   "execution_count": 18,
   "id": "33279690",
   "metadata": {},
   "outputs": [],
   "source": [
    "b = df2.mean(axis =1)"
   ]
  },
  {
   "cell_type": "code",
   "execution_count": 19,
   "id": "9b3f1cbb",
   "metadata": {},
   "outputs": [],
   "source": [
    "df2['학업소진총점'] = a"
   ]
  },
  {
   "cell_type": "raw",
   "id": "44d710e8",
   "metadata": {},
   "source": [
    "from scipy import stats"
   ]
  },
  {
   "cell_type": "raw",
   "id": "cfd61c14",
   "metadata": {},
   "source": [
    "dataB['학업소진평균'] = b"
   ]
  },
  {
   "cell_type": "raw",
   "id": "e87a72c3",
   "metadata": {},
   "source": [
    "df2['학업소진총점']/86"
   ]
  },
  {
   "cell_type": "raw",
   "id": "5d03cb1d",
   "metadata": {},
   "source": [
    "b.mean()"
   ]
  },
  {
   "cell_type": "raw",
   "id": "293bb9a0",
   "metadata": {},
   "source": [
    "dataB['학업소진평균'] = b\n",
    "stats.shapiro(b)\n",
    "mu = 32.0\n",
    "result = stats.ttest_1samp(b, mu)\n",
    "print(result)"
   ]
  },
  {
   "cell_type": "raw",
   "id": "3ee8b23c",
   "metadata": {},
   "source": [
    "result = stats.ttest_1samp(b, mu)"
   ]
  },
  {
   "cell_type": "raw",
   "id": "478edebe",
   "metadata": {},
   "source": [
    "print(result)"
   ]
  },
  {
   "cell_type": "code",
   "execution_count": 20,
   "id": "49a6b6d3",
   "metadata": {
    "scrolled": false
   },
   "outputs": [
    {
     "data": {
      "text/html": [
       "<div>\n",
       "<style scoped>\n",
       "    .dataframe tbody tr th:only-of-type {\n",
       "        vertical-align: middle;\n",
       "    }\n",
       "\n",
       "    .dataframe tbody tr th {\n",
       "        vertical-align: top;\n",
       "    }\n",
       "\n",
       "    .dataframe thead th {\n",
       "        text-align: right;\n",
       "    }\n",
       "</style>\n",
       "<table border=\"1\" class=\"dataframe\">\n",
       "  <thead>\n",
       "    <tr style=\"text-align: right;\">\n",
       "      <th></th>\n",
       "      <th>무능력1</th>\n",
       "      <th>무능력2</th>\n",
       "      <th>무능력3</th>\n",
       "      <th>반감1</th>\n",
       "      <th>반감2</th>\n",
       "      <th>반감3</th>\n",
       "      <th>냉담1</th>\n",
       "      <th>냉담2</th>\n",
       "      <th>탈진1</th>\n",
       "      <th>탈진2</th>\n",
       "      <th>탈진3</th>\n",
       "      <th>탈진4</th>\n",
       "      <th>학업소진총점</th>\n",
       "    </tr>\n",
       "  </thead>\n",
       "  <tbody>\n",
       "    <tr>\n",
       "      <th>0</th>\n",
       "      <td>2.0</td>\n",
       "      <td>2.0</td>\n",
       "      <td>1.0</td>\n",
       "      <td>1.0</td>\n",
       "      <td>3.0</td>\n",
       "      <td>2.0</td>\n",
       "      <td>2.0</td>\n",
       "      <td>3.0</td>\n",
       "      <td>3.0</td>\n",
       "      <td>2.0</td>\n",
       "      <td>2.0</td>\n",
       "      <td>2.0</td>\n",
       "      <td>25.0</td>\n",
       "    </tr>\n",
       "    <tr>\n",
       "      <th>1</th>\n",
       "      <td>2.0</td>\n",
       "      <td>2.0</td>\n",
       "      <td>2.0</td>\n",
       "      <td>2.0</td>\n",
       "      <td>2.0</td>\n",
       "      <td>2.0</td>\n",
       "      <td>3.0</td>\n",
       "      <td>2.0</td>\n",
       "      <td>3.0</td>\n",
       "      <td>2.0</td>\n",
       "      <td>2.0</td>\n",
       "      <td>3.0</td>\n",
       "      <td>27.0</td>\n",
       "    </tr>\n",
       "    <tr>\n",
       "      <th>2</th>\n",
       "      <td>2.0</td>\n",
       "      <td>2.0</td>\n",
       "      <td>2.0</td>\n",
       "      <td>2.0</td>\n",
       "      <td>2.0</td>\n",
       "      <td>2.0</td>\n",
       "      <td>2.0</td>\n",
       "      <td>1.0</td>\n",
       "      <td>2.0</td>\n",
       "      <td>2.0</td>\n",
       "      <td>2.0</td>\n",
       "      <td>2.0</td>\n",
       "      <td>23.0</td>\n",
       "    </tr>\n",
       "    <tr>\n",
       "      <th>3</th>\n",
       "      <td>2.0</td>\n",
       "      <td>2.0</td>\n",
       "      <td>2.0</td>\n",
       "      <td>2.0</td>\n",
       "      <td>2.0</td>\n",
       "      <td>2.0</td>\n",
       "      <td>2.0</td>\n",
       "      <td>2.0</td>\n",
       "      <td>2.0</td>\n",
       "      <td>2.0</td>\n",
       "      <td>2.0</td>\n",
       "      <td>1.0</td>\n",
       "      <td>23.0</td>\n",
       "    </tr>\n",
       "    <tr>\n",
       "      <th>6</th>\n",
       "      <td>1.0</td>\n",
       "      <td>1.0</td>\n",
       "      <td>1.0</td>\n",
       "      <td>1.0</td>\n",
       "      <td>4.0</td>\n",
       "      <td>2.0</td>\n",
       "      <td>2.0</td>\n",
       "      <td>3.0</td>\n",
       "      <td>3.0</td>\n",
       "      <td>3.0</td>\n",
       "      <td>2.0</td>\n",
       "      <td>3.0</td>\n",
       "      <td>26.0</td>\n",
       "    </tr>\n",
       "    <tr>\n",
       "      <th>...</th>\n",
       "      <td>...</td>\n",
       "      <td>...</td>\n",
       "      <td>...</td>\n",
       "      <td>...</td>\n",
       "      <td>...</td>\n",
       "      <td>...</td>\n",
       "      <td>...</td>\n",
       "      <td>...</td>\n",
       "      <td>...</td>\n",
       "      <td>...</td>\n",
       "      <td>...</td>\n",
       "      <td>...</td>\n",
       "      <td>...</td>\n",
       "    </tr>\n",
       "    <tr>\n",
       "      <th>2583</th>\n",
       "      <td>2.0</td>\n",
       "      <td>1.0</td>\n",
       "      <td>2.0</td>\n",
       "      <td>1.0</td>\n",
       "      <td>4.0</td>\n",
       "      <td>4.0</td>\n",
       "      <td>4.0</td>\n",
       "      <td>4.0</td>\n",
       "      <td>4.0</td>\n",
       "      <td>4.0</td>\n",
       "      <td>3.0</td>\n",
       "      <td>2.0</td>\n",
       "      <td>35.0</td>\n",
       "    </tr>\n",
       "    <tr>\n",
       "      <th>2584</th>\n",
       "      <td>1.0</td>\n",
       "      <td>1.0</td>\n",
       "      <td>1.0</td>\n",
       "      <td>1.0</td>\n",
       "      <td>1.0</td>\n",
       "      <td>1.0</td>\n",
       "      <td>1.0</td>\n",
       "      <td>1.0</td>\n",
       "      <td>1.0</td>\n",
       "      <td>1.0</td>\n",
       "      <td>1.0</td>\n",
       "      <td>1.0</td>\n",
       "      <td>12.0</td>\n",
       "    </tr>\n",
       "    <tr>\n",
       "      <th>2585</th>\n",
       "      <td>2.0</td>\n",
       "      <td>2.0</td>\n",
       "      <td>1.0</td>\n",
       "      <td>1.0</td>\n",
       "      <td>1.0</td>\n",
       "      <td>2.0</td>\n",
       "      <td>2.0</td>\n",
       "      <td>2.0</td>\n",
       "      <td>2.0</td>\n",
       "      <td>2.0</td>\n",
       "      <td>2.0</td>\n",
       "      <td>1.0</td>\n",
       "      <td>20.0</td>\n",
       "    </tr>\n",
       "    <tr>\n",
       "      <th>2586</th>\n",
       "      <td>1.0</td>\n",
       "      <td>1.0</td>\n",
       "      <td>1.0</td>\n",
       "      <td>1.0</td>\n",
       "      <td>1.0</td>\n",
       "      <td>1.0</td>\n",
       "      <td>1.0</td>\n",
       "      <td>1.0</td>\n",
       "      <td>2.0</td>\n",
       "      <td>2.0</td>\n",
       "      <td>1.0</td>\n",
       "      <td>1.0</td>\n",
       "      <td>14.0</td>\n",
       "    </tr>\n",
       "    <tr>\n",
       "      <th>2588</th>\n",
       "      <td>2.0</td>\n",
       "      <td>2.0</td>\n",
       "      <td>2.0</td>\n",
       "      <td>2.0</td>\n",
       "      <td>2.0</td>\n",
       "      <td>2.0</td>\n",
       "      <td>2.0</td>\n",
       "      <td>2.0</td>\n",
       "      <td>2.0</td>\n",
       "      <td>3.0</td>\n",
       "      <td>2.0</td>\n",
       "      <td>1.0</td>\n",
       "      <td>24.0</td>\n",
       "    </tr>\n",
       "  </tbody>\n",
       "</table>\n",
       "<p>2383 rows × 13 columns</p>\n",
       "</div>"
      ],
      "text/plain": [
       "      무능력1  무능력2  무능력3  반감1  반감2  반감3  냉담1  냉담2  탈진1  탈진2  탈진3  탈진4  학업소진총점\n",
       "0      2.0   2.0   1.0  1.0  3.0  2.0  2.0  3.0  3.0  2.0  2.0  2.0    25.0\n",
       "1      2.0   2.0   2.0  2.0  2.0  2.0  3.0  2.0  3.0  2.0  2.0  3.0    27.0\n",
       "2      2.0   2.0   2.0  2.0  2.0  2.0  2.0  1.0  2.0  2.0  2.0  2.0    23.0\n",
       "3      2.0   2.0   2.0  2.0  2.0  2.0  2.0  2.0  2.0  2.0  2.0  1.0    23.0\n",
       "6      1.0   1.0   1.0  1.0  4.0  2.0  2.0  3.0  3.0  3.0  2.0  3.0    26.0\n",
       "...    ...   ...   ...  ...  ...  ...  ...  ...  ...  ...  ...  ...     ...\n",
       "2583   2.0   1.0   2.0  1.0  4.0  4.0  4.0  4.0  4.0  4.0  3.0  2.0    35.0\n",
       "2584   1.0   1.0   1.0  1.0  1.0  1.0  1.0  1.0  1.0  1.0  1.0  1.0    12.0\n",
       "2585   2.0   2.0   1.0  1.0  1.0  2.0  2.0  2.0  2.0  2.0  2.0  1.0    20.0\n",
       "2586   1.0   1.0   1.0  1.0  1.0  1.0  1.0  1.0  2.0  2.0  1.0  1.0    14.0\n",
       "2588   2.0   2.0   2.0  2.0  2.0  2.0  2.0  2.0  2.0  3.0  2.0  1.0    24.0\n",
       "\n",
       "[2383 rows x 13 columns]"
      ]
     },
     "execution_count": 20,
     "metadata": {},
     "output_type": "execute_result"
    }
   ],
   "source": [
    "df2"
   ]
  },
  {
   "cell_type": "code",
   "execution_count": 21,
   "id": "1547be1d",
   "metadata": {
    "scrolled": false
   },
   "outputs": [
    {
     "data": {
      "text/html": [
       "<div>\n",
       "<style scoped>\n",
       "    .dataframe tbody tr th:only-of-type {\n",
       "        vertical-align: middle;\n",
       "    }\n",
       "\n",
       "    .dataframe tbody tr th {\n",
       "        vertical-align: top;\n",
       "    }\n",
       "\n",
       "    .dataframe thead th {\n",
       "        text-align: right;\n",
       "    }\n",
       "</style>\n",
       "<table border=\"1\" class=\"dataframe\">\n",
       "  <thead>\n",
       "    <tr style=\"text-align: right;\">\n",
       "      <th></th>\n",
       "      <th>가구 ID</th>\n",
       "      <th>개인 ID</th>\n",
       "      <th>조사참여 여부: 청소년</th>\n",
       "      <th>시/도(학교 기준)</th>\n",
       "      <th>도시규모(학교 기준)</th>\n",
       "      <th>시/도(거주지 기준)</th>\n",
       "      <th>성별</th>\n",
       "      <th>부모관계1</th>\n",
       "      <th>부모관계2</th>\n",
       "      <th>무능력1</th>\n",
       "      <th>...</th>\n",
       "      <th>부모관계5</th>\n",
       "      <th>부모관계6</th>\n",
       "      <th>부모관계7</th>\n",
       "      <th>부모관계8</th>\n",
       "      <th>부모관계9</th>\n",
       "      <th>부모관계10</th>\n",
       "      <th>부모관계11</th>\n",
       "      <th>부모관계12</th>\n",
       "      <th>부모관계13</th>\n",
       "      <th>부모관계14</th>\n",
       "    </tr>\n",
       "  </thead>\n",
       "  <tbody>\n",
       "    <tr>\n",
       "      <th>0</th>\n",
       "      <td>1193</td>\n",
       "      <td>2</td>\n",
       "      <td>1</td>\n",
       "      <td>9.0</td>\n",
       "      <td>3.0</td>\n",
       "      <td>9.0</td>\n",
       "      <td>2.0</td>\n",
       "      <td>5.0</td>\n",
       "      <td>7.0</td>\n",
       "      <td>2.0</td>\n",
       "      <td>...</td>\n",
       "      <td>4.0</td>\n",
       "      <td>3.0</td>\n",
       "      <td>4.0</td>\n",
       "      <td>4.0</td>\n",
       "      <td>4.0</td>\n",
       "      <td>4.0</td>\n",
       "      <td>3.0</td>\n",
       "      <td>3.0</td>\n",
       "      <td>3.0</td>\n",
       "      <td>4.0</td>\n",
       "    </tr>\n",
       "    <tr>\n",
       "      <th>1</th>\n",
       "      <td>1285</td>\n",
       "      <td>2</td>\n",
       "      <td>1</td>\n",
       "      <td>9.0</td>\n",
       "      <td>2.0</td>\n",
       "      <td>9.0</td>\n",
       "      <td>1.0</td>\n",
       "      <td>3.0</td>\n",
       "      <td>4.0</td>\n",
       "      <td>2.0</td>\n",
       "      <td>...</td>\n",
       "      <td>3.0</td>\n",
       "      <td>3.0</td>\n",
       "      <td>3.0</td>\n",
       "      <td>3.0</td>\n",
       "      <td>3.0</td>\n",
       "      <td>3.0</td>\n",
       "      <td>2.0</td>\n",
       "      <td>3.0</td>\n",
       "      <td>2.0</td>\n",
       "      <td>2.0</td>\n",
       "    </tr>\n",
       "    <tr>\n",
       "      <th>2</th>\n",
       "      <td>1590</td>\n",
       "      <td>2</td>\n",
       "      <td>1</td>\n",
       "      <td>9.0</td>\n",
       "      <td>3.0</td>\n",
       "      <td>9.0</td>\n",
       "      <td>2.0</td>\n",
       "      <td>7.0</td>\n",
       "      <td>7.0</td>\n",
       "      <td>2.0</td>\n",
       "      <td>...</td>\n",
       "      <td>3.0</td>\n",
       "      <td>3.0</td>\n",
       "      <td>4.0</td>\n",
       "      <td>4.0</td>\n",
       "      <td>4.0</td>\n",
       "      <td>4.0</td>\n",
       "      <td>2.0</td>\n",
       "      <td>3.0</td>\n",
       "      <td>3.0</td>\n",
       "      <td>3.0</td>\n",
       "    </tr>\n",
       "    <tr>\n",
       "      <th>3</th>\n",
       "      <td>2079</td>\n",
       "      <td>2</td>\n",
       "      <td>1</td>\n",
       "      <td>13.0</td>\n",
       "      <td>3.0</td>\n",
       "      <td>13.0</td>\n",
       "      <td>2.0</td>\n",
       "      <td>5.0</td>\n",
       "      <td>5.0</td>\n",
       "      <td>2.0</td>\n",
       "      <td>...</td>\n",
       "      <td>4.0</td>\n",
       "      <td>4.0</td>\n",
       "      <td>4.0</td>\n",
       "      <td>4.0</td>\n",
       "      <td>4.0</td>\n",
       "      <td>4.0</td>\n",
       "      <td>2.0</td>\n",
       "      <td>4.0</td>\n",
       "      <td>4.0</td>\n",
       "      <td>3.0</td>\n",
       "    </tr>\n",
       "    <tr>\n",
       "      <th>6</th>\n",
       "      <td>2591</td>\n",
       "      <td>1</td>\n",
       "      <td>1</td>\n",
       "      <td>1.0</td>\n",
       "      <td>1.0</td>\n",
       "      <td>9.0</td>\n",
       "      <td>1.0</td>\n",
       "      <td>3.0</td>\n",
       "      <td>3.0</td>\n",
       "      <td>1.0</td>\n",
       "      <td>...</td>\n",
       "      <td>3.0</td>\n",
       "      <td>2.0</td>\n",
       "      <td>2.0</td>\n",
       "      <td>2.0</td>\n",
       "      <td>2.0</td>\n",
       "      <td>3.0</td>\n",
       "      <td>3.0</td>\n",
       "      <td>3.0</td>\n",
       "      <td>3.0</td>\n",
       "      <td>2.0</td>\n",
       "    </tr>\n",
       "    <tr>\n",
       "      <th>...</th>\n",
       "      <td>...</td>\n",
       "      <td>...</td>\n",
       "      <td>...</td>\n",
       "      <td>...</td>\n",
       "      <td>...</td>\n",
       "      <td>...</td>\n",
       "      <td>...</td>\n",
       "      <td>...</td>\n",
       "      <td>...</td>\n",
       "      <td>...</td>\n",
       "      <td>...</td>\n",
       "      <td>...</td>\n",
       "      <td>...</td>\n",
       "      <td>...</td>\n",
       "      <td>...</td>\n",
       "      <td>...</td>\n",
       "      <td>...</td>\n",
       "      <td>...</td>\n",
       "      <td>...</td>\n",
       "      <td>...</td>\n",
       "      <td>...</td>\n",
       "    </tr>\n",
       "    <tr>\n",
       "      <th>2583</th>\n",
       "      <td>5157</td>\n",
       "      <td>1</td>\n",
       "      <td>1</td>\n",
       "      <td>17.0</td>\n",
       "      <td>2.0</td>\n",
       "      <td>17.0</td>\n",
       "      <td>1.0</td>\n",
       "      <td>5.0</td>\n",
       "      <td>4.0</td>\n",
       "      <td>2.0</td>\n",
       "      <td>...</td>\n",
       "      <td>3.0</td>\n",
       "      <td>3.0</td>\n",
       "      <td>3.0</td>\n",
       "      <td>3.0</td>\n",
       "      <td>3.0</td>\n",
       "      <td>3.0</td>\n",
       "      <td>2.0</td>\n",
       "      <td>2.0</td>\n",
       "      <td>3.0</td>\n",
       "      <td>2.0</td>\n",
       "    </tr>\n",
       "    <tr>\n",
       "      <th>2584</th>\n",
       "      <td>5158</td>\n",
       "      <td>1</td>\n",
       "      <td>1</td>\n",
       "      <td>17.0</td>\n",
       "      <td>2.0</td>\n",
       "      <td>17.0</td>\n",
       "      <td>1.0</td>\n",
       "      <td>4.0</td>\n",
       "      <td>5.0</td>\n",
       "      <td>1.0</td>\n",
       "      <td>...</td>\n",
       "      <td>3.0</td>\n",
       "      <td>3.0</td>\n",
       "      <td>3.0</td>\n",
       "      <td>3.0</td>\n",
       "      <td>4.0</td>\n",
       "      <td>4.0</td>\n",
       "      <td>1.0</td>\n",
       "      <td>3.0</td>\n",
       "      <td>3.0</td>\n",
       "      <td>4.0</td>\n",
       "    </tr>\n",
       "    <tr>\n",
       "      <th>2585</th>\n",
       "      <td>5159</td>\n",
       "      <td>1</td>\n",
       "      <td>1</td>\n",
       "      <td>17.0</td>\n",
       "      <td>2.0</td>\n",
       "      <td>17.0</td>\n",
       "      <td>1.0</td>\n",
       "      <td>6.0</td>\n",
       "      <td>6.0</td>\n",
       "      <td>2.0</td>\n",
       "      <td>...</td>\n",
       "      <td>3.0</td>\n",
       "      <td>3.0</td>\n",
       "      <td>3.0</td>\n",
       "      <td>3.0</td>\n",
       "      <td>3.0</td>\n",
       "      <td>3.0</td>\n",
       "      <td>3.0</td>\n",
       "      <td>2.0</td>\n",
       "      <td>3.0</td>\n",
       "      <td>3.0</td>\n",
       "    </tr>\n",
       "    <tr>\n",
       "      <th>2586</th>\n",
       "      <td>5160</td>\n",
       "      <td>1</td>\n",
       "      <td>1</td>\n",
       "      <td>17.0</td>\n",
       "      <td>2.0</td>\n",
       "      <td>17.0</td>\n",
       "      <td>1.0</td>\n",
       "      <td>7.0</td>\n",
       "      <td>7.0</td>\n",
       "      <td>1.0</td>\n",
       "      <td>...</td>\n",
       "      <td>4.0</td>\n",
       "      <td>4.0</td>\n",
       "      <td>4.0</td>\n",
       "      <td>4.0</td>\n",
       "      <td>4.0</td>\n",
       "      <td>4.0</td>\n",
       "      <td>4.0</td>\n",
       "      <td>4.0</td>\n",
       "      <td>4.0</td>\n",
       "      <td>3.0</td>\n",
       "    </tr>\n",
       "    <tr>\n",
       "      <th>2588</th>\n",
       "      <td>780</td>\n",
       "      <td>2</td>\n",
       "      <td>1</td>\n",
       "      <td>4.0</td>\n",
       "      <td>1.0</td>\n",
       "      <td>4.0</td>\n",
       "      <td>1.0</td>\n",
       "      <td>4.0</td>\n",
       "      <td>5.0</td>\n",
       "      <td>2.0</td>\n",
       "      <td>...</td>\n",
       "      <td>3.0</td>\n",
       "      <td>3.0</td>\n",
       "      <td>2.0</td>\n",
       "      <td>3.0</td>\n",
       "      <td>3.0</td>\n",
       "      <td>3.0</td>\n",
       "      <td>3.0</td>\n",
       "      <td>4.0</td>\n",
       "      <td>3.0</td>\n",
       "      <td>3.0</td>\n",
       "    </tr>\n",
       "  </tbody>\n",
       "</table>\n",
       "<p>2383 rows × 86 columns</p>\n",
       "</div>"
      ],
      "text/plain": [
       "      가구 ID  개인 ID  조사참여 여부: 청소년  시/도(학교 기준)  도시규모(학교 기준)  시/도(거주지 기준)   성별  \\\n",
       "0      1193      2             1         9.0          3.0          9.0  2.0   \n",
       "1      1285      2             1         9.0          2.0          9.0  1.0   \n",
       "2      1590      2             1         9.0          3.0          9.0  2.0   \n",
       "3      2079      2             1        13.0          3.0         13.0  2.0   \n",
       "6      2591      1             1         1.0          1.0          9.0  1.0   \n",
       "...     ...    ...           ...         ...          ...          ...  ...   \n",
       "2583   5157      1             1        17.0          2.0         17.0  1.0   \n",
       "2584   5158      1             1        17.0          2.0         17.0  1.0   \n",
       "2585   5159      1             1        17.0          2.0         17.0  1.0   \n",
       "2586   5160      1             1        17.0          2.0         17.0  1.0   \n",
       "2588    780      2             1         4.0          1.0          4.0  1.0   \n",
       "\n",
       "      부모관계1  부모관계2  무능력1  ...  부모관계5  부모관계6  부모관계7  부모관계8  부모관계9  부모관계10  \\\n",
       "0       5.0    7.0   2.0  ...    4.0    3.0    4.0    4.0    4.0     4.0   \n",
       "1       3.0    4.0   2.0  ...    3.0    3.0    3.0    3.0    3.0     3.0   \n",
       "2       7.0    7.0   2.0  ...    3.0    3.0    4.0    4.0    4.0     4.0   \n",
       "3       5.0    5.0   2.0  ...    4.0    4.0    4.0    4.0    4.0     4.0   \n",
       "6       3.0    3.0   1.0  ...    3.0    2.0    2.0    2.0    2.0     3.0   \n",
       "...     ...    ...   ...  ...    ...    ...    ...    ...    ...     ...   \n",
       "2583    5.0    4.0   2.0  ...    3.0    3.0    3.0    3.0    3.0     3.0   \n",
       "2584    4.0    5.0   1.0  ...    3.0    3.0    3.0    3.0    4.0     4.0   \n",
       "2585    6.0    6.0   2.0  ...    3.0    3.0    3.0    3.0    3.0     3.0   \n",
       "2586    7.0    7.0   1.0  ...    4.0    4.0    4.0    4.0    4.0     4.0   \n",
       "2588    4.0    5.0   2.0  ...    3.0    3.0    2.0    3.0    3.0     3.0   \n",
       "\n",
       "      부모관계11  부모관계12  부모관계13  부모관계14  \n",
       "0        3.0     3.0     3.0     4.0  \n",
       "1        2.0     3.0     2.0     2.0  \n",
       "2        2.0     3.0     3.0     3.0  \n",
       "3        2.0     4.0     4.0     3.0  \n",
       "6        3.0     3.0     3.0     2.0  \n",
       "...      ...     ...     ...     ...  \n",
       "2583     2.0     2.0     3.0     2.0  \n",
       "2584     1.0     3.0     3.0     4.0  \n",
       "2585     3.0     2.0     3.0     3.0  \n",
       "2586     4.0     4.0     4.0     3.0  \n",
       "2588     3.0     4.0     3.0     3.0  \n",
       "\n",
       "[2383 rows x 86 columns]"
      ]
     },
     "execution_count": 21,
     "metadata": {},
     "output_type": "execute_result"
    }
   ],
   "source": [
    "mid2"
   ]
  },
  {
   "cell_type": "code",
   "execution_count": 22,
   "id": "a930711b",
   "metadata": {
    "scrolled": false
   },
   "outputs": [
    {
     "data": {
      "text/html": [
       "<div>\n",
       "<style scoped>\n",
       "    .dataframe tbody tr th:only-of-type {\n",
       "        vertical-align: middle;\n",
       "    }\n",
       "\n",
       "    .dataframe tbody tr th {\n",
       "        vertical-align: top;\n",
       "    }\n",
       "\n",
       "    .dataframe thead th {\n",
       "        text-align: right;\n",
       "    }\n",
       "</style>\n",
       "<table border=\"1\" class=\"dataframe\">\n",
       "  <thead>\n",
       "    <tr style=\"text-align: right;\">\n",
       "      <th></th>\n",
       "      <th>가구 ID</th>\n",
       "      <th>개인 ID</th>\n",
       "      <th>조사참여 여부: 청소년</th>\n",
       "      <th>시/도(학교 기준)</th>\n",
       "      <th>도시규모(학교 기준)</th>\n",
       "      <th>시/도(거주지 기준)</th>\n",
       "      <th>성별</th>\n",
       "      <th>부모관계1</th>\n",
       "      <th>부모관계2</th>\n",
       "      <th>무능력1</th>\n",
       "      <th>...</th>\n",
       "      <th>부모관계5</th>\n",
       "      <th>부모관계6</th>\n",
       "      <th>부모관계7</th>\n",
       "      <th>부모관계8</th>\n",
       "      <th>부모관계9</th>\n",
       "      <th>부모관계10</th>\n",
       "      <th>부모관계11</th>\n",
       "      <th>부모관계12</th>\n",
       "      <th>부모관계13</th>\n",
       "      <th>부모관계14</th>\n",
       "    </tr>\n",
       "  </thead>\n",
       "  <tbody>\n",
       "    <tr>\n",
       "      <th>count</th>\n",
       "      <td>2383.000000</td>\n",
       "      <td>2383.000000</td>\n",
       "      <td>2383.0</td>\n",
       "      <td>2383.000000</td>\n",
       "      <td>2383.000000</td>\n",
       "      <td>2383.000000</td>\n",
       "      <td>2383.000000</td>\n",
       "      <td>2383.000000</td>\n",
       "      <td>2383.000000</td>\n",
       "      <td>2383.000000</td>\n",
       "      <td>...</td>\n",
       "      <td>2383.000000</td>\n",
       "      <td>2383.000000</td>\n",
       "      <td>2383.000000</td>\n",
       "      <td>2383.000000</td>\n",
       "      <td>2383.000000</td>\n",
       "      <td>2383.000000</td>\n",
       "      <td>2383.000000</td>\n",
       "      <td>2383.000000</td>\n",
       "      <td>2383.000000</td>\n",
       "      <td>2383.000000</td>\n",
       "    </tr>\n",
       "    <tr>\n",
       "      <th>mean</th>\n",
       "      <td>3860.612673</td>\n",
       "      <td>1.006714</td>\n",
       "      <td>1.0</td>\n",
       "      <td>7.814939</td>\n",
       "      <td>1.730172</td>\n",
       "      <td>7.827948</td>\n",
       "      <td>1.463701</td>\n",
       "      <td>3.812841</td>\n",
       "      <td>4.512799</td>\n",
       "      <td>2.086026</td>\n",
       "      <td>...</td>\n",
       "      <td>3.281158</td>\n",
       "      <td>3.227025</td>\n",
       "      <td>3.262274</td>\n",
       "      <td>3.253462</td>\n",
       "      <td>3.231641</td>\n",
       "      <td>3.193454</td>\n",
       "      <td>2.813261</td>\n",
       "      <td>3.021821</td>\n",
       "      <td>3.099035</td>\n",
       "      <td>2.970206</td>\n",
       "    </tr>\n",
       "    <tr>\n",
       "      <th>std</th>\n",
       "      <td>745.769939</td>\n",
       "      <td>0.081682</td>\n",
       "      <td>0.0</td>\n",
       "      <td>4.897582</td>\n",
       "      <td>0.703685</td>\n",
       "      <td>4.888662</td>\n",
       "      <td>0.498785</td>\n",
       "      <td>1.336142</td>\n",
       "      <td>1.412336</td>\n",
       "      <td>0.704837</td>\n",
       "      <td>...</td>\n",
       "      <td>0.633392</td>\n",
       "      <td>0.669655</td>\n",
       "      <td>0.599145</td>\n",
       "      <td>0.632492</td>\n",
       "      <td>0.660806</td>\n",
       "      <td>0.672045</td>\n",
       "      <td>0.663901</td>\n",
       "      <td>0.690850</td>\n",
       "      <td>0.645539</td>\n",
       "      <td>0.697508</td>\n",
       "    </tr>\n",
       "    <tr>\n",
       "      <th>min</th>\n",
       "      <td>780.000000</td>\n",
       "      <td>1.000000</td>\n",
       "      <td>1.0</td>\n",
       "      <td>1.000000</td>\n",
       "      <td>1.000000</td>\n",
       "      <td>1.000000</td>\n",
       "      <td>1.000000</td>\n",
       "      <td>1.000000</td>\n",
       "      <td>1.000000</td>\n",
       "      <td>1.000000</td>\n",
       "      <td>...</td>\n",
       "      <td>1.000000</td>\n",
       "      <td>1.000000</td>\n",
       "      <td>1.000000</td>\n",
       "      <td>1.000000</td>\n",
       "      <td>1.000000</td>\n",
       "      <td>1.000000</td>\n",
       "      <td>1.000000</td>\n",
       "      <td>1.000000</td>\n",
       "      <td>1.000000</td>\n",
       "      <td>1.000000</td>\n",
       "    </tr>\n",
       "    <tr>\n",
       "      <th>25%</th>\n",
       "      <td>3234.500000</td>\n",
       "      <td>1.000000</td>\n",
       "      <td>1.0</td>\n",
       "      <td>3.000000</td>\n",
       "      <td>1.000000</td>\n",
       "      <td>3.000000</td>\n",
       "      <td>1.000000</td>\n",
       "      <td>3.000000</td>\n",
       "      <td>4.000000</td>\n",
       "      <td>2.000000</td>\n",
       "      <td>...</td>\n",
       "      <td>3.000000</td>\n",
       "      <td>3.000000</td>\n",
       "      <td>3.000000</td>\n",
       "      <td>3.000000</td>\n",
       "      <td>3.000000</td>\n",
       "      <td>3.000000</td>\n",
       "      <td>2.000000</td>\n",
       "      <td>3.000000</td>\n",
       "      <td>3.000000</td>\n",
       "      <td>3.000000</td>\n",
       "    </tr>\n",
       "    <tr>\n",
       "      <th>50%</th>\n",
       "      <td>3857.000000</td>\n",
       "      <td>1.000000</td>\n",
       "      <td>1.0</td>\n",
       "      <td>9.000000</td>\n",
       "      <td>2.000000</td>\n",
       "      <td>9.000000</td>\n",
       "      <td>1.000000</td>\n",
       "      <td>4.000000</td>\n",
       "      <td>4.000000</td>\n",
       "      <td>2.000000</td>\n",
       "      <td>...</td>\n",
       "      <td>3.000000</td>\n",
       "      <td>3.000000</td>\n",
       "      <td>3.000000</td>\n",
       "      <td>3.000000</td>\n",
       "      <td>3.000000</td>\n",
       "      <td>3.000000</td>\n",
       "      <td>3.000000</td>\n",
       "      <td>3.000000</td>\n",
       "      <td>3.000000</td>\n",
       "      <td>3.000000</td>\n",
       "    </tr>\n",
       "    <tr>\n",
       "      <th>75%</th>\n",
       "      <td>4506.500000</td>\n",
       "      <td>1.000000</td>\n",
       "      <td>1.0</td>\n",
       "      <td>11.000000</td>\n",
       "      <td>2.000000</td>\n",
       "      <td>11.000000</td>\n",
       "      <td>2.000000</td>\n",
       "      <td>5.000000</td>\n",
       "      <td>5.000000</td>\n",
       "      <td>3.000000</td>\n",
       "      <td>...</td>\n",
       "      <td>4.000000</td>\n",
       "      <td>4.000000</td>\n",
       "      <td>4.000000</td>\n",
       "      <td>4.000000</td>\n",
       "      <td>4.000000</td>\n",
       "      <td>4.000000</td>\n",
       "      <td>3.000000</td>\n",
       "      <td>3.000000</td>\n",
       "      <td>3.000000</td>\n",
       "      <td>3.000000</td>\n",
       "    </tr>\n",
       "    <tr>\n",
       "      <th>max</th>\n",
       "      <td>5160.000000</td>\n",
       "      <td>2.000000</td>\n",
       "      <td>1.0</td>\n",
       "      <td>17.000000</td>\n",
       "      <td>3.000000</td>\n",
       "      <td>17.000000</td>\n",
       "      <td>2.000000</td>\n",
       "      <td>7.000000</td>\n",
       "      <td>7.000000</td>\n",
       "      <td>4.000000</td>\n",
       "      <td>...</td>\n",
       "      <td>4.000000</td>\n",
       "      <td>4.000000</td>\n",
       "      <td>4.000000</td>\n",
       "      <td>4.000000</td>\n",
       "      <td>4.000000</td>\n",
       "      <td>4.000000</td>\n",
       "      <td>4.000000</td>\n",
       "      <td>4.000000</td>\n",
       "      <td>4.000000</td>\n",
       "      <td>4.000000</td>\n",
       "    </tr>\n",
       "  </tbody>\n",
       "</table>\n",
       "<p>8 rows × 86 columns</p>\n",
       "</div>"
      ],
      "text/plain": [
       "             가구 ID        개인 ID  조사참여 여부: 청소년   시/도(학교 기준)  도시규모(학교 기준)  \\\n",
       "count  2383.000000  2383.000000        2383.0  2383.000000  2383.000000   \n",
       "mean   3860.612673     1.006714           1.0     7.814939     1.730172   \n",
       "std     745.769939     0.081682           0.0     4.897582     0.703685   \n",
       "min     780.000000     1.000000           1.0     1.000000     1.000000   \n",
       "25%    3234.500000     1.000000           1.0     3.000000     1.000000   \n",
       "50%    3857.000000     1.000000           1.0     9.000000     2.000000   \n",
       "75%    4506.500000     1.000000           1.0    11.000000     2.000000   \n",
       "max    5160.000000     2.000000           1.0    17.000000     3.000000   \n",
       "\n",
       "       시/도(거주지 기준)           성별        부모관계1        부모관계2         무능력1  ...  \\\n",
       "count  2383.000000  2383.000000  2383.000000  2383.000000  2383.000000  ...   \n",
       "mean      7.827948     1.463701     3.812841     4.512799     2.086026  ...   \n",
       "std       4.888662     0.498785     1.336142     1.412336     0.704837  ...   \n",
       "min       1.000000     1.000000     1.000000     1.000000     1.000000  ...   \n",
       "25%       3.000000     1.000000     3.000000     4.000000     2.000000  ...   \n",
       "50%       9.000000     1.000000     4.000000     4.000000     2.000000  ...   \n",
       "75%      11.000000     2.000000     5.000000     5.000000     3.000000  ...   \n",
       "max      17.000000     2.000000     7.000000     7.000000     4.000000  ...   \n",
       "\n",
       "             부모관계5        부모관계6        부모관계7        부모관계8        부모관계9  \\\n",
       "count  2383.000000  2383.000000  2383.000000  2383.000000  2383.000000   \n",
       "mean      3.281158     3.227025     3.262274     3.253462     3.231641   \n",
       "std       0.633392     0.669655     0.599145     0.632492     0.660806   \n",
       "min       1.000000     1.000000     1.000000     1.000000     1.000000   \n",
       "25%       3.000000     3.000000     3.000000     3.000000     3.000000   \n",
       "50%       3.000000     3.000000     3.000000     3.000000     3.000000   \n",
       "75%       4.000000     4.000000     4.000000     4.000000     4.000000   \n",
       "max       4.000000     4.000000     4.000000     4.000000     4.000000   \n",
       "\n",
       "            부모관계10       부모관계11       부모관계12       부모관계13       부모관계14  \n",
       "count  2383.000000  2383.000000  2383.000000  2383.000000  2383.000000  \n",
       "mean      3.193454     2.813261     3.021821     3.099035     2.970206  \n",
       "std       0.672045     0.663901     0.690850     0.645539     0.697508  \n",
       "min       1.000000     1.000000     1.000000     1.000000     1.000000  \n",
       "25%       3.000000     2.000000     3.000000     3.000000     3.000000  \n",
       "50%       3.000000     3.000000     3.000000     3.000000     3.000000  \n",
       "75%       4.000000     3.000000     3.000000     3.000000     3.000000  \n",
       "max       4.000000     4.000000     4.000000     4.000000     4.000000  \n",
       "\n",
       "[8 rows x 86 columns]"
      ]
     },
     "execution_count": 22,
     "metadata": {},
     "output_type": "execute_result"
    }
   ],
   "source": [
    "mid2.describe(include='all')"
   ]
  },
  {
   "cell_type": "code",
   "execution_count": 23,
   "id": "587ecf2e",
   "metadata": {},
   "outputs": [
    {
     "data": {
      "image/png": "[encoded data removed]",
      "text/plain": [
       "<Figure size 640x480 with 1 Axes>"
      ]
     },
     "metadata": {},
     "output_type": "display_data"
    }
   ],
   "source": [
    "mid2['성별'].value_counts().plot(kind='bar') # 1 = 남성, 2 = 여성\n",
    "plt.show()"
   ]
  },
  {
   "cell_type": "code",
   "execution_count": null,
   "id": "cdd664e6",
   "metadata": {},
   "outputs": [],
   "source": []
  },
  {
   "cell_type": "raw",
   "id": "2a6bf242",
   "metadata": {},
   "source": [
    "데이터 정규화"
   ]
  },
  {
   "cell_type": "raw",
   "id": "c3249872",
   "metadata": {},
   "source": [
    "from sklearn.preprocessing import MinMaxScaler"
   ]
  },
  {
   "cell_type": "raw",
   "id": "2679c8df",
   "metadata": {},
   "source": [
    "scaler = MinMaxScaler()"
   ]
  },
  {
   "cell_type": "code",
   "execution_count": 24,
   "id": "e3919cb9",
   "metadata": {},
   "outputs": [],
   "source": [
    "df = mid2.copy()"
   ]
  },
  {
   "cell_type": "raw",
   "id": "c6355aa8",
   "metadata": {},
   "source": [
    "df['학업소진평균'] = df2['학업소진평균']"
   ]
  },
  {
   "cell_type": "raw",
   "id": "89cd279f",
   "metadata": {},
   "source": [
    "df[:] = scaler.fit_transform(df[:])"
   ]
  },
  {
   "cell_type": "raw",
   "id": "0e260bd0",
   "metadata": {
    "scrolled": true
   },
   "source": [
    "df.head"
   ]
  },
  {
   "cell_type": "code",
   "execution_count": 25,
   "id": "4c6a9744",
   "metadata": {
    "scrolled": false
   },
   "outputs": [
    {
     "data": {
      "text/plain": [
       "Index(['가구 ID', '개인 ID', '조사참여 여부: 청소년', '시/도(학교 기준)', '도시규모(학교 기준)',\n",
       "       '시/도(거주지 기준)', '성별', '부모관계1', '부모관계2', '무능력1', '무능력2', '무능력3', '반감1',\n",
       "       '반감2', '반감3', '냉담1', '냉담2', '탈진1', '탈진2', '탈진3', '탈진4', '자아존중감1',\n",
       "       '자아존중감2', '자아존중감3', '자아존중감4', '자아존중감5', '자아존중감6', '자아존중감7', '자아존중감8',\n",
       "       '자아존중감9', '자아존중감10', '주의집중1', '주의집중2', '주의집중3', '주의집중4', '주의집중5',\n",
       "       '주의집중6', '주의집중7', '우울1', '우울2', '우울3', '우울4', '우울5', '우울6', '우울7',\n",
       "       '우울8', '우울9', '우울10', '그릿1', '그릿2', '그릿3', '그릿4', '그릿5', '그릿6', '그릿7',\n",
       "       '그릿8', '친구관계1', '친구관계2', '친구관계3', '친구관계4', '친구관계5', '친구관계6', '친구관계7',\n",
       "       '친구관계8', '교사관계1', '교사관계2', '교사관계3', '교사관계4', '교사관계5', '교사관계6', '교사관계7',\n",
       "       '교사관계8', '교사관계9', '교사관계10', '부모관계3', '부모관계4', '부모관계5', '부모관계6', '부모관계7',\n",
       "       '부모관계8', '부모관계9', '부모관계10', '부모관계11', '부모관계12', '부모관계13', '부모관계14'],\n",
       "      dtype='object')"
      ]
     },
     "execution_count": 25,
     "metadata": {},
     "output_type": "execute_result"
    }
   ],
   "source": [
    "df.columns"
   ]
  },
  {
   "cell_type": "code",
   "execution_count": 26,
   "id": "280c1e1f",
   "metadata": {},
   "outputs": [],
   "source": [
    "c1 = pd.read_csv('요인.csv',encoding='cp949')"
   ]
  },
  {
   "cell_type": "code",
   "execution_count": 27,
   "id": "c2bd861a",
   "metadata": {
    "scrolled": true
   },
   "outputs": [],
   "source": [
    "pr = df[['부모관계3','부모관계4','부모관계5','부모관계6','부모관계7','부모관계8','부모관계9','부모관계10','부모관계11','부모관계12','부모관계13','부모관계14']]"
   ]
  },
  {
   "cell_type": "code",
   "execution_count": 28,
   "id": "f5250e6f",
   "metadata": {},
   "outputs": [],
   "source": [
    "pr2 = c1[['부모관계3','부모관계4','부모관계5','부모관계6','부모관계7','부모관계8','부모관계9','부모관계10','부모관계11','부모관계12','부모관계13','부모관계14']]"
   ]
  },
  {
   "cell_type": "code",
   "execution_count": 29,
   "id": "93ae699c",
   "metadata": {
    "scrolled": true
   },
   "outputs": [],
   "source": [
    "m1 = pr2.mean(axis=1)"
   ]
  },
  {
   "cell_type": "code",
   "execution_count": 30,
   "id": "b7e86ddc",
   "metadata": {},
   "outputs": [],
   "source": [
    "fr = df[['친구관계1', '친구관계2', '친구관계3', '친구관계4', '친구관계5', '친구관계6', '친구관계7','친구관계8']]"
   ]
  },
  {
   "cell_type": "code",
   "execution_count": 31,
   "id": "47d800ad",
   "metadata": {},
   "outputs": [],
   "source": [
    "fr2 = c1[['친구관계1', '친구관계2', '친구관계3', '친구관계4', '친구관계5', '친구관계6', '친구관계7','친구관계8']]"
   ]
  },
  {
   "cell_type": "code",
   "execution_count": 32,
   "id": "8b0c0b42",
   "metadata": {
    "scrolled": false
   },
   "outputs": [],
   "source": [
    "m2 = fr2.mean(axis=1)"
   ]
  },
  {
   "cell_type": "code",
   "execution_count": 33,
   "id": "df7a5e7b",
   "metadata": {},
   "outputs": [],
   "source": [
    "tr = df[['교사관계1', '교사관계2','교사관계3', '교사관계4', '교사관계5', '교사관계6', '교사관계7','교사관계8', '교사관계9', '교사관계10']]"
   ]
  },
  {
   "cell_type": "code",
   "execution_count": 34,
   "id": "65249d15",
   "metadata": {},
   "outputs": [],
   "source": [
    "tr2 = c1[['교사관계1', '교사관계2','교사관계3', '교사관계4', '교사관계5', '교사관계6', '교사관계7','교사관계8', '교사관계9', '교사관계10']]"
   ]
  },
  {
   "cell_type": "code",
   "execution_count": 35,
   "id": "d8a09a96",
   "metadata": {},
   "outputs": [],
   "source": [
    "m3 = tr2.mean(axis=1)"
   ]
  },
  {
   "cell_type": "code",
   "execution_count": 36,
   "id": "ec83088a",
   "metadata": {},
   "outputs": [],
   "source": [
    "se = df[['자아존중감1', '자아존중감2', '자아존중감3','자아존중감4', '자아존중감5', '자아존중감6', '자아존중감7','자아존중감8', '자아존중감9', '자아존중감10']]"
   ]
  },
  {
   "cell_type": "code",
   "execution_count": 37,
   "id": "86c1388e",
   "metadata": {},
   "outputs": [],
   "source": [
    "se2 = c1[['자아존중감1', '자아존중감2', '자아존중감3','자아존중감4', '자아존중감5', '자아존중감6', '자아존중감7','자아존중감8', '자아존중감9', '자아존중감10']]"
   ]
  },
  {
   "cell_type": "code",
   "execution_count": 38,
   "id": "1af60ae3",
   "metadata": {},
   "outputs": [],
   "source": [
    "m4 = se2.mean(axis=1)"
   ]
  },
  {
   "cell_type": "code",
   "execution_count": 39,
   "id": "c81459e7",
   "metadata": {},
   "outputs": [],
   "source": [
    "depress= df[['우울1', '우울2', '우울3', '우울4', '우울5', '우울6', '우울7','우울8', '우울9', '우울10']]"
   ]
  },
  {
   "cell_type": "code",
   "execution_count": 40,
   "id": "239b0f0a",
   "metadata": {},
   "outputs": [],
   "source": [
    "depress2= c1[['우울1', '우울2', '우울3', '우울4', '우울5', '우울6', '우울7','우울8', '우울9', '우울10']]"
   ]
  },
  {
   "cell_type": "code",
   "execution_count": 41,
   "id": "c77457e1",
   "metadata": {
    "scrolled": false
   },
   "outputs": [],
   "source": [
    "m5 = depress2.mean(axis=1)"
   ]
  },
  {
   "cell_type": "code",
   "execution_count": 42,
   "id": "662906e7",
   "metadata": {},
   "outputs": [],
   "source": [
    "attention = df[[ '주의집중1', '주의집중2', '주의집중3', '주의집중4', '주의집중5','주의집중6', '주의집중7']]"
   ]
  },
  {
   "cell_type": "code",
   "execution_count": 43,
   "id": "cd423f40",
   "metadata": {},
   "outputs": [],
   "source": [
    "attention2 = c1[[ '주의집중1', '주의집중2', '주의집중3', '주의집중4', '주의집중5','주의집중6', '주의집중7']]"
   ]
  },
  {
   "cell_type": "code",
   "execution_count": 44,
   "id": "ec8cf997",
   "metadata": {},
   "outputs": [],
   "source": [
    "m6 = attention2.mean(axis=1)"
   ]
  },
  {
   "cell_type": "code",
   "execution_count": 47,
   "id": "08e3de5d",
   "metadata": {
    "scrolled": false
   },
   "outputs": [],
   "source": [
    "s1 =[[pr2,fr2,tr2,se2,depress2,attention2,grit2]]"
   ]
  },
  {
   "cell_type": "code",
   "execution_count": 49,
   "id": "56f6f52e",
   "metadata": {},
   "outputs": [
    {
     "data": {
      "text/plain": [
       "[[           부모관계3       부모관계4       부모관계5       부모관계6       부모관계7       부모관계8  \\\n",
       "  0     100.000000  100.000000  100.000000   66.666667  100.000000  100.000000   \n",
       "  1      66.666667   66.666667   66.666667   66.666667   66.666667   66.666667   \n",
       "  2      66.666667   66.666667   66.666667   66.666667  100.000000  100.000000   \n",
       "  3     100.000000  100.000000  100.000000  100.000000  100.000000  100.000000   \n",
       "  4      66.666667   66.666667   66.666667   33.333333   33.333333   33.333333   \n",
       "  ...          ...         ...         ...         ...         ...         ...   \n",
       "  2378   66.666667   66.666667   66.666667   66.666667   66.666667   66.666667   \n",
       "  2379   66.666667   66.666667   66.666667   66.666667   66.666667   66.666667   \n",
       "  2380   66.666667   66.666667   66.666667   66.666667   66.666667   66.666667   \n",
       "  2381  100.000000  100.000000  100.000000  100.000000  100.000000  100.000000   \n",
       "  2382   66.666667   66.666667   66.666667   66.666667   33.333333   66.666667   \n",
       "  \n",
       "             부모관계9      부모관계10      부모관계11      부모관계12      부모관계13      부모관계14  \n",
       "  0     100.000000  100.000000   66.666667   66.666667   66.666667  100.000000  \n",
       "  1      66.666667   66.666667   33.333333   66.666667   33.333333   33.333333  \n",
       "  2     100.000000  100.000000   33.333333   66.666667   66.666667   66.666667  \n",
       "  3     100.000000  100.000000   33.333333  100.000000  100.000000   66.666667  \n",
       "  4      33.333333   66.666667   66.666667   66.666667   66.666667   33.333333  \n",
       "  ...          ...         ...         ...         ...         ...         ...  \n",
       "  2378   66.666667   66.666667   33.333333   33.333333   66.666667   33.333333  \n",
       "  2379  100.000000  100.000000    0.000000   66.666667   66.666667  100.000000  \n",
       "  2380   66.666667   66.666667   66.666667   33.333333   66.666667   66.666667  \n",
       "  2381  100.000000  100.000000  100.000000  100.000000  100.000000   66.666667  \n",
       "  2382   66.666667   66.666667   66.666667  100.000000   66.666667   66.666667  \n",
       "  \n",
       "  [2383 rows x 12 columns],\n",
       "             친구관계1       친구관계2      친구관계3      친구관계4       친구관계5       친구관계6  \\\n",
       "  0     100.000000  100.000000  66.666667  66.666667   66.666667   66.666667   \n",
       "  1     100.000000   33.333333  66.666667  66.666667   66.666667   66.666667   \n",
       "  2      66.666667   66.666667  66.666667  66.666667   66.666667   66.666667   \n",
       "  3      33.333333   66.666667  66.666667  66.666667   66.666667   66.666667   \n",
       "  4     100.000000   66.666667  66.666667  66.666667   66.666667   66.666667   \n",
       "  ...          ...         ...        ...        ...         ...         ...   \n",
       "  2378   33.333333    0.000000  33.333333  66.666667   66.666667    0.000000   \n",
       "  2379   33.333333   33.333333  66.666667   0.000000   66.666667   66.666667   \n",
       "  2380   66.666667   66.666667  66.666667  66.666667   66.666667   66.666667   \n",
       "  2381  100.000000   66.666667  66.666667  66.666667  100.000000  100.000000   \n",
       "  2382   33.333333   33.333333   0.000000   0.000000   66.666667   66.666667   \n",
       "  \n",
       "             친구관계7       친구관계8  \n",
       "  0      66.666667  100.000000  \n",
       "  1      66.666667  100.000000  \n",
       "  2      66.666667   66.666667  \n",
       "  3      66.666667   66.666667  \n",
       "  4      66.666667  100.000000  \n",
       "  ...          ...         ...  \n",
       "  2378    0.000000   33.333333  \n",
       "  2379   66.666667   66.666667  \n",
       "  2380  100.000000  100.000000  \n",
       "  2381  100.000000  100.000000  \n",
       "  2382   66.666667   33.333333  \n",
       "  \n",
       "  [2383 rows x 8 columns],\n",
       "             교사관계1       교사관계2       교사관계3       교사관계4       교사관계5       교사관계6  \\\n",
       "  0      33.333333    0.000000   66.666667   66.666667    0.000000   66.666667   \n",
       "  1      33.333333   33.333333   66.666667   33.333333   33.333333   33.333333   \n",
       "  2      66.666667   66.666667   33.333333   33.333333   33.333333   33.333333   \n",
       "  3      66.666667   66.666667   66.666667   66.666667   66.666667   66.666667   \n",
       "  4      33.333333  100.000000  100.000000  100.000000   66.666667   66.666667   \n",
       "  ...          ...         ...         ...         ...         ...         ...   \n",
       "  2378   66.666667   66.666667   33.333333   33.333333   33.333333   33.333333   \n",
       "  2379   66.666667  100.000000  100.000000  100.000000  100.000000  100.000000   \n",
       "  2380   66.666667   66.666667   66.666667   66.666667   66.666667   66.666667   \n",
       "  2381   33.333333  100.000000  100.000000  100.000000   66.666667   66.666667   \n",
       "  2382  100.000000   66.666667  100.000000  100.000000   66.666667   66.666667   \n",
       "  \n",
       "             교사관계7       교사관계8       교사관계9      교사관계10  \n",
       "  0      33.333333   66.666667   66.666667    0.000000  \n",
       "  1      66.666667   33.333333   33.333333   33.333333  \n",
       "  2      66.666667   33.333333   33.333333   66.666667  \n",
       "  3      66.666667   66.666667   33.333333   66.666667  \n",
       "  4     100.000000  100.000000  100.000000   66.666667  \n",
       "  ...          ...         ...         ...         ...  \n",
       "  2378   66.666667   33.333333    0.000000   33.333333  \n",
       "  2379  100.000000  100.000000  100.000000  100.000000  \n",
       "  2380   66.666667  100.000000   66.666667   66.666667  \n",
       "  2381  100.000000  100.000000  100.000000   66.666667  \n",
       "  2382   66.666667   66.666667   66.666667   66.666667  \n",
       "  \n",
       "  [2383 rows x 10 columns],\n",
       "            자아존중감1      자아존중감2      자아존중감3      자아존중감4      자아존중감5     자아존중감6  \\\n",
       "  0     100.000000   33.333333  100.000000  100.000000   33.333333  33.333333   \n",
       "  1      66.666667   33.333333   66.666667   66.666667    0.000000  33.333333   \n",
       "  2      66.666667    0.000000   66.666667   66.666667    0.000000   0.000000   \n",
       "  3      33.333333   66.666667   33.333333   66.666667   33.333333  66.666667   \n",
       "  4      66.666667    0.000000   66.666667   66.666667    0.000000   0.000000   \n",
       "  ...          ...         ...         ...         ...         ...        ...   \n",
       "  2378  100.000000  100.000000    0.000000   33.333333  100.000000  66.666667   \n",
       "  2379  100.000000    0.000000   66.666667   66.666667    0.000000   0.000000   \n",
       "  2380   66.666667    0.000000   66.666667   66.666667   33.333333  33.333333   \n",
       "  2381  100.000000   33.333333  100.000000  100.000000    0.000000  33.333333   \n",
       "  2382   33.333333   33.333333   66.666667   66.666667   33.333333  33.333333   \n",
       "  \n",
       "            자아존중감7      자아존중감8     자아존중감9     자아존중감10  \n",
       "  0     100.000000  100.000000  33.333333  100.000000  \n",
       "  1      66.666667   66.666667   0.000000   66.666667  \n",
       "  2      66.666667   66.666667   0.000000   66.666667  \n",
       "  3      66.666667  100.000000  66.666667   33.333333  \n",
       "  4      66.666667   66.666667   0.000000  100.000000  \n",
       "  ...          ...         ...        ...         ...  \n",
       "  2378   33.333333   33.333333  66.666667   66.666667  \n",
       "  2379  100.000000    0.000000   0.000000  100.000000  \n",
       "  2380   66.666667   66.666667  33.333333   66.666667  \n",
       "  2381  100.000000    0.000000   0.000000  100.000000  \n",
       "  2382   66.666667   66.666667  33.333333   33.333333  \n",
       "  \n",
       "  [2383 rows x 10 columns],\n",
       "              우울1        우울2        우울3        우울4         우울5         우울6  \\\n",
       "  0      0.000000  33.333333  66.666667  33.333333    0.000000   33.333333   \n",
       "  1     33.333333   0.000000  66.666667  33.333333   33.333333   33.333333   \n",
       "  2      0.000000   0.000000  33.333333   0.000000   66.666667    0.000000   \n",
       "  3     33.333333  33.333333  66.666667  33.333333   66.666667   66.666667   \n",
       "  4      0.000000   0.000000   0.000000   0.000000    0.000000    0.000000   \n",
       "  ...         ...        ...        ...        ...         ...         ...   \n",
       "  2378  33.333333  33.333333  66.666667  33.333333  100.000000  100.000000   \n",
       "  2379   0.000000   0.000000  66.666667   0.000000   33.333333    0.000000   \n",
       "  2380   0.000000   0.000000   0.000000   0.000000    0.000000    0.000000   \n",
       "  2381   0.000000   0.000000   0.000000   0.000000    0.000000    0.000000   \n",
       "  2382  66.666667  33.333333  66.666667   0.000000   66.666667   33.333333   \n",
       "  \n",
       "              우울7        우울8         우울9       우울10  \n",
       "  0     66.666667   0.000000   33.333333  66.666667  \n",
       "  1      0.000000  33.333333    0.000000  33.333333  \n",
       "  2      0.000000   0.000000    0.000000   0.000000  \n",
       "  3     66.666667  33.333333   33.333333  33.333333  \n",
       "  4      0.000000   0.000000    0.000000   0.000000  \n",
       "  ...         ...        ...         ...        ...  \n",
       "  2378   0.000000  33.333333   33.333333  33.333333  \n",
       "  2379   0.000000   0.000000    0.000000   0.000000  \n",
       "  2380   0.000000   0.000000    0.000000   0.000000  \n",
       "  2381  33.333333   0.000000    0.000000   0.000000  \n",
       "  2382   0.000000   0.000000  100.000000  33.333333  \n",
       "  \n",
       "  [2383 rows x 10 columns],\n",
       "            주의집중1       주의집중2       주의집중3       주의집중4       주의집중5      주의집중6  \\\n",
       "  0     33.333333   66.666667   66.666667   33.333333   33.333333  66.666667   \n",
       "  1     66.666667   33.333333   66.666667   33.333333   33.333333  33.333333   \n",
       "  2      0.000000   33.333333   33.333333   33.333333    0.000000   0.000000   \n",
       "  3     33.333333   66.666667   66.666667   33.333333   33.333333  66.666667   \n",
       "  4     66.666667   33.333333   66.666667   66.666667   66.666667  66.666667   \n",
       "  ...         ...         ...         ...         ...         ...        ...   \n",
       "  2378  66.666667   66.666667  100.000000  100.000000   66.666667  66.666667   \n",
       "  2379   0.000000   66.666667    0.000000    0.000000    0.000000   0.000000   \n",
       "  2380  33.333333    0.000000   33.333333   33.333333   33.333333  33.333333   \n",
       "  2381  33.333333   33.333333   66.666667   33.333333   33.333333  33.333333   \n",
       "  2382  33.333333  100.000000   66.666667    0.000000  100.000000  66.666667   \n",
       "  \n",
       "            주의집중7  \n",
       "  0     33.333333  \n",
       "  1     33.333333  \n",
       "  2      0.000000  \n",
       "  3     33.333333  \n",
       "  4     33.333333  \n",
       "  ...         ...  \n",
       "  2378  66.666667  \n",
       "  2379   0.000000  \n",
       "  2380  33.333333  \n",
       "  2381  33.333333  \n",
       "  2382   0.000000  \n",
       "  \n",
       "  [2383 rows x 7 columns],\n",
       "              그릿1         그릿2        그릿3         그릿4        그릿5        그릿6  \\\n",
       "  0     33.333333   33.333333  66.666667   66.666667  66.666667  66.666667   \n",
       "  1     33.333333   66.666667  66.666667   33.333333  33.333333  66.666667   \n",
       "  2     33.333333   66.666667  33.333333   66.666667  33.333333  33.333333   \n",
       "  3     66.666667   33.333333  66.666667   33.333333  66.666667  66.666667   \n",
       "  4     66.666667  100.000000  33.333333   66.666667  33.333333  66.666667   \n",
       "  ...         ...         ...        ...         ...        ...        ...   \n",
       "  2378  66.666667   66.666667  66.666667   66.666667  33.333333  33.333333   \n",
       "  2379  33.333333  100.000000   0.000000  100.000000  33.333333   0.000000   \n",
       "  2380  33.333333   66.666667   0.000000   66.666667  33.333333   0.000000   \n",
       "  2381  33.333333   66.666667  33.333333   66.666667  33.333333  33.333333   \n",
       "  2382  66.666667   66.666667  33.333333   33.333333  66.666667  66.666667   \n",
       "  \n",
       "              그릿7        그릿8  \n",
       "  0     33.333333  33.333333  \n",
       "  1     33.333333  66.666667  \n",
       "  2     66.666667  66.666667  \n",
       "  3     33.333333  33.333333  \n",
       "  4     66.666667  33.333333  \n",
       "  ...         ...        ...  \n",
       "  2378  33.333333  33.333333  \n",
       "  2379  66.666667  33.333333  \n",
       "  2380  66.666667  66.666667  \n",
       "  2381  66.666667  66.666667  \n",
       "  2382  66.666667  66.666667  \n",
       "  \n",
       "  [2383 rows x 8 columns]]]"
      ]
     },
     "execution_count": 49,
     "metadata": {},
     "output_type": "execute_result"
    }
   ],
   "source": [
    "s1"
   ]
  },
  {
   "cell_type": "code",
   "execution_count": 45,
   "id": "7811d2ce",
   "metadata": {},
   "outputs": [
    {
     "data": {
      "text/plain": [
       "0       47.619048\n",
       "1       42.857143\n",
       "2       14.285714\n",
       "3       47.619048\n",
       "4       57.142857\n",
       "          ...    \n",
       "2378    76.190476\n",
       "2379     9.523810\n",
       "2380    28.571429\n",
       "2381    38.095238\n",
       "2382    52.380952\n",
       "Length: 2383, dtype: float64"
      ]
     },
     "execution_count": 45,
     "metadata": {},
     "output_type": "execute_result"
    }
   ],
   "source": [
    "m6"
   ]
  },
  {
   "cell_type": "code",
   "execution_count": 45,
   "id": "73ac37fd",
   "metadata": {},
   "outputs": [],
   "source": [
    "grit = df[['그릿1', '그릿2', '그릿3', '그릿4', '그릿5', '그릿6', '그릿7','그릿8']]"
   ]
  },
  {
   "cell_type": "code",
   "execution_count": 46,
   "id": "61fc4947",
   "metadata": {},
   "outputs": [],
   "source": [
    "grit2 = c1[['그릿1', '그릿2', '그릿3', '그릿4', '그릿5', '그릿6', '그릿7','그릿8']]"
   ]
  },
  {
   "cell_type": "code",
   "execution_count": 54,
   "id": "ebfbe8a3",
   "metadata": {},
   "outputs": [],
   "source": [
    "m7 = grit2.mean(axis=1)"
   ]
  },
  {
   "cell_type": "code",
   "execution_count": 51,
   "id": "bcd389ca",
   "metadata": {},
   "outputs": [],
   "source": [
    "csv = pd.concat([pr,fr,tr,se,depress,attention,grit],axis=1)"
   ]
  },
  {
   "cell_type": "code",
   "execution_count": 61,
   "id": "1a01967c",
   "metadata": {},
   "outputs": [
    {
     "data": {
      "text/html": [
       "<div>\n",
       "<style scoped>\n",
       "    .dataframe tbody tr th:only-of-type {\n",
       "        vertical-align: middle;\n",
       "    }\n",
       "\n",
       "    .dataframe tbody tr th {\n",
       "        vertical-align: top;\n",
       "    }\n",
       "\n",
       "    .dataframe thead th {\n",
       "        text-align: right;\n",
       "    }\n",
       "</style>\n",
       "<table border=\"1\" class=\"dataframe\">\n",
       "  <thead>\n",
       "    <tr style=\"text-align: right;\">\n",
       "      <th></th>\n",
       "      <th>부모관계3</th>\n",
       "      <th>부모관계4</th>\n",
       "      <th>부모관계5</th>\n",
       "      <th>부모관계6</th>\n",
       "      <th>부모관계7</th>\n",
       "      <th>부모관계8</th>\n",
       "      <th>부모관계9</th>\n",
       "      <th>부모관계10</th>\n",
       "      <th>부모관계11</th>\n",
       "      <th>부모관계12</th>\n",
       "      <th>...</th>\n",
       "      <th>주의집중6</th>\n",
       "      <th>주의집중7</th>\n",
       "      <th>그릿1</th>\n",
       "      <th>그릿2</th>\n",
       "      <th>그릿3</th>\n",
       "      <th>그릿4</th>\n",
       "      <th>그릿5</th>\n",
       "      <th>그릿6</th>\n",
       "      <th>그릿7</th>\n",
       "      <th>그릿8</th>\n",
       "    </tr>\n",
       "  </thead>\n",
       "  <tbody>\n",
       "    <tr>\n",
       "      <th>0</th>\n",
       "      <td>4.0</td>\n",
       "      <td>4.0</td>\n",
       "      <td>4.0</td>\n",
       "      <td>3.0</td>\n",
       "      <td>4.0</td>\n",
       "      <td>4.0</td>\n",
       "      <td>4.0</td>\n",
       "      <td>4.0</td>\n",
       "      <td>3.0</td>\n",
       "      <td>3.0</td>\n",
       "      <td>...</td>\n",
       "      <td>3.0</td>\n",
       "      <td>2.0</td>\n",
       "      <td>2.0</td>\n",
       "      <td>2.0</td>\n",
       "      <td>3.0</td>\n",
       "      <td>3.0</td>\n",
       "      <td>3.0</td>\n",
       "      <td>3.0</td>\n",
       "      <td>2.0</td>\n",
       "      <td>2.0</td>\n",
       "    </tr>\n",
       "    <tr>\n",
       "      <th>1</th>\n",
       "      <td>3.0</td>\n",
       "      <td>3.0</td>\n",
       "      <td>3.0</td>\n",
       "      <td>3.0</td>\n",
       "      <td>3.0</td>\n",
       "      <td>3.0</td>\n",
       "      <td>3.0</td>\n",
       "      <td>3.0</td>\n",
       "      <td>2.0</td>\n",
       "      <td>3.0</td>\n",
       "      <td>...</td>\n",
       "      <td>2.0</td>\n",
       "      <td>2.0</td>\n",
       "      <td>2.0</td>\n",
       "      <td>3.0</td>\n",
       "      <td>3.0</td>\n",
       "      <td>2.0</td>\n",
       "      <td>2.0</td>\n",
       "      <td>3.0</td>\n",
       "      <td>2.0</td>\n",
       "      <td>3.0</td>\n",
       "    </tr>\n",
       "    <tr>\n",
       "      <th>2</th>\n",
       "      <td>3.0</td>\n",
       "      <td>3.0</td>\n",
       "      <td>3.0</td>\n",
       "      <td>3.0</td>\n",
       "      <td>4.0</td>\n",
       "      <td>4.0</td>\n",
       "      <td>4.0</td>\n",
       "      <td>4.0</td>\n",
       "      <td>2.0</td>\n",
       "      <td>3.0</td>\n",
       "      <td>...</td>\n",
       "      <td>1.0</td>\n",
       "      <td>1.0</td>\n",
       "      <td>2.0</td>\n",
       "      <td>3.0</td>\n",
       "      <td>2.0</td>\n",
       "      <td>3.0</td>\n",
       "      <td>2.0</td>\n",
       "      <td>2.0</td>\n",
       "      <td>3.0</td>\n",
       "      <td>3.0</td>\n",
       "    </tr>\n",
       "    <tr>\n",
       "      <th>3</th>\n",
       "      <td>4.0</td>\n",
       "      <td>4.0</td>\n",
       "      <td>4.0</td>\n",
       "      <td>4.0</td>\n",
       "      <td>4.0</td>\n",
       "      <td>4.0</td>\n",
       "      <td>4.0</td>\n",
       "      <td>4.0</td>\n",
       "      <td>2.0</td>\n",
       "      <td>4.0</td>\n",
       "      <td>...</td>\n",
       "      <td>3.0</td>\n",
       "      <td>2.0</td>\n",
       "      <td>3.0</td>\n",
       "      <td>2.0</td>\n",
       "      <td>3.0</td>\n",
       "      <td>2.0</td>\n",
       "      <td>3.0</td>\n",
       "      <td>3.0</td>\n",
       "      <td>2.0</td>\n",
       "      <td>2.0</td>\n",
       "    </tr>\n",
       "    <tr>\n",
       "      <th>6</th>\n",
       "      <td>3.0</td>\n",
       "      <td>3.0</td>\n",
       "      <td>3.0</td>\n",
       "      <td>2.0</td>\n",
       "      <td>2.0</td>\n",
       "      <td>2.0</td>\n",
       "      <td>2.0</td>\n",
       "      <td>3.0</td>\n",
       "      <td>3.0</td>\n",
       "      <td>3.0</td>\n",
       "      <td>...</td>\n",
       "      <td>3.0</td>\n",
       "      <td>2.0</td>\n",
       "      <td>3.0</td>\n",
       "      <td>4.0</td>\n",
       "      <td>2.0</td>\n",
       "      <td>3.0</td>\n",
       "      <td>2.0</td>\n",
       "      <td>3.0</td>\n",
       "      <td>3.0</td>\n",
       "      <td>2.0</td>\n",
       "    </tr>\n",
       "    <tr>\n",
       "      <th>...</th>\n",
       "      <td>...</td>\n",
       "      <td>...</td>\n",
       "      <td>...</td>\n",
       "      <td>...</td>\n",
       "      <td>...</td>\n",
       "      <td>...</td>\n",
       "      <td>...</td>\n",
       "      <td>...</td>\n",
       "      <td>...</td>\n",
       "      <td>...</td>\n",
       "      <td>...</td>\n",
       "      <td>...</td>\n",
       "      <td>...</td>\n",
       "      <td>...</td>\n",
       "      <td>...</td>\n",
       "      <td>...</td>\n",
       "      <td>...</td>\n",
       "      <td>...</td>\n",
       "      <td>...</td>\n",
       "      <td>...</td>\n",
       "      <td>...</td>\n",
       "    </tr>\n",
       "    <tr>\n",
       "      <th>2583</th>\n",
       "      <td>3.0</td>\n",
       "      <td>3.0</td>\n",
       "      <td>3.0</td>\n",
       "      <td>3.0</td>\n",
       "      <td>3.0</td>\n",
       "      <td>3.0</td>\n",
       "      <td>3.0</td>\n",
       "      <td>3.0</td>\n",
       "      <td>2.0</td>\n",
       "      <td>2.0</td>\n",
       "      <td>...</td>\n",
       "      <td>3.0</td>\n",
       "      <td>3.0</td>\n",
       "      <td>3.0</td>\n",
       "      <td>3.0</td>\n",
       "      <td>3.0</td>\n",
       "      <td>3.0</td>\n",
       "      <td>2.0</td>\n",
       "      <td>2.0</td>\n",
       "      <td>2.0</td>\n",
       "      <td>2.0</td>\n",
       "    </tr>\n",
       "    <tr>\n",
       "      <th>2584</th>\n",
       "      <td>3.0</td>\n",
       "      <td>3.0</td>\n",
       "      <td>3.0</td>\n",
       "      <td>3.0</td>\n",
       "      <td>3.0</td>\n",
       "      <td>3.0</td>\n",
       "      <td>4.0</td>\n",
       "      <td>4.0</td>\n",
       "      <td>1.0</td>\n",
       "      <td>3.0</td>\n",
       "      <td>...</td>\n",
       "      <td>1.0</td>\n",
       "      <td>1.0</td>\n",
       "      <td>2.0</td>\n",
       "      <td>4.0</td>\n",
       "      <td>1.0</td>\n",
       "      <td>4.0</td>\n",
       "      <td>2.0</td>\n",
       "      <td>1.0</td>\n",
       "      <td>3.0</td>\n",
       "      <td>2.0</td>\n",
       "    </tr>\n",
       "    <tr>\n",
       "      <th>2585</th>\n",
       "      <td>3.0</td>\n",
       "      <td>3.0</td>\n",
       "      <td>3.0</td>\n",
       "      <td>3.0</td>\n",
       "      <td>3.0</td>\n",
       "      <td>3.0</td>\n",
       "      <td>3.0</td>\n",
       "      <td>3.0</td>\n",
       "      <td>3.0</td>\n",
       "      <td>2.0</td>\n",
       "      <td>...</td>\n",
       "      <td>2.0</td>\n",
       "      <td>2.0</td>\n",
       "      <td>2.0</td>\n",
       "      <td>3.0</td>\n",
       "      <td>1.0</td>\n",
       "      <td>3.0</td>\n",
       "      <td>2.0</td>\n",
       "      <td>1.0</td>\n",
       "      <td>3.0</td>\n",
       "      <td>3.0</td>\n",
       "    </tr>\n",
       "    <tr>\n",
       "      <th>2586</th>\n",
       "      <td>4.0</td>\n",
       "      <td>4.0</td>\n",
       "      <td>4.0</td>\n",
       "      <td>4.0</td>\n",
       "      <td>4.0</td>\n",
       "      <td>4.0</td>\n",
       "      <td>4.0</td>\n",
       "      <td>4.0</td>\n",
       "      <td>4.0</td>\n",
       "      <td>4.0</td>\n",
       "      <td>...</td>\n",
       "      <td>2.0</td>\n",
       "      <td>2.0</td>\n",
       "      <td>2.0</td>\n",
       "      <td>3.0</td>\n",
       "      <td>2.0</td>\n",
       "      <td>3.0</td>\n",
       "      <td>2.0</td>\n",
       "      <td>2.0</td>\n",
       "      <td>3.0</td>\n",
       "      <td>3.0</td>\n",
       "    </tr>\n",
       "    <tr>\n",
       "      <th>2588</th>\n",
       "      <td>3.0</td>\n",
       "      <td>3.0</td>\n",
       "      <td>3.0</td>\n",
       "      <td>3.0</td>\n",
       "      <td>2.0</td>\n",
       "      <td>3.0</td>\n",
       "      <td>3.0</td>\n",
       "      <td>3.0</td>\n",
       "      <td>3.0</td>\n",
       "      <td>4.0</td>\n",
       "      <td>...</td>\n",
       "      <td>3.0</td>\n",
       "      <td>1.0</td>\n",
       "      <td>3.0</td>\n",
       "      <td>3.0</td>\n",
       "      <td>2.0</td>\n",
       "      <td>2.0</td>\n",
       "      <td>3.0</td>\n",
       "      <td>3.0</td>\n",
       "      <td>3.0</td>\n",
       "      <td>3.0</td>\n",
       "    </tr>\n",
       "  </tbody>\n",
       "</table>\n",
       "<p>2383 rows × 65 columns</p>\n",
       "</div>"
      ],
      "text/plain": [
       "      부모관계3  부모관계4  부모관계5  부모관계6  부모관계7  부모관계8  부모관계9  부모관계10  부모관계11  부모관계12  \\\n",
       "0       4.0    4.0    4.0    3.0    4.0    4.0    4.0     4.0     3.0     3.0   \n",
       "1       3.0    3.0    3.0    3.0    3.0    3.0    3.0     3.0     2.0     3.0   \n",
       "2       3.0    3.0    3.0    3.0    4.0    4.0    4.0     4.0     2.0     3.0   \n",
       "3       4.0    4.0    4.0    4.0    4.0    4.0    4.0     4.0     2.0     4.0   \n",
       "6       3.0    3.0    3.0    2.0    2.0    2.0    2.0     3.0     3.0     3.0   \n",
       "...     ...    ...    ...    ...    ...    ...    ...     ...     ...     ...   \n",
       "2583    3.0    3.0    3.0    3.0    3.0    3.0    3.0     3.0     2.0     2.0   \n",
       "2584    3.0    3.0    3.0    3.0    3.0    3.0    4.0     4.0     1.0     3.0   \n",
       "2585    3.0    3.0    3.0    3.0    3.0    3.0    3.0     3.0     3.0     2.0   \n",
       "2586    4.0    4.0    4.0    4.0    4.0    4.0    4.0     4.0     4.0     4.0   \n",
       "2588    3.0    3.0    3.0    3.0    2.0    3.0    3.0     3.0     3.0     4.0   \n",
       "\n",
       "      ...  주의집중6  주의집중7  그릿1  그릿2  그릿3  그릿4  그릿5  그릿6  그릿7  그릿8  \n",
       "0     ...    3.0    2.0  2.0  2.0  3.0  3.0  3.0  3.0  2.0  2.0  \n",
       "1     ...    2.0    2.0  2.0  3.0  3.0  2.0  2.0  3.0  2.0  3.0  \n",
       "2     ...    1.0    1.0  2.0  3.0  2.0  3.0  2.0  2.0  3.0  3.0  \n",
       "3     ...    3.0    2.0  3.0  2.0  3.0  2.0  3.0  3.0  2.0  2.0  \n",
       "6     ...    3.0    2.0  3.0  4.0  2.0  3.0  2.0  3.0  3.0  2.0  \n",
       "...   ...    ...    ...  ...  ...  ...  ...  ...  ...  ...  ...  \n",
       "2583  ...    3.0    3.0  3.0  3.0  3.0  3.0  2.0  2.0  2.0  2.0  \n",
       "2584  ...    1.0    1.0  2.0  4.0  1.0  4.0  2.0  1.0  3.0  2.0  \n",
       "2585  ...    2.0    2.0  2.0  3.0  1.0  3.0  2.0  1.0  3.0  3.0  \n",
       "2586  ...    2.0    2.0  2.0  3.0  2.0  3.0  2.0  2.0  3.0  3.0  \n",
       "2588  ...    3.0    1.0  3.0  3.0  2.0  2.0  3.0  3.0  3.0  3.0  \n",
       "\n",
       "[2383 rows x 65 columns]"
      ]
     },
     "execution_count": 61,
     "metadata": {},
     "output_type": "execute_result"
    }
   ],
   "source": [
    "csv"
   ]
  },
  {
   "cell_type": "raw",
   "id": "0699431a",
   "metadata": {},
   "source": [
    "csv.to_csv(\"파일이름.csv\", index = False,encoding='cp949')"
   ]
  },
  {
   "cell_type": "raw",
   "id": "b1c84226",
   "metadata": {},
   "source": [
    "df2.to_csv(\"학업소진.csv\",index = False,encoding='cp949')"
   ]
  },
  {
   "cell_type": "raw",
   "id": "de36beed",
   "metadata": {},
   "source": [
    "c1 = pd.read_csv('요인.csv',encoding='cp949')"
   ]
  },
  {
   "cell_type": "code",
   "execution_count": 48,
   "id": "a6f6186f",
   "metadata": {
    "scrolled": false
   },
   "outputs": [
    {
     "data": {
      "text/plain": [
       "Index(['부모관계3', '부모관계4', '부모관계5', '부모관계6', '부모관계7', '부모관계8', '부모관계9', '부모관계10',\n",
       "       '부모관계11', '부모관계12', '부모관계13', '부모관계14', '친구관계1', '친구관계2', '친구관계3',\n",
       "       '친구관계4', '친구관계5', '친구관계6', '친구관계7', '친구관계8', '교사관계1', '교사관계2', '교사관계3',\n",
       "       '교사관계4', '교사관계5', '교사관계6', '교사관계7', '교사관계8', '교사관계9', '교사관계10',\n",
       "       '자아존중감1', '자아존중감2', '자아존중감3', '자아존중감4', '자아존중감5', '자아존중감6', '자아존중감7',\n",
       "       '자아존중감8', '자아존중감9', '자아존중감10', '우울1', '우울2', '우울3', '우울4', '우울5', '우울6',\n",
       "       '우울7', '우울8', '우울9', '우울10', '주의집중1', '주의집중2', '주의집중3', '주의집중4',\n",
       "       '주의집중5', '주의집중6', '주의집중7', '그릿1', '그릿2', '그릿3', '그릿4', '그릿5', '그릿6',\n",
       "       '그릿7', '그릿8'],\n",
       "      dtype='object')"
      ]
     },
     "execution_count": 48,
     "metadata": {},
     "output_type": "execute_result"
    }
   ],
   "source": [
    "c1.columns"
   ]
  },
  {
   "cell_type": "code",
   "execution_count": 49,
   "id": "7eecc7a7",
   "metadata": {},
   "outputs": [],
   "source": [
    "c2 = pd.read_csv('학업소진변환.csv',encoding='cp949')"
   ]
  },
  {
   "cell_type": "code",
   "execution_count": 50,
   "id": "17832d95",
   "metadata": {},
   "outputs": [],
   "source": [
    "c2 = c2.drop(['학업소진평균','학업소진총점'],axis=1)"
   ]
  },
  {
   "cell_type": "code",
   "execution_count": 51,
   "id": "5af542b6",
   "metadata": {},
   "outputs": [],
   "source": [
    "#랜덤포레스트\n",
    "from sklearn.ensemble import RandomForestRegressor\n",
    "from sklearn.model_selection import cross_val_score\n",
    "import pandas as pd\n",
    "import numpy as np\n",
    "from sklearn.model_selection import GridSearchCV\n",
    "from sklearn.model_selection import train_test_split\n",
    "from sklearn.metrics import mean_squared_error\n",
    "import math\n",
    "import matplotlib.pyplot as plot"
   ]
  },
  {
   "cell_type": "code",
   "execution_count": 55,
   "id": "0143682a",
   "metadata": {
    "scrolled": true
   },
   "outputs": [],
   "source": [
    "data = pd.DataFrame([m1,m2,m3,m4,m5,m6,m7])"
   ]
  },
  {
   "cell_type": "code",
   "execution_count": 56,
   "id": "3df3eda7",
   "metadata": {},
   "outputs": [
    {
     "data": {
      "text/html": [
       "<div>\n",
       "<style scoped>\n",
       "    .dataframe tbody tr th:only-of-type {\n",
       "        vertical-align: middle;\n",
       "    }\n",
       "\n",
       "    .dataframe tbody tr th {\n",
       "        vertical-align: top;\n",
       "    }\n",
       "\n",
       "    .dataframe thead th {\n",
       "        text-align: right;\n",
       "    }\n",
       "</style>\n",
       "<table border=\"1\" class=\"dataframe\">\n",
       "  <thead>\n",
       "    <tr style=\"text-align: right;\">\n",
       "      <th></th>\n",
       "      <th>0</th>\n",
       "      <th>1</th>\n",
       "      <th>2</th>\n",
       "      <th>3</th>\n",
       "      <th>4</th>\n",
       "      <th>5</th>\n",
       "      <th>6</th>\n",
       "      <th>7</th>\n",
       "      <th>8</th>\n",
       "      <th>9</th>\n",
       "      <th>...</th>\n",
       "      <th>2373</th>\n",
       "      <th>2374</th>\n",
       "      <th>2375</th>\n",
       "      <th>2376</th>\n",
       "      <th>2377</th>\n",
       "      <th>2378</th>\n",
       "      <th>2379</th>\n",
       "      <th>2380</th>\n",
       "      <th>2381</th>\n",
       "      <th>2382</th>\n",
       "    </tr>\n",
       "  </thead>\n",
       "  <tbody>\n",
       "    <tr>\n",
       "      <th>0</th>\n",
       "      <td>88.888889</td>\n",
       "      <td>58.333333</td>\n",
       "      <td>75.000000</td>\n",
       "      <td>91.666667</td>\n",
       "      <td>52.777778</td>\n",
       "      <td>52.777778</td>\n",
       "      <td>63.888889</td>\n",
       "      <td>66.666667</td>\n",
       "      <td>55.555556</td>\n",
       "      <td>88.888889</td>\n",
       "      <td>...</td>\n",
       "      <td>58.333333</td>\n",
       "      <td>47.222222</td>\n",
       "      <td>66.666667</td>\n",
       "      <td>63.888889</td>\n",
       "      <td>69.444444</td>\n",
       "      <td>58.333333</td>\n",
       "      <td>69.444444</td>\n",
       "      <td>63.888889</td>\n",
       "      <td>97.222222</td>\n",
       "      <td>66.666667</td>\n",
       "    </tr>\n",
       "    <tr>\n",
       "      <th>1</th>\n",
       "      <td>79.166667</td>\n",
       "      <td>70.833333</td>\n",
       "      <td>66.666667</td>\n",
       "      <td>62.500000</td>\n",
       "      <td>75.000000</td>\n",
       "      <td>58.333333</td>\n",
       "      <td>75.000000</td>\n",
       "      <td>66.666667</td>\n",
       "      <td>62.500000</td>\n",
       "      <td>70.833333</td>\n",
       "      <td>...</td>\n",
       "      <td>58.333333</td>\n",
       "      <td>54.166667</td>\n",
       "      <td>62.500000</td>\n",
       "      <td>50.000000</td>\n",
       "      <td>70.833333</td>\n",
       "      <td>29.166667</td>\n",
       "      <td>50.000000</td>\n",
       "      <td>75.000000</td>\n",
       "      <td>87.500000</td>\n",
       "      <td>37.500000</td>\n",
       "    </tr>\n",
       "    <tr>\n",
       "      <th>2</th>\n",
       "      <td>40.000000</td>\n",
       "      <td>40.000000</td>\n",
       "      <td>46.666667</td>\n",
       "      <td>63.333333</td>\n",
       "      <td>83.333333</td>\n",
       "      <td>46.666667</td>\n",
       "      <td>70.000000</td>\n",
       "      <td>66.666667</td>\n",
       "      <td>83.333333</td>\n",
       "      <td>80.000000</td>\n",
       "      <td>...</td>\n",
       "      <td>60.000000</td>\n",
       "      <td>76.666667</td>\n",
       "      <td>60.000000</td>\n",
       "      <td>60.000000</td>\n",
       "      <td>60.000000</td>\n",
       "      <td>40.000000</td>\n",
       "      <td>96.666667</td>\n",
       "      <td>70.000000</td>\n",
       "      <td>83.333333</td>\n",
       "      <td>76.666667</td>\n",
       "    </tr>\n",
       "    <tr>\n",
       "      <th>3</th>\n",
       "      <td>73.333333</td>\n",
       "      <td>46.666667</td>\n",
       "      <td>40.000000</td>\n",
       "      <td>56.666667</td>\n",
       "      <td>43.333333</td>\n",
       "      <td>46.666667</td>\n",
       "      <td>50.000000</td>\n",
       "      <td>60.000000</td>\n",
       "      <td>53.333333</td>\n",
       "      <td>6.666667</td>\n",
       "      <td>...</td>\n",
       "      <td>53.333333</td>\n",
       "      <td>53.333333</td>\n",
       "      <td>60.000000</td>\n",
       "      <td>56.666667</td>\n",
       "      <td>56.666667</td>\n",
       "      <td>60.000000</td>\n",
       "      <td>43.333333</td>\n",
       "      <td>50.000000</td>\n",
       "      <td>56.666667</td>\n",
       "      <td>46.666667</td>\n",
       "    </tr>\n",
       "    <tr>\n",
       "      <th>4</th>\n",
       "      <td>33.333333</td>\n",
       "      <td>26.666667</td>\n",
       "      <td>10.000000</td>\n",
       "      <td>46.666667</td>\n",
       "      <td>0.000000</td>\n",
       "      <td>16.666667</td>\n",
       "      <td>10.000000</td>\n",
       "      <td>46.666667</td>\n",
       "      <td>6.666667</td>\n",
       "      <td>16.666667</td>\n",
       "      <td>...</td>\n",
       "      <td>46.666667</td>\n",
       "      <td>66.666667</td>\n",
       "      <td>6.666667</td>\n",
       "      <td>50.000000</td>\n",
       "      <td>36.666667</td>\n",
       "      <td>46.666667</td>\n",
       "      <td>10.000000</td>\n",
       "      <td>0.000000</td>\n",
       "      <td>3.333333</td>\n",
       "      <td>40.000000</td>\n",
       "    </tr>\n",
       "    <tr>\n",
       "      <th>5</th>\n",
       "      <td>47.619048</td>\n",
       "      <td>42.857143</td>\n",
       "      <td>14.285714</td>\n",
       "      <td>47.619048</td>\n",
       "      <td>57.142857</td>\n",
       "      <td>23.809524</td>\n",
       "      <td>28.571429</td>\n",
       "      <td>66.666667</td>\n",
       "      <td>33.333333</td>\n",
       "      <td>47.619048</td>\n",
       "      <td>...</td>\n",
       "      <td>38.095238</td>\n",
       "      <td>71.428571</td>\n",
       "      <td>71.428571</td>\n",
       "      <td>61.904762</td>\n",
       "      <td>61.904762</td>\n",
       "      <td>76.190476</td>\n",
       "      <td>9.523810</td>\n",
       "      <td>28.571429</td>\n",
       "      <td>38.095238</td>\n",
       "      <td>52.380952</td>\n",
       "    </tr>\n",
       "    <tr>\n",
       "      <th>6</th>\n",
       "      <td>50.000000</td>\n",
       "      <td>50.000000</td>\n",
       "      <td>50.000000</td>\n",
       "      <td>50.000000</td>\n",
       "      <td>58.333333</td>\n",
       "      <td>58.333333</td>\n",
       "      <td>41.666667</td>\n",
       "      <td>58.333333</td>\n",
       "      <td>54.166667</td>\n",
       "      <td>50.000000</td>\n",
       "      <td>...</td>\n",
       "      <td>54.166667</td>\n",
       "      <td>62.500000</td>\n",
       "      <td>41.666667</td>\n",
       "      <td>41.666667</td>\n",
       "      <td>45.833333</td>\n",
       "      <td>50.000000</td>\n",
       "      <td>45.833333</td>\n",
       "      <td>41.666667</td>\n",
       "      <td>50.000000</td>\n",
       "      <td>58.333333</td>\n",
       "    </tr>\n",
       "  </tbody>\n",
       "</table>\n",
       "<p>7 rows × 2383 columns</p>\n",
       "</div>"
      ],
      "text/plain": [
       "        0          1          2          3          4          5     \\\n",
       "0  88.888889  58.333333  75.000000  91.666667  52.777778  52.777778   \n",
       "1  79.166667  70.833333  66.666667  62.500000  75.000000  58.333333   \n",
       "2  40.000000  40.000000  46.666667  63.333333  83.333333  46.666667   \n",
       "3  73.333333  46.666667  40.000000  56.666667  43.333333  46.666667   \n",
       "4  33.333333  26.666667  10.000000  46.666667   0.000000  16.666667   \n",
       "5  47.619048  42.857143  14.285714  47.619048  57.142857  23.809524   \n",
       "6  50.000000  50.000000  50.000000  50.000000  58.333333  58.333333   \n",
       "\n",
       "        6          7          8          9     ...       2373       2374  \\\n",
       "0  63.888889  66.666667  55.555556  88.888889  ...  58.333333  47.222222   \n",
       "1  75.000000  66.666667  62.500000  70.833333  ...  58.333333  54.166667   \n",
       "2  70.000000  66.666667  83.333333  80.000000  ...  60.000000  76.666667   \n",
       "3  50.000000  60.000000  53.333333   6.666667  ...  53.333333  53.333333   \n",
       "4  10.000000  46.666667   6.666667  16.666667  ...  46.666667  66.666667   \n",
       "5  28.571429  66.666667  33.333333  47.619048  ...  38.095238  71.428571   \n",
       "6  41.666667  58.333333  54.166667  50.000000  ...  54.166667  62.500000   \n",
       "\n",
       "        2375       2376       2377       2378       2379       2380  \\\n",
       "0  66.666667  63.888889  69.444444  58.333333  69.444444  63.888889   \n",
       "1  62.500000  50.000000  70.833333  29.166667  50.000000  75.000000   \n",
       "2  60.000000  60.000000  60.000000  40.000000  96.666667  70.000000   \n",
       "3  60.000000  56.666667  56.666667  60.000000  43.333333  50.000000   \n",
       "4   6.666667  50.000000  36.666667  46.666667  10.000000   0.000000   \n",
       "5  71.428571  61.904762  61.904762  76.190476   9.523810  28.571429   \n",
       "6  41.666667  41.666667  45.833333  50.000000  45.833333  41.666667   \n",
       "\n",
       "        2381       2382  \n",
       "0  97.222222  66.666667  \n",
       "1  87.500000  37.500000  \n",
       "2  83.333333  76.666667  \n",
       "3  56.666667  46.666667  \n",
       "4   3.333333  40.000000  \n",
       "5  38.095238  52.380952  \n",
       "6  50.000000  58.333333  \n",
       "\n",
       "[7 rows x 2383 columns]"
      ]
     },
     "execution_count": 56,
     "metadata": {},
     "output_type": "execute_result"
    }
   ],
   "source": [
    "data"
   ]
  },
  {
   "cell_type": "code",
   "execution_count": 57,
   "id": "27cafc20",
   "metadata": {
    "scrolled": false
   },
   "outputs": [],
   "source": [
    "data = data.rename(index={0 :'부모관계',1:'친구관계',2:'교사관계',3:'자아존중감',4:'우울',5:'주의집중',6:'그릿'})"
   ]
  },
  {
   "cell_type": "code",
   "execution_count": 58,
   "id": "c4606433",
   "metadata": {},
   "outputs": [],
   "source": [
    "data = data.T"
   ]
  },
  {
   "cell_type": "code",
   "execution_count": 59,
   "id": "ac7dfc21",
   "metadata": {},
   "outputs": [
    {
     "data": {
      "text/html": [
       "<div>\n",
       "<style scoped>\n",
       "    .dataframe tbody tr th:only-of-type {\n",
       "        vertical-align: middle;\n",
       "    }\n",
       "\n",
       "    .dataframe tbody tr th {\n",
       "        vertical-align: top;\n",
       "    }\n",
       "\n",
       "    .dataframe thead th {\n",
       "        text-align: right;\n",
       "    }\n",
       "</style>\n",
       "<table border=\"1\" class=\"dataframe\">\n",
       "  <thead>\n",
       "    <tr style=\"text-align: right;\">\n",
       "      <th></th>\n",
       "      <th>부모관계</th>\n",
       "      <th>친구관계</th>\n",
       "      <th>교사관계</th>\n",
       "      <th>자아존중감</th>\n",
       "      <th>우울</th>\n",
       "      <th>주의집중</th>\n",
       "      <th>그릿</th>\n",
       "    </tr>\n",
       "  </thead>\n",
       "  <tbody>\n",
       "    <tr>\n",
       "      <th>0</th>\n",
       "      <td>88.888889</td>\n",
       "      <td>79.166667</td>\n",
       "      <td>40.000000</td>\n",
       "      <td>73.333333</td>\n",
       "      <td>33.333333</td>\n",
       "      <td>47.619048</td>\n",
       "      <td>50.000000</td>\n",
       "    </tr>\n",
       "    <tr>\n",
       "      <th>1</th>\n",
       "      <td>58.333333</td>\n",
       "      <td>70.833333</td>\n",
       "      <td>40.000000</td>\n",
       "      <td>46.666667</td>\n",
       "      <td>26.666667</td>\n",
       "      <td>42.857143</td>\n",
       "      <td>50.000000</td>\n",
       "    </tr>\n",
       "    <tr>\n",
       "      <th>2</th>\n",
       "      <td>75.000000</td>\n",
       "      <td>66.666667</td>\n",
       "      <td>46.666667</td>\n",
       "      <td>40.000000</td>\n",
       "      <td>10.000000</td>\n",
       "      <td>14.285714</td>\n",
       "      <td>50.000000</td>\n",
       "    </tr>\n",
       "    <tr>\n",
       "      <th>3</th>\n",
       "      <td>91.666667</td>\n",
       "      <td>62.500000</td>\n",
       "      <td>63.333333</td>\n",
       "      <td>56.666667</td>\n",
       "      <td>46.666667</td>\n",
       "      <td>47.619048</td>\n",
       "      <td>50.000000</td>\n",
       "    </tr>\n",
       "    <tr>\n",
       "      <th>4</th>\n",
       "      <td>52.777778</td>\n",
       "      <td>75.000000</td>\n",
       "      <td>83.333333</td>\n",
       "      <td>43.333333</td>\n",
       "      <td>0.000000</td>\n",
       "      <td>57.142857</td>\n",
       "      <td>58.333333</td>\n",
       "    </tr>\n",
       "    <tr>\n",
       "      <th>...</th>\n",
       "      <td>...</td>\n",
       "      <td>...</td>\n",
       "      <td>...</td>\n",
       "      <td>...</td>\n",
       "      <td>...</td>\n",
       "      <td>...</td>\n",
       "      <td>...</td>\n",
       "    </tr>\n",
       "    <tr>\n",
       "      <th>2378</th>\n",
       "      <td>58.333333</td>\n",
       "      <td>29.166667</td>\n",
       "      <td>40.000000</td>\n",
       "      <td>60.000000</td>\n",
       "      <td>46.666667</td>\n",
       "      <td>76.190476</td>\n",
       "      <td>50.000000</td>\n",
       "    </tr>\n",
       "    <tr>\n",
       "      <th>2379</th>\n",
       "      <td>69.444444</td>\n",
       "      <td>50.000000</td>\n",
       "      <td>96.666667</td>\n",
       "      <td>43.333333</td>\n",
       "      <td>10.000000</td>\n",
       "      <td>9.523810</td>\n",
       "      <td>45.833333</td>\n",
       "    </tr>\n",
       "    <tr>\n",
       "      <th>2380</th>\n",
       "      <td>63.888889</td>\n",
       "      <td>75.000000</td>\n",
       "      <td>70.000000</td>\n",
       "      <td>50.000000</td>\n",
       "      <td>0.000000</td>\n",
       "      <td>28.571429</td>\n",
       "      <td>41.666667</td>\n",
       "    </tr>\n",
       "    <tr>\n",
       "      <th>2381</th>\n",
       "      <td>97.222222</td>\n",
       "      <td>87.500000</td>\n",
       "      <td>83.333333</td>\n",
       "      <td>56.666667</td>\n",
       "      <td>3.333333</td>\n",
       "      <td>38.095238</td>\n",
       "      <td>50.000000</td>\n",
       "    </tr>\n",
       "    <tr>\n",
       "      <th>2382</th>\n",
       "      <td>66.666667</td>\n",
       "      <td>37.500000</td>\n",
       "      <td>76.666667</td>\n",
       "      <td>46.666667</td>\n",
       "      <td>40.000000</td>\n",
       "      <td>52.380952</td>\n",
       "      <td>58.333333</td>\n",
       "    </tr>\n",
       "  </tbody>\n",
       "</table>\n",
       "<p>2383 rows × 7 columns</p>\n",
       "</div>"
      ],
      "text/plain": [
       "           부모관계       친구관계       교사관계      자아존중감         우울       주의집중  \\\n",
       "0     88.888889  79.166667  40.000000  73.333333  33.333333  47.619048   \n",
       "1     58.333333  70.833333  40.000000  46.666667  26.666667  42.857143   \n",
       "2     75.000000  66.666667  46.666667  40.000000  10.000000  14.285714   \n",
       "3     91.666667  62.500000  63.333333  56.666667  46.666667  47.619048   \n",
       "4     52.777778  75.000000  83.333333  43.333333   0.000000  57.142857   \n",
       "...         ...        ...        ...        ...        ...        ...   \n",
       "2378  58.333333  29.166667  40.000000  60.000000  46.666667  76.190476   \n",
       "2379  69.444444  50.000000  96.666667  43.333333  10.000000   9.523810   \n",
       "2380  63.888889  75.000000  70.000000  50.000000   0.000000  28.571429   \n",
       "2381  97.222222  87.500000  83.333333  56.666667   3.333333  38.095238   \n",
       "2382  66.666667  37.500000  76.666667  46.666667  40.000000  52.380952   \n",
       "\n",
       "             그릿  \n",
       "0     50.000000  \n",
       "1     50.000000  \n",
       "2     50.000000  \n",
       "3     50.000000  \n",
       "4     58.333333  \n",
       "...         ...  \n",
       "2378  50.000000  \n",
       "2379  45.833333  \n",
       "2380  41.666667  \n",
       "2381  50.000000  \n",
       "2382  58.333333  \n",
       "\n",
       "[2383 rows x 7 columns]"
      ]
     },
     "execution_count": 59,
     "metadata": {},
     "output_type": "execute_result"
    }
   ],
   "source": [
    "data"
   ]
  },
  {
   "cell_type": "code",
   "execution_count": 60,
   "id": "12c58411",
   "metadata": {},
   "outputs": [],
   "source": [
    "r = c2.mean(axis=1)"
   ]
  },
  {
   "cell_type": "code",
   "execution_count": 61,
   "id": "be201226",
   "metadata": {},
   "outputs": [],
   "source": [
    "data['학업소진'] = r"
   ]
  },
  {
   "cell_type": "code",
   "execution_count": 62,
   "id": "99c1c97f",
   "metadata": {
    "scrolled": true
   },
   "outputs": [
    {
     "data": {
      "text/html": [
       "<div>\n",
       "<style scoped>\n",
       "    .dataframe tbody tr th:only-of-type {\n",
       "        vertical-align: middle;\n",
       "    }\n",
       "\n",
       "    .dataframe tbody tr th {\n",
       "        vertical-align: top;\n",
       "    }\n",
       "\n",
       "    .dataframe thead th {\n",
       "        text-align: right;\n",
       "    }\n",
       "</style>\n",
       "<table border=\"1\" class=\"dataframe\">\n",
       "  <thead>\n",
       "    <tr style=\"text-align: right;\">\n",
       "      <th></th>\n",
       "      <th>부모관계</th>\n",
       "      <th>친구관계</th>\n",
       "      <th>교사관계</th>\n",
       "      <th>자아존중감</th>\n",
       "      <th>우울</th>\n",
       "      <th>주의집중</th>\n",
       "      <th>그릿</th>\n",
       "      <th>학업소진</th>\n",
       "    </tr>\n",
       "  </thead>\n",
       "  <tbody>\n",
       "    <tr>\n",
       "      <th>0</th>\n",
       "      <td>88.888889</td>\n",
       "      <td>79.166667</td>\n",
       "      <td>40.000000</td>\n",
       "      <td>73.333333</td>\n",
       "      <td>33.333333</td>\n",
       "      <td>47.619048</td>\n",
       "      <td>50.000000</td>\n",
       "      <td>36.111111</td>\n",
       "    </tr>\n",
       "    <tr>\n",
       "      <th>1</th>\n",
       "      <td>58.333333</td>\n",
       "      <td>70.833333</td>\n",
       "      <td>40.000000</td>\n",
       "      <td>46.666667</td>\n",
       "      <td>26.666667</td>\n",
       "      <td>42.857143</td>\n",
       "      <td>50.000000</td>\n",
       "      <td>41.666667</td>\n",
       "    </tr>\n",
       "    <tr>\n",
       "      <th>2</th>\n",
       "      <td>75.000000</td>\n",
       "      <td>66.666667</td>\n",
       "      <td>46.666667</td>\n",
       "      <td>40.000000</td>\n",
       "      <td>10.000000</td>\n",
       "      <td>14.285714</td>\n",
       "      <td>50.000000</td>\n",
       "      <td>30.555556</td>\n",
       "    </tr>\n",
       "    <tr>\n",
       "      <th>3</th>\n",
       "      <td>91.666667</td>\n",
       "      <td>62.500000</td>\n",
       "      <td>63.333333</td>\n",
       "      <td>56.666667</td>\n",
       "      <td>46.666667</td>\n",
       "      <td>47.619048</td>\n",
       "      <td>50.000000</td>\n",
       "      <td>30.555556</td>\n",
       "    </tr>\n",
       "    <tr>\n",
       "      <th>4</th>\n",
       "      <td>52.777778</td>\n",
       "      <td>75.000000</td>\n",
       "      <td>83.333333</td>\n",
       "      <td>43.333333</td>\n",
       "      <td>0.000000</td>\n",
       "      <td>57.142857</td>\n",
       "      <td>58.333333</td>\n",
       "      <td>38.888889</td>\n",
       "    </tr>\n",
       "    <tr>\n",
       "      <th>...</th>\n",
       "      <td>...</td>\n",
       "      <td>...</td>\n",
       "      <td>...</td>\n",
       "      <td>...</td>\n",
       "      <td>...</td>\n",
       "      <td>...</td>\n",
       "      <td>...</td>\n",
       "      <td>...</td>\n",
       "    </tr>\n",
       "    <tr>\n",
       "      <th>2378</th>\n",
       "      <td>58.333333</td>\n",
       "      <td>29.166667</td>\n",
       "      <td>40.000000</td>\n",
       "      <td>60.000000</td>\n",
       "      <td>46.666667</td>\n",
       "      <td>76.190476</td>\n",
       "      <td>50.000000</td>\n",
       "      <td>63.888889</td>\n",
       "    </tr>\n",
       "    <tr>\n",
       "      <th>2379</th>\n",
       "      <td>69.444444</td>\n",
       "      <td>50.000000</td>\n",
       "      <td>96.666667</td>\n",
       "      <td>43.333333</td>\n",
       "      <td>10.000000</td>\n",
       "      <td>9.523810</td>\n",
       "      <td>45.833333</td>\n",
       "      <td>0.000000</td>\n",
       "    </tr>\n",
       "    <tr>\n",
       "      <th>2380</th>\n",
       "      <td>63.888889</td>\n",
       "      <td>75.000000</td>\n",
       "      <td>70.000000</td>\n",
       "      <td>50.000000</td>\n",
       "      <td>0.000000</td>\n",
       "      <td>28.571429</td>\n",
       "      <td>41.666667</td>\n",
       "      <td>22.222222</td>\n",
       "    </tr>\n",
       "    <tr>\n",
       "      <th>2381</th>\n",
       "      <td>97.222222</td>\n",
       "      <td>87.500000</td>\n",
       "      <td>83.333333</td>\n",
       "      <td>56.666667</td>\n",
       "      <td>3.333333</td>\n",
       "      <td>38.095238</td>\n",
       "      <td>50.000000</td>\n",
       "      <td>5.555556</td>\n",
       "    </tr>\n",
       "    <tr>\n",
       "      <th>2382</th>\n",
       "      <td>66.666667</td>\n",
       "      <td>37.500000</td>\n",
       "      <td>76.666667</td>\n",
       "      <td>46.666667</td>\n",
       "      <td>40.000000</td>\n",
       "      <td>52.380952</td>\n",
       "      <td>58.333333</td>\n",
       "      <td>33.333333</td>\n",
       "    </tr>\n",
       "  </tbody>\n",
       "</table>\n",
       "<p>2383 rows × 8 columns</p>\n",
       "</div>"
      ],
      "text/plain": [
       "           부모관계       친구관계       교사관계      자아존중감         우울       주의집중  \\\n",
       "0     88.888889  79.166667  40.000000  73.333333  33.333333  47.619048   \n",
       "1     58.333333  70.833333  40.000000  46.666667  26.666667  42.857143   \n",
       "2     75.000000  66.666667  46.666667  40.000000  10.000000  14.285714   \n",
       "3     91.666667  62.500000  63.333333  56.666667  46.666667  47.619048   \n",
       "4     52.777778  75.000000  83.333333  43.333333   0.000000  57.142857   \n",
       "...         ...        ...        ...        ...        ...        ...   \n",
       "2378  58.333333  29.166667  40.000000  60.000000  46.666667  76.190476   \n",
       "2379  69.444444  50.000000  96.666667  43.333333  10.000000   9.523810   \n",
       "2380  63.888889  75.000000  70.000000  50.000000   0.000000  28.571429   \n",
       "2381  97.222222  87.500000  83.333333  56.666667   3.333333  38.095238   \n",
       "2382  66.666667  37.500000  76.666667  46.666667  40.000000  52.380952   \n",
       "\n",
       "             그릿       학업소진  \n",
       "0     50.000000  36.111111  \n",
       "1     50.000000  41.666667  \n",
       "2     50.000000  30.555556  \n",
       "3     50.000000  30.555556  \n",
       "4     58.333333  38.888889  \n",
       "...         ...        ...  \n",
       "2378  50.000000  63.888889  \n",
       "2379  45.833333   0.000000  \n",
       "2380  41.666667  22.222222  \n",
       "2381  50.000000   5.555556  \n",
       "2382  58.333333  33.333333  \n",
       "\n",
       "[2383 rows x 8 columns]"
      ]
     },
     "execution_count": 62,
     "metadata": {},
     "output_type": "execute_result"
    }
   ],
   "source": [
    "data"
   ]
  },
  {
   "cell_type": "code",
   "execution_count": 63,
   "id": "4a7b38f1",
   "metadata": {},
   "outputs": [
    {
     "data": {
      "text/plain": [
       "32.03361775445854"
      ]
     },
     "execution_count": 63,
     "metadata": {},
     "output_type": "execute_result"
    }
   ],
   "source": [
    "import numpy as np\n",
    "np.mean(data['학업소진'])"
   ]
  },
  {
   "cell_type": "code",
   "execution_count": 64,
   "id": "768d1737",
   "metadata": {},
   "outputs": [
    {
     "ename": "NameError",
     "evalue": "name 'MinMaxScaler' is not defined",
     "output_type": "error",
     "traceback": [
      "\u001b[0;31m---------------------------------------------------------------------------\u001b[0m",
      "\u001b[0;31mNameError\u001b[0m                                 Traceback (most recent call last)",
      "\u001b[0;32m/var/folders/wz/97th05h90yjfyvrt18kyxwk40000gn/T/ipykernel_66240/4189585934.py\u001b[0m in \u001b[0;36m<module>\u001b[0;34m\u001b[0m\n\u001b[0;32m----> 1\u001b[0;31m \u001b[0mscaler\u001b[0m \u001b[0;34m=\u001b[0m \u001b[0mMinMaxScaler\u001b[0m\u001b[0;34m(\u001b[0m\u001b[0;34m)\u001b[0m\u001b[0;34m\u001b[0m\u001b[0;34m\u001b[0m\u001b[0m\n\u001b[0m",
      "\u001b[0;31mNameError\u001b[0m: name 'MinMaxScaler' is not defined"
     ]
    }
   ],
   "source": [
    "scaler = MinMaxScaler()"
   ]
  },
  {
   "cell_type": "raw",
   "id": "08d77bb5",
   "metadata": {},
   "source": [
    "scaler.fit(data)\n",
    "data_scaled = scaler.transform(data)"
   ]
  },
  {
   "cell_type": "raw",
   "id": "4458dc4f",
   "metadata": {},
   "source": [
    "data_df_scaled = pd.DataFrame(data=data_scaled, columns=data.columns)"
   ]
  },
  {
   "cell_type": "raw",
   "id": "ee0beaa3",
   "metadata": {},
   "source": [
    "print('feature 들의 정규화 최소 값')\n",
    "print(data_df_scaled.min())\n",
    "print('\\nfeature 들의 정규화 최대 값')\n",
    "print(data_df_scaled.max())"
   ]
  },
  {
   "cell_type": "raw",
   "id": "55d39e73",
   "metadata": {},
   "source": [
    "data_df_scaled"
   ]
  },
  {
   "cell_type": "raw",
   "id": "a555d91a",
   "metadata": {},
   "source": [
    "c1"
   ]
  },
  {
   "cell_type": "raw",
   "id": "19673ffb",
   "metadata": {},
   "source": [
    "c2"
   ]
  },
  {
   "cell_type": "raw",
   "id": "514bdbc5",
   "metadata": {},
   "source": [
    "data = data.drop(['학업소진평균'],axis=1)"
   ]
  },
  {
   "cell_type": "raw",
   "id": "cb21deef",
   "metadata": {},
   "source": [
    "data['학업소진총점'] = df2['학업소진총점']"
   ]
  },
  {
   "cell_type": "code",
   "execution_count": 65,
   "id": "09c5a812",
   "metadata": {},
   "outputs": [
    {
     "ename": "SyntaxError",
     "evalue": "invalid syntax (1821154195.py, line 3)",
     "output_type": "error",
     "traceback": [
      "\u001b[0;36m  File \u001b[0;32m\"/var/folders/wz/97th05h90yjfyvrt18kyxwk40000gn/T/ipykernel_66240/1821154195.py\"\u001b[0;36m, line \u001b[0;32m3\u001b[0m\n\u001b[0;31m    x =\u001b[0m\n\u001b[0m        ^\u001b[0m\n\u001b[0;31mSyntaxError\u001b[0m\u001b[0;31m:\u001b[0m invalid syntax\n"
     ]
    }
   ],
   "source": [
    "#선형회귀분석\n",
    "from sklearn.linear_model import LinearRegression\n",
    "x = \n",
    "y = \n",
    "lin_reg = LinearRegression()\n",
    "lin_reg.fit(x,y)\n",
    "print(lin_reg.intercept_,lin_reg.coef_)\n",
    "> [3.88883297] [[2.98499978]]\n",
    "\n",
    "print(lin_reg.predict(x_new))\n",
    ">array([[3.88883297],\n",
    "       [9.85883253]])"
   ]
  },
  {
   "cell_type": "code",
   "execution_count": null,
   "id": "bddd4641",
   "metadata": {},
   "outputs": [],
   "source": []
  },
  {
   "cell_type": "code",
   "execution_count": null,
   "id": "66265db2",
   "metadata": {},
   "outputs": [],
   "source": []
  },
  {
   "cell_type": "code",
   "execution_count": null,
   "id": "1ff71c8f",
   "metadata": {},
   "outputs": [],
   "source": []
  },
  {
   "cell_type": "code",
   "execution_count": 66,
   "id": "90f9d147",
   "metadata": {},
   "outputs": [],
   "source": [
    "#랜덤포레스트\n",
    "from sklearn.ensemble import RandomForestRegressor\n",
    "from sklearn.model_selection import cross_val_score\n",
    "import pandas as pd\n",
    "import numpy as np\n",
    "from sklearn.model_selection import GridSearchCV\n",
    "from sklearn.model_selection import train_test_split\n",
    "from sklearn.metrics import mean_squared_error\n",
    "import math\n",
    "import matplotlib.pyplot as plot"
   ]
  },
  {
   "cell_type": "code",
   "execution_count": 67,
   "id": "e0c276da",
   "metadata": {},
   "outputs": [],
   "source": [
    "x = data[data.columns.difference(['학업소진'])]\n",
    "y = data['학업소진']"
   ]
  },
  {
   "cell_type": "code",
   "execution_count": 68,
   "id": "b0f8bb03",
   "metadata": {},
   "outputs": [],
   "source": [
    "x_train, x_test, y_train, y_test = train_test_split(x,y, test_size=0.3, random_state=1234)\n"
   ]
  },
  {
   "cell_type": "code",
   "execution_count": 90,
   "id": "61b676e9",
   "metadata": {
    "scrolled": false
   },
   "outputs": [
    {
     "name": "stdout",
     "output_type": "stream",
     "text": [
      "(1668, 7) (715, 7) (1668,) (715,)\n"
     ]
    }
   ],
   "source": [
    "print(x_train.shape, x_test.shape, y_train.shape, y_test.shape) # 데이터 개수 확인"
   ]
  },
  {
   "cell_type": "code",
   "execution_count": null,
   "id": "07450786",
   "metadata": {
    "scrolled": true
   },
   "outputs": [
    {
     "name": "stdout",
     "output_type": "stream",
     "text": [
      "결정계수 :  0.24941473257915636\n",
      "결정계수 :  0.2941562165244026\n",
      "결정계수 :  0.30653543758224766\n",
      "결정계수 :  0.31371205749085185\n",
      "결정계수 :  0.33273087369931686\n",
      "결정계수 :  0.3371785361969232\n"
     ]
    }
   ],
   "source": [
    "for i in (10, 20, 30, 40, 100, 150,1000000):\n",
    "  model = RandomForestRegressor(n_estimators = i, random_state = 100000)\n",
    "  model.fit(x_train, y_train)\n",
    "\n",
    "  relation_square = model.score(x_test,y_test)\n",
    "  print('결정계수 : ', relation_square)\n",
    "  \n",
    "  y_p = model.predict(x_test)\n"
   ]
  },
  {
   "cell_type": "code",
   "execution_count": null,
   "id": "dd1b360f",
   "metadata": {
    "scrolled": true
   },
   "outputs": [],
   "source": [
    "clf = RandomForestRegressor()\n",
    "clf.fit(x_train,y_train)"
   ]
  },
  {
   "cell_type": "code",
   "execution_count": null,
   "id": "41977f2a",
   "metadata": {},
   "outputs": [],
   "source": [
    "print(clf.score(x_train, y_train)) \n",
    "\n",
    "print(clf.score(x_test, y_test))"
   ]
  },
  {
   "cell_type": "code",
   "execution_count": null,
   "id": "831fed37",
   "metadata": {},
   "outputs": [],
   "source": [
    "predict1 = clf.predict(x_test)\n",
    "print(accuracy_score(y_test,predict1))"
   ]
  },
  {
   "cell_type": "code",
   "execution_count": null,
   "id": "753ee1f4",
   "metadata": {},
   "outputs": [],
   "source": [
    "def modeling_uncustomized (algorithm, x_train, y_train, x_test, y_test):\n",
    "    # 하이퍼파라미터 조정 없이 모델 학습\n",
    "    uncustomized = algorithm(random_state=1234)\n",
    "    uncustomized.fit(x_train, y_train)\n",
    "    # Train Data 설명력\n",
    "    train_score_before = uncustomized.score(x_train, y_train).round(3)\n",
    "    print(f\"학습 데이터셋 정확도: {train_score_before}\")\n",
    "    # Test Data 설명력\n",
    "    test_score_before = uncustomized.score(x_test, y_test).round(3)\n",
    "    print(f\"테스트 데이터셋 정확도: {test_score_before}\")\n",
    "    return train_score_before, test_score_before"
   ]
  },
  {
   "cell_type": "code",
   "execution_count": null,
   "id": "f9ecb155",
   "metadata": {},
   "outputs": [],
   "source": [
    "# 랜덤포레스트 분류 알고리즘\n",
    "algorithm = RFC\n",
    "algorithm_name = 'rfc'"
   ]
  },
  {
   "cell_type": "code",
   "execution_count": null,
   "id": "2760d093",
   "metadata": {
    "scrolled": true
   },
   "outputs": [],
   "source": [
    "train_acc_before, test_acc_before = modeling_uncustomized(algorithm, \n",
    "                                                          x_train,\n",
    "                                                          y_train,\n",
    "                                                          x_test,\n",
    "                                                          y_test)"
   ]
  },
  {
   "cell_type": "code",
   "execution_count": null,
   "id": "6f2be895",
   "metadata": {},
   "outputs": [],
   "source": [
    "def optimi_visualization(algorithm_name, x_values, train_score, test_score, xlabel, filename):\n",
    "    # 하이퍼파라미터 조정에 따른 학습 데이터셋 기반 모델 성능 추이 시각화\n",
    "    plt.plot(x_values, train_score, linestyle = '-', label = 'train score')\n",
    "    # 하이퍼파라미터 조정에 따른 테스트 데이터셋 기반 모델 성능 추이 시각화\n",
    "    plt.plot(x_values, test_score, linestyle = '--', label = 'test score')\n",
    "    plt.ylabel('Accuracy(%)') # y축 라벨\n",
    "    plt.xlabel(xlabel) # x축 라벨\n",
    "    plt.legend() # 범례표시"
   ]
  },
  {
   "cell_type": "code",
   "execution_count": null,
   "id": "ba54ef2c",
   "metadata": {},
   "outputs": [],
   "source": [
    "def optimi_estimator(algorithm, algorithm_name, x_train, y_train, x_test, y_test, n_estimator_min, n_estimator_max):\n",
    "    train_score = []; test_score =[]\n",
    "    para_n_tree = [n_tree*5 for n_tree in range(n_estimator_min, n_estimator_max)]\n",
    "\n",
    "    for v_n_estimators in para_n_tree:\n",
    "        model = algorithm(n_estimators = v_n_estimators, random_state=1234)\n",
    "        model.fit(x_train, y_train)\n",
    "        train_score.append(model.score(x_train, y_train))\n",
    "        test_score.append(model.score(x_test, y_test))\n",
    "\n",
    "    # 트리 개수에 따른 모델 성능 저장\n",
    "    df_score_n = pd.DataFrame({'n_estimators': para_n_tree, 'TrainScore': train_score, 'TestScore': test_score})\n",
    "    # 트리 개수에 따른 모델 성능 추이 시각화 함수 호출\n",
    "    optimi_visualization(algorithm_name, para_n_tree, train_score, test_score, \"The number of estimator\", \"n_estimator\")\n",
    "    print(round(df_score_n, 4))"
   ]
  },
  {
   "cell_type": "code",
   "execution_count": null,
   "id": "7adc6437",
   "metadata": {},
   "outputs": [],
   "source": [
    "def optimi_maxdepth (algorithm, algorithm_name, x_train, y_train, x_test, y_test, depth_min, depth_max, n_estimator):\n",
    "    train_score = []; test_score = []\n",
    "    para_depth = [depth for depth in range(depth_min, depth_max)]\n",
    "\n",
    "    for v_max_depth in para_depth:\n",
    "        # 의사결정나무 모델의 경우 트리 개수를 따로 설정하지 않기 때문에 RFC, GBC와 분리하여 모델링\n",
    "        if algorithm == DTC:\n",
    "            model = algorithm(max_depth = v_max_depth,\n",
    "                              random_state=1234)\n",
    "        else:\n",
    "            model = algorithm(max_depth = v_max_depth,\n",
    "                              n_estimators = n_estimator,\n",
    "                              random_state=1234)\n",
    "        \n",
    "        model.fit(x_train, y_train)\n",
    "        train_score.append(model.score(x_train, y_train))\n",
    "        test_score.append(model.score(x_test, y_test))\n",
    "\n",
    "    # 최대 깊이에 따른 모델 성능 저장\n",
    "    df_score_n = pd.DataFrame({'depth': para_depth, 'TrainScore': train_score, 'TestScore': test_score})\n",
    "    # 최대 깊이에 따른 모델 성능 추이 시각화 함수 호출\n",
    "    optimi_visualization(algorithm_name, para_depth, train_score, test_score, \"The number of depth\", \"n_depth\")\n",
    "    print(round(df_score_n, 4))"
   ]
  },
  {
   "cell_type": "code",
   "execution_count": null,
   "id": "5d1ac9db",
   "metadata": {},
   "outputs": [],
   "source": [
    "def optimi_minsplit (algorithm, algorithm_name, x_train, y_train, x_test, y_test, n_split_min, n_split_max, n_estimator, n_depth):\n",
    "    train_score = []; test_score = []\n",
    "    para_split = [n_split*2 for n_split in range(n_split_min, n_split_max)]\n",
    "    for v_min_samples_split in para_split:\n",
    "        # 의사결정나무 모델의 경우 트리 개수를 따로 설정하지 않기 때문에 RFC, GBC와 분리하여 모델링\n",
    "        if algorithm == DTC:\n",
    "            model = algorithm(min_samples_split = v_min_samples_split,\n",
    "                              max_depth = n_depth,\n",
    "                              random_state = 1234)\n",
    "        else:\n",
    "            model = algorithm(min_samples_split = v_min_samples_split,\n",
    "                              n_estimators = n_estimator,\n",
    "                              max_depth = n_depth,\n",
    "                              random_state = 1234)\n",
    "        model.fit(x_train, y_train)\n",
    "        train_score.append(model.score(x_train, y_train))\n",
    "        test_score.append(model.score(x_test, y_test))\n",
    "\n",
    "    # 분리 노드의 최소 자료 수에 따른 모델 성능 저장\n",
    "    df_score_n = pd.DataFrame({'min_samples_split': para_split, 'TrainScore': train_score, 'TestScore': test_score})\n",
    "    # 분리 노드의 최소 자료 수에 따른 모델 성능 추이 시각화 함수 호출\n",
    "    optimi_visualization(algorithm_name, para_split, train_score, test_score, \"The minimum number of samples required to split an internal node\", \"min_samples_split\")\n",
    "    print(round(df_score_n, 4))"
   ]
  },
  {
   "cell_type": "code",
   "execution_count": null,
   "id": "6e169666",
   "metadata": {},
   "outputs": [],
   "source": [
    "def optimi_minleaf(algorithm, algorithm_name, x_train, y_train, x_test, y_test, n_leaf_min, n_leaf_max, n_estimator, n_depth, n_split):\n",
    "    train_score = []; test_score = []\n",
    "    para_leaf = [n_leaf*2 for n_leaf in range(n_leaf_min, n_leaf_max)]\n",
    "\n",
    "    for v_min_samples_leaf in para_leaf:\n",
    "        # 의사결정나무 모델의 경우 트리 개수를 따로 설정하지 않기 때문에 RFC, GBC와 분리하여 모델링\n",
    "        if algorithm == DTC:\n",
    "            model = algorithm(min_samples_leaf = v_min_samples_leaf,\n",
    "                                        max_depth = n_depth,\n",
    "                                        min_samples_split = n_split,\n",
    "                                        random_state=1234)\n",
    "        else:\n",
    "            model = algorithm(min_samples_leaf = v_min_samples_leaf,\n",
    "                                n_estimators = n_estimator,\n",
    "                                max_depth = n_depth,\n",
    "                                min_samples_split = n_split,\n",
    "                                random_state=1234)\n",
    "        model.fit(x_train, y_train)\n",
    "        train_score.append(model.score(x_train, y_train))\n",
    "        test_score.append(model.score(x_test, y_test))\n",
    "\n",
    "    # 잎사귀 노드의 최소 자료 수에 따른 모델 성능 저장\n",
    "    df_score_n = pd.DataFrame({'min_samples_leaf': para_leaf, 'TrainScore': train_score, 'TestScore': test_score})\n",
    "    # 잎사귀 노드의 최소 자료 수에 따른 모델 성능 추이 시각화 함수 호출\n",
    "    optimi_visualization(algorithm_name, para_leaf, train_score, test_score, \"The minimum number of samples required to be at a leaf node\", \"min_samples_leaf\")\n",
    "    print(round(df_score_n, 4))"
   ]
  },
  {
   "cell_type": "code",
   "execution_count": null,
   "id": "ebf49084",
   "metadata": {},
   "outputs": [],
   "source": [
    "def model_final(algorithm, algorithm_name, feature_name, x_train, y_train, x_test, y_test, n_estimator, n_depth, n_split, n_leaf):\n",
    "    # 의사결정나무 모델의 경우 트리 개수를 따로 설정하지 않기 때문에 RFC, GBC와 분리하여 모델링\n",
    "    if algorithm == DTC:\n",
    "        model = algorithm(random_state=1234, \n",
    "                          min_samples_leaf = n_leaf,\n",
    "                          min_samples_split = n_split, \n",
    "                          max_depth = n_depth)\n",
    "    else:\n",
    "        model = algorithm(random_state = 1234, \n",
    "                          n_estimators = n_estimator, \n",
    "                          min_samples_leaf = n_leaf,\n",
    "                          min_samples_split = n_split, \n",
    "                          max_depth = n_depth)\n",
    "    # 모델 학습\n",
    "    model.fit(x_train, y_train)\n",
    "    \n",
    "    # 최종 모델의 성능 평가\n",
    "    train_acc = model.score(x_train, y_train)\n",
    "    test_acc = model.score(x_test, y_test)\n",
    "    y_pred = model.predict(x_test)\n",
    "    print(f\"Accuracy: {accuracy_score(y_test, y_pred):.3f}\") # 정확도\n",
    "    print(f\"Precision: {precision_score(y_test, y_pred,average='micro'):.3f}\") # 정밀도\n",
    "    print(f\"Recall: {recall_score(y_test, y_pred,average='micro'):.3f}\") # 재현율\n",
    "    print(f\"F1-score: {f1_score(y_test, y_pred,average='micro'):.3f}\") # F1 스코어\n",
    "    \n",
    "    \n",
    "    \n",
    "    # 혼동행렬 시각화\n",
    "    plt.figure(figsize =(30, 30))\n",
    "    plot_confusion_matrix(model, \n",
    "                         x_test, y_test,\n",
    "                         include_values = True,\n",
    "                         display_labels = ['학업소진평균'], # 목표변수 이름\n",
    "                         cmap = 'Pastel1') # 컬러맵\n",
    "\n",
    "    # 변수 중요도 산출\n",
    "    dt_importance = pd.DataFrame()\n",
    "    dt_importance['Feature'] = feature_name # 설명변수 이름\n",
    "    dt_importance['Importance'] = model.feature_importances_ # 설명변수 중요도 산출\n",
    "\n",
    "    # 변수 중요도 내림차순 정렬\n",
    "    dt_importance.sort_values(\"Importance\", ascending = False, inplace = True)\n",
    "    print(dt_importance.round(3))\n",
    "    # 변수 중요도 오름차순 정렬\n",
    "    dt_importance.sort_values(\"Importance\", ascending = True, inplace = True)\n",
    "    # 변수 중요도 시각화\n",
    "    coordinates = range(len(dt_importance)) # 설명변수 개수만큼 bar 시각화\n",
    "    plt.barh(y = coordinates, width = dt_importance[\"Importance\"], family='AppleGothic')\n",
    "    plt.yticks(coordinates, dt_importance[\"Feature\"]) # y축 눈금별 설명변수 이름 기입\n",
    "    plt.xlabel(\"Feature Importance\") # x축 이름\n",
    "    plt.ylabel(\"Features\") # y축 이름\n"
   ]
  },
  {
   "cell_type": "code",
   "execution_count": null,
   "id": "16a7dd60",
   "metadata": {},
   "outputs": [],
   "source": [
    "n_estimator_min = 1\n",
    "n_estimator_max = 40\n",
    "optimi_estimator(algorithm, algorithm_name, \n",
    "                 x_train, y_train, x_test, y_test, \n",
    "                 n_estimator_min, n_estimator_max)"
   ]
  },
  {
   "cell_type": "code",
   "execution_count": null,
   "id": "bf6d7af2",
   "metadata": {},
   "outputs": [],
   "source": [
    "n_estimator = 17"
   ]
  },
  {
   "cell_type": "code",
   "execution_count": null,
   "id": "21af95d6",
   "metadata": {},
   "outputs": [],
   "source": [
    "depth_min = 1\n",
    "depth_max = 21\n",
    "optimi_maxdepth(algorithm, algorithm_name, \n",
    "                x_train, y_train, x_test, y_test, \n",
    "                depth_min, depth_max, n_estimator)"
   ]
  },
  {
   "cell_type": "code",
   "execution_count": null,
   "id": "30ab6a69",
   "metadata": {},
   "outputs": [],
   "source": []
  },
  {
   "cell_type": "code",
   "execution_count": null,
   "id": "409d818f",
   "metadata": {},
   "outputs": [],
   "source": [
    "n_depth = 4 \n",
    "#테스트 데이터 기반 모델 정확도가 점차 증가하다가 감소하기 시작하는 구간으로, 최대 깊이 6을 최적의 값으로 선정하였습니다. "
   ]
  },
  {
   "cell_type": "code",
   "execution_count": null,
   "id": "07e1cebd",
   "metadata": {},
   "outputs": [],
   "source": [
    "n_split_min = 1\n",
    "n_split_max = 101\n",
    "# 데이터프레임 행 최대 100개까지 반드시 출력\n",
    "pd.set_option('display.max_row', 100)\n",
    "optimi_minsplit (algorithm, algorithm_name,\n",
    "                 x_train, y_train, x_test, y_test,\n",
    "                 n_split_min, n_split_max, n_estimator, n_depth)"
   ]
  },
  {
   "cell_type": "code",
   "execution_count": null,
   "id": "3d9552df",
   "metadata": {},
   "outputs": [],
   "source": [
    "n_split = 100 # 많을수록 좋고 가장 적은 차이를 보임 0.0011"
   ]
  },
  {
   "cell_type": "code",
   "execution_count": null,
   "id": "6b9015f0",
   "metadata": {},
   "outputs": [],
   "source": [
    "n_leaf_min = 1\n",
    "n_leaf_max = 51\n",
    "optimi_minleaf(algorithm, algorithm_name, \n",
    "               x_train, y_train, x_test, y_test, \n",
    "               n_leaf_min, n_leaf_max, n_estimator, n_depth, n_split)"
   ]
  },
  {
   "cell_type": "code",
   "execution_count": null,
   "id": "55aa17c4",
   "metadata": {},
   "outputs": [],
   "source": [
    "n_leaf = 43"
   ]
  },
  {
   "cell_type": "code",
   "execution_count": null,
   "id": "b5e6225d",
   "metadata": {},
   "outputs": [],
   "source": [
    "feature_name = x.columns"
   ]
  },
  {
   "cell_type": "code",
   "execution_count": null,
   "id": "c7051228",
   "metadata": {
    "scrolled": false
   },
   "outputs": [],
   "source": [
    "model_final(algorithm, algorithm_name, feature_name,\n",
    "            x_train, y_train, x_test, y_test,\n",
    "            n_estimator, n_depth, n_split, n_leaf)"
   ]
  },
  {
   "cell_type": "raw",
   "id": "3fe72674",
   "metadata": {},
   "source": [
    "auc,roc"
   ]
  },
  {
   "cell_type": "code",
   "execution_count": null,
   "id": "6fc6f275",
   "metadata": {},
   "outputs": [],
   "source": [
    "y_proba = clf.predict_proba(x_test)[:,1]\n",
    "print(\"Roc AUC:\", roc_auc_score(y_test, clf.predict_proba(x_test)[:,1],average='macro'))\n",
    "fpr, tpr, thresholds = roc_curve(y_test, y_proba)\n",
    "plt.plot(fpr, tpr)"
   ]
  },
  {
   "cell_type": "raw",
   "id": "fd1b256f",
   "metadata": {},
   "source": [
    "이항분류"
   ]
  },
  {
   "cell_type": "code",
   "execution_count": 79,
   "id": "d5cbe5ea",
   "metadata": {},
   "outputs": [
    {
     "ename": "NameError",
     "evalue": "name 'stats' is not defined",
     "output_type": "error",
     "traceback": [
      "\u001b[0;31m---------------------------------------------------------------------------\u001b[0m",
      "\u001b[0;31mNameError\u001b[0m                                 Traceback (most recent call last)",
      "\u001b[0;32m/var/folders/wz/97th05h90yjfyvrt18kyxwk40000gn/T/ipykernel_66240/715652708.py\u001b[0m in \u001b[0;36m<module>\u001b[0;34m\u001b[0m\n\u001b[0;32m----> 1\u001b[0;31m \u001b[0mstats\u001b[0m\u001b[0;34m.\u001b[0m\u001b[0mshapiro\u001b[0m\u001b[0;34m(\u001b[0m\u001b[0mdata\u001b[0m\u001b[0;34m[\u001b[0m\u001b[0;34m'학업소진'\u001b[0m\u001b[0;34m]\u001b[0m\u001b[0;34m)\u001b[0m\u001b[0;34m\u001b[0m\u001b[0;34m\u001b[0m\u001b[0m\n\u001b[0m\u001b[1;32m      2\u001b[0m \u001b[0mmu\u001b[0m \u001b[0;34m=\u001b[0m \u001b[0;36m32.5\u001b[0m\u001b[0;34m\u001b[0m\u001b[0;34m\u001b[0m\u001b[0m\n\u001b[1;32m      3\u001b[0m \u001b[0mresult\u001b[0m \u001b[0;34m=\u001b[0m \u001b[0mstats\u001b[0m\u001b[0;34m.\u001b[0m\u001b[0mttest_1samp\u001b[0m\u001b[0;34m(\u001b[0m\u001b[0mdata\u001b[0m\u001b[0;34m[\u001b[0m\u001b[0;34m'학업소진'\u001b[0m\u001b[0;34m]\u001b[0m\u001b[0;34m,\u001b[0m \u001b[0mmu\u001b[0m\u001b[0;34m)\u001b[0m\u001b[0;34m\u001b[0m\u001b[0;34m\u001b[0m\u001b[0m\n\u001b[1;32m      4\u001b[0m \u001b[0mprint\u001b[0m\u001b[0;34m(\u001b[0m\u001b[0mresult\u001b[0m\u001b[0;34m)\u001b[0m\u001b[0;34m\u001b[0m\u001b[0;34m\u001b[0m\u001b[0m\n",
      "\u001b[0;31mNameError\u001b[0m: name 'stats' is not defined"
     ]
    }
   ],
   "source": [
    "stats.shapiro(data['학업소진'])\n",
    "mu = 32.5\n",
    "result = stats.ttest_1samp(data['학업소진'], mu)\n",
    "print(result)"
   ]
  },
  {
   "cell_type": "code",
   "execution_count": 80,
   "id": "691a4dc4",
   "metadata": {
    "scrolled": true
   },
   "outputs": [
    {
     "data": {
      "text/html": [
       "<div>\n",
       "<style scoped>\n",
       "    .dataframe tbody tr th:only-of-type {\n",
       "        vertical-align: middle;\n",
       "    }\n",
       "\n",
       "    .dataframe tbody tr th {\n",
       "        vertical-align: top;\n",
       "    }\n",
       "\n",
       "    .dataframe thead th {\n",
       "        text-align: right;\n",
       "    }\n",
       "</style>\n",
       "<table border=\"1\" class=\"dataframe\">\n",
       "  <thead>\n",
       "    <tr style=\"text-align: right;\">\n",
       "      <th></th>\n",
       "      <th>부모관계</th>\n",
       "      <th>친구관계</th>\n",
       "      <th>교사관계</th>\n",
       "      <th>자아존중감</th>\n",
       "      <th>우울</th>\n",
       "      <th>주의집중</th>\n",
       "      <th>그릿</th>\n",
       "      <th>학업소진</th>\n",
       "    </tr>\n",
       "  </thead>\n",
       "  <tbody>\n",
       "    <tr>\n",
       "      <th>count</th>\n",
       "      <td>2383.000000</td>\n",
       "      <td>2383.000000</td>\n",
       "      <td>2383.000000</td>\n",
       "      <td>2383.000000</td>\n",
       "      <td>2383.000000</td>\n",
       "      <td>2383.000000</td>\n",
       "      <td>2383.000000</td>\n",
       "      <td>2383.000000</td>\n",
       "    </tr>\n",
       "    <tr>\n",
       "      <th>mean</th>\n",
       "      <td>71.848044</td>\n",
       "      <td>68.366205</td>\n",
       "      <td>61.200168</td>\n",
       "      <td>51.733110</td>\n",
       "      <td>26.353336</td>\n",
       "      <td>37.919389</td>\n",
       "      <td>51.223947</td>\n",
       "      <td>32.033618</td>\n",
       "    </tr>\n",
       "    <tr>\n",
       "      <th>std</th>\n",
       "      <td>14.969805</td>\n",
       "      <td>15.312770</td>\n",
       "      <td>15.016407</td>\n",
       "      <td>8.405038</td>\n",
       "      <td>20.136087</td>\n",
       "      <td>18.622242</td>\n",
       "      <td>10.436546</td>\n",
       "      <td>17.145047</td>\n",
       "    </tr>\n",
       "    <tr>\n",
       "      <th>min</th>\n",
       "      <td>0.000000</td>\n",
       "      <td>0.000000</td>\n",
       "      <td>0.000000</td>\n",
       "      <td>0.000000</td>\n",
       "      <td>0.000000</td>\n",
       "      <td>0.000000</td>\n",
       "      <td>0.000000</td>\n",
       "      <td>0.000000</td>\n",
       "    </tr>\n",
       "    <tr>\n",
       "      <th>25%</th>\n",
       "      <td>63.888889</td>\n",
       "      <td>58.333333</td>\n",
       "      <td>53.333333</td>\n",
       "      <td>46.666667</td>\n",
       "      <td>10.000000</td>\n",
       "      <td>23.809524</td>\n",
       "      <td>45.833333</td>\n",
       "      <td>19.444444</td>\n",
       "    </tr>\n",
       "    <tr>\n",
       "      <th>50%</th>\n",
       "      <td>69.444444</td>\n",
       "      <td>66.666667</td>\n",
       "      <td>63.333333</td>\n",
       "      <td>53.333333</td>\n",
       "      <td>26.666667</td>\n",
       "      <td>38.095238</td>\n",
       "      <td>50.000000</td>\n",
       "      <td>33.333333</td>\n",
       "    </tr>\n",
       "    <tr>\n",
       "      <th>75%</th>\n",
       "      <td>83.333333</td>\n",
       "      <td>75.000000</td>\n",
       "      <td>66.666667</td>\n",
       "      <td>56.666667</td>\n",
       "      <td>36.666667</td>\n",
       "      <td>52.380952</td>\n",
       "      <td>58.333333</td>\n",
       "      <td>41.666667</td>\n",
       "    </tr>\n",
       "    <tr>\n",
       "      <th>max</th>\n",
       "      <td>100.000000</td>\n",
       "      <td>100.000000</td>\n",
       "      <td>100.000000</td>\n",
       "      <td>100.000000</td>\n",
       "      <td>100.000000</td>\n",
       "      <td>100.000000</td>\n",
       "      <td>100.000000</td>\n",
       "      <td>100.000000</td>\n",
       "    </tr>\n",
       "  </tbody>\n",
       "</table>\n",
       "</div>"
      ],
      "text/plain": [
       "              부모관계         친구관계         교사관계        자아존중감           우울  \\\n",
       "count  2383.000000  2383.000000  2383.000000  2383.000000  2383.000000   \n",
       "mean     71.848044    68.366205    61.200168    51.733110    26.353336   \n",
       "std      14.969805    15.312770    15.016407     8.405038    20.136087   \n",
       "min       0.000000     0.000000     0.000000     0.000000     0.000000   \n",
       "25%      63.888889    58.333333    53.333333    46.666667    10.000000   \n",
       "50%      69.444444    66.666667    63.333333    53.333333    26.666667   \n",
       "75%      83.333333    75.000000    66.666667    56.666667    36.666667   \n",
       "max     100.000000   100.000000   100.000000   100.000000   100.000000   \n",
       "\n",
       "              주의집중           그릿         학업소진  \n",
       "count  2383.000000  2383.000000  2383.000000  \n",
       "mean     37.919389    51.223947    32.033618  \n",
       "std      18.622242    10.436546    17.145047  \n",
       "min       0.000000     0.000000     0.000000  \n",
       "25%      23.809524    45.833333    19.444444  \n",
       "50%      38.095238    50.000000    33.333333  \n",
       "75%      52.380952    58.333333    41.666667  \n",
       "max     100.000000   100.000000   100.000000  "
      ]
     },
     "execution_count": 80,
     "metadata": {},
     "output_type": "execute_result"
    }
   ],
   "source": [
    "data.describe(include='all')"
   ]
  },
  {
   "cell_type": "raw",
   "id": "c7c9f866",
   "metadata": {},
   "source": [
    "이항분류"
   ]
  },
  {
   "cell_type": "code",
   "execution_count": 81,
   "id": "091961c9",
   "metadata": {},
   "outputs": [],
   "source": [
    "def old_groups(values):\n",
    "    if values >= 32:\n",
    "        return 1\n",
    "    else:\n",
    "        return 0"
   ]
  },
  {
   "cell_type": "code",
   "execution_count": 82,
   "id": "5bfa6986",
   "metadata": {},
   "outputs": [],
   "source": [
    "dataB = data.copy()"
   ]
  },
  {
   "cell_type": "code",
   "execution_count": 83,
   "id": "a9ddb2a9",
   "metadata": {},
   "outputs": [],
   "source": [
    "dataB['학업소진'] = data['학업소진'].apply(old_groups)"
   ]
  },
  {
   "cell_type": "code",
   "execution_count": 84,
   "id": "79ef652e",
   "metadata": {
    "scrolled": false
   },
   "outputs": [
    {
     "data": {
      "text/plain": [
       "32.03361775445854"
      ]
     },
     "execution_count": 84,
     "metadata": {},
     "output_type": "execute_result"
    }
   ],
   "source": [
    "data['학업소진'].mean()"
   ]
  },
  {
   "cell_type": "code",
   "execution_count": 85,
   "id": "9c8d2324",
   "metadata": {},
   "outputs": [],
   "source": [
    "dataB.to_csv(\"dataB.csv\",index = False,encoding='cp949')"
   ]
  },
  {
   "cell_type": "code",
   "execution_count": 86,
   "id": "dfd422eb",
   "metadata": {},
   "outputs": [
    {
     "data": {
      "text/html": [
       "<div>\n",
       "<style scoped>\n",
       "    .dataframe tbody tr th:only-of-type {\n",
       "        vertical-align: middle;\n",
       "    }\n",
       "\n",
       "    .dataframe tbody tr th {\n",
       "        vertical-align: top;\n",
       "    }\n",
       "\n",
       "    .dataframe thead th {\n",
       "        text-align: right;\n",
       "    }\n",
       "</style>\n",
       "<table border=\"1\" class=\"dataframe\">\n",
       "  <thead>\n",
       "    <tr style=\"text-align: right;\">\n",
       "      <th></th>\n",
       "      <th>부모관계</th>\n",
       "      <th>친구관계</th>\n",
       "      <th>교사관계</th>\n",
       "      <th>자아존중감</th>\n",
       "      <th>우울</th>\n",
       "      <th>주의집중</th>\n",
       "      <th>그릿</th>\n",
       "      <th>학업소진</th>\n",
       "    </tr>\n",
       "  </thead>\n",
       "  <tbody>\n",
       "    <tr>\n",
       "      <th>0</th>\n",
       "      <td>88.888889</td>\n",
       "      <td>79.166667</td>\n",
       "      <td>40.000000</td>\n",
       "      <td>73.333333</td>\n",
       "      <td>33.333333</td>\n",
       "      <td>47.619048</td>\n",
       "      <td>50.000000</td>\n",
       "      <td>1</td>\n",
       "    </tr>\n",
       "    <tr>\n",
       "      <th>1</th>\n",
       "      <td>58.333333</td>\n",
       "      <td>70.833333</td>\n",
       "      <td>40.000000</td>\n",
       "      <td>46.666667</td>\n",
       "      <td>26.666667</td>\n",
       "      <td>42.857143</td>\n",
       "      <td>50.000000</td>\n",
       "      <td>1</td>\n",
       "    </tr>\n",
       "    <tr>\n",
       "      <th>2</th>\n",
       "      <td>75.000000</td>\n",
       "      <td>66.666667</td>\n",
       "      <td>46.666667</td>\n",
       "      <td>40.000000</td>\n",
       "      <td>10.000000</td>\n",
       "      <td>14.285714</td>\n",
       "      <td>50.000000</td>\n",
       "      <td>0</td>\n",
       "    </tr>\n",
       "    <tr>\n",
       "      <th>3</th>\n",
       "      <td>91.666667</td>\n",
       "      <td>62.500000</td>\n",
       "      <td>63.333333</td>\n",
       "      <td>56.666667</td>\n",
       "      <td>46.666667</td>\n",
       "      <td>47.619048</td>\n",
       "      <td>50.000000</td>\n",
       "      <td>0</td>\n",
       "    </tr>\n",
       "    <tr>\n",
       "      <th>4</th>\n",
       "      <td>52.777778</td>\n",
       "      <td>75.000000</td>\n",
       "      <td>83.333333</td>\n",
       "      <td>43.333333</td>\n",
       "      <td>0.000000</td>\n",
       "      <td>57.142857</td>\n",
       "      <td>58.333333</td>\n",
       "      <td>1</td>\n",
       "    </tr>\n",
       "    <tr>\n",
       "      <th>...</th>\n",
       "      <td>...</td>\n",
       "      <td>...</td>\n",
       "      <td>...</td>\n",
       "      <td>...</td>\n",
       "      <td>...</td>\n",
       "      <td>...</td>\n",
       "      <td>...</td>\n",
       "      <td>...</td>\n",
       "    </tr>\n",
       "    <tr>\n",
       "      <th>2378</th>\n",
       "      <td>58.333333</td>\n",
       "      <td>29.166667</td>\n",
       "      <td>40.000000</td>\n",
       "      <td>60.000000</td>\n",
       "      <td>46.666667</td>\n",
       "      <td>76.190476</td>\n",
       "      <td>50.000000</td>\n",
       "      <td>1</td>\n",
       "    </tr>\n",
       "    <tr>\n",
       "      <th>2379</th>\n",
       "      <td>69.444444</td>\n",
       "      <td>50.000000</td>\n",
       "      <td>96.666667</td>\n",
       "      <td>43.333333</td>\n",
       "      <td>10.000000</td>\n",
       "      <td>9.523810</td>\n",
       "      <td>45.833333</td>\n",
       "      <td>0</td>\n",
       "    </tr>\n",
       "    <tr>\n",
       "      <th>2380</th>\n",
       "      <td>63.888889</td>\n",
       "      <td>75.000000</td>\n",
       "      <td>70.000000</td>\n",
       "      <td>50.000000</td>\n",
       "      <td>0.000000</td>\n",
       "      <td>28.571429</td>\n",
       "      <td>41.666667</td>\n",
       "      <td>0</td>\n",
       "    </tr>\n",
       "    <tr>\n",
       "      <th>2381</th>\n",
       "      <td>97.222222</td>\n",
       "      <td>87.500000</td>\n",
       "      <td>83.333333</td>\n",
       "      <td>56.666667</td>\n",
       "      <td>3.333333</td>\n",
       "      <td>38.095238</td>\n",
       "      <td>50.000000</td>\n",
       "      <td>0</td>\n",
       "    </tr>\n",
       "    <tr>\n",
       "      <th>2382</th>\n",
       "      <td>66.666667</td>\n",
       "      <td>37.500000</td>\n",
       "      <td>76.666667</td>\n",
       "      <td>46.666667</td>\n",
       "      <td>40.000000</td>\n",
       "      <td>52.380952</td>\n",
       "      <td>58.333333</td>\n",
       "      <td>1</td>\n",
       "    </tr>\n",
       "  </tbody>\n",
       "</table>\n",
       "<p>2383 rows × 8 columns</p>\n",
       "</div>"
      ],
      "text/plain": [
       "           부모관계       친구관계       교사관계      자아존중감         우울       주의집중  \\\n",
       "0     88.888889  79.166667  40.000000  73.333333  33.333333  47.619048   \n",
       "1     58.333333  70.833333  40.000000  46.666667  26.666667  42.857143   \n",
       "2     75.000000  66.666667  46.666667  40.000000  10.000000  14.285714   \n",
       "3     91.666667  62.500000  63.333333  56.666667  46.666667  47.619048   \n",
       "4     52.777778  75.000000  83.333333  43.333333   0.000000  57.142857   \n",
       "...         ...        ...        ...        ...        ...        ...   \n",
       "2378  58.333333  29.166667  40.000000  60.000000  46.666667  76.190476   \n",
       "2379  69.444444  50.000000  96.666667  43.333333  10.000000   9.523810   \n",
       "2380  63.888889  75.000000  70.000000  50.000000   0.000000  28.571429   \n",
       "2381  97.222222  87.500000  83.333333  56.666667   3.333333  38.095238   \n",
       "2382  66.666667  37.500000  76.666667  46.666667  40.000000  52.380952   \n",
       "\n",
       "             그릿  학업소진  \n",
       "0     50.000000     1  \n",
       "1     50.000000     1  \n",
       "2     50.000000     0  \n",
       "3     50.000000     0  \n",
       "4     58.333333     1  \n",
       "...         ...   ...  \n",
       "2378  50.000000     1  \n",
       "2379  45.833333     0  \n",
       "2380  41.666667     0  \n",
       "2381  50.000000     0  \n",
       "2382  58.333333     1  \n",
       "\n",
       "[2383 rows x 8 columns]"
      ]
     },
     "execution_count": 86,
     "metadata": {},
     "output_type": "execute_result"
    }
   ],
   "source": [
    "dataB"
   ]
  },
  {
   "cell_type": "code",
   "execution_count": 87,
   "id": "7edce816",
   "metadata": {
    "scrolled": true
   },
   "outputs": [
    {
     "data": {
      "text/html": [
       "<div>\n",
       "<style scoped>\n",
       "    .dataframe tbody tr th:only-of-type {\n",
       "        vertical-align: middle;\n",
       "    }\n",
       "\n",
       "    .dataframe tbody tr th {\n",
       "        vertical-align: top;\n",
       "    }\n",
       "\n",
       "    .dataframe thead th {\n",
       "        text-align: right;\n",
       "    }\n",
       "</style>\n",
       "<table border=\"1\" class=\"dataframe\">\n",
       "  <thead>\n",
       "    <tr style=\"text-align: right;\">\n",
       "      <th></th>\n",
       "      <th>부모관계</th>\n",
       "      <th>친구관계</th>\n",
       "      <th>교사관계</th>\n",
       "      <th>자아존중감</th>\n",
       "      <th>우울</th>\n",
       "      <th>주의집중</th>\n",
       "      <th>그릿</th>\n",
       "      <th>학업소진</th>\n",
       "    </tr>\n",
       "  </thead>\n",
       "  <tbody>\n",
       "    <tr>\n",
       "      <th>count</th>\n",
       "      <td>2383.000000</td>\n",
       "      <td>2383.000000</td>\n",
       "      <td>2383.000000</td>\n",
       "      <td>2383.000000</td>\n",
       "      <td>2383.000000</td>\n",
       "      <td>2383.000000</td>\n",
       "      <td>2383.000000</td>\n",
       "      <td>2383.000000</td>\n",
       "    </tr>\n",
       "    <tr>\n",
       "      <th>mean</th>\n",
       "      <td>71.848044</td>\n",
       "      <td>68.366205</td>\n",
       "      <td>61.200168</td>\n",
       "      <td>51.733110</td>\n",
       "      <td>26.353336</td>\n",
       "      <td>37.919389</td>\n",
       "      <td>51.223947</td>\n",
       "      <td>32.033618</td>\n",
       "    </tr>\n",
       "    <tr>\n",
       "      <th>std</th>\n",
       "      <td>14.969805</td>\n",
       "      <td>15.312770</td>\n",
       "      <td>15.016407</td>\n",
       "      <td>8.405038</td>\n",
       "      <td>20.136087</td>\n",
       "      <td>18.622242</td>\n",
       "      <td>10.436546</td>\n",
       "      <td>17.145047</td>\n",
       "    </tr>\n",
       "    <tr>\n",
       "      <th>min</th>\n",
       "      <td>0.000000</td>\n",
       "      <td>0.000000</td>\n",
       "      <td>0.000000</td>\n",
       "      <td>0.000000</td>\n",
       "      <td>0.000000</td>\n",
       "      <td>0.000000</td>\n",
       "      <td>0.000000</td>\n",
       "      <td>0.000000</td>\n",
       "    </tr>\n",
       "    <tr>\n",
       "      <th>25%</th>\n",
       "      <td>63.888889</td>\n",
       "      <td>58.333333</td>\n",
       "      <td>53.333333</td>\n",
       "      <td>46.666667</td>\n",
       "      <td>10.000000</td>\n",
       "      <td>23.809524</td>\n",
       "      <td>45.833333</td>\n",
       "      <td>19.444444</td>\n",
       "    </tr>\n",
       "    <tr>\n",
       "      <th>50%</th>\n",
       "      <td>69.444444</td>\n",
       "      <td>66.666667</td>\n",
       "      <td>63.333333</td>\n",
       "      <td>53.333333</td>\n",
       "      <td>26.666667</td>\n",
       "      <td>38.095238</td>\n",
       "      <td>50.000000</td>\n",
       "      <td>33.333333</td>\n",
       "    </tr>\n",
       "    <tr>\n",
       "      <th>75%</th>\n",
       "      <td>83.333333</td>\n",
       "      <td>75.000000</td>\n",
       "      <td>66.666667</td>\n",
       "      <td>56.666667</td>\n",
       "      <td>36.666667</td>\n",
       "      <td>52.380952</td>\n",
       "      <td>58.333333</td>\n",
       "      <td>41.666667</td>\n",
       "    </tr>\n",
       "    <tr>\n",
       "      <th>max</th>\n",
       "      <td>100.000000</td>\n",
       "      <td>100.000000</td>\n",
       "      <td>100.000000</td>\n",
       "      <td>100.000000</td>\n",
       "      <td>100.000000</td>\n",
       "      <td>100.000000</td>\n",
       "      <td>100.000000</td>\n",
       "      <td>100.000000</td>\n",
       "    </tr>\n",
       "  </tbody>\n",
       "</table>\n",
       "</div>"
      ],
      "text/plain": [
       "              부모관계         친구관계         교사관계        자아존중감           우울  \\\n",
       "count  2383.000000  2383.000000  2383.000000  2383.000000  2383.000000   \n",
       "mean     71.848044    68.366205    61.200168    51.733110    26.353336   \n",
       "std      14.969805    15.312770    15.016407     8.405038    20.136087   \n",
       "min       0.000000     0.000000     0.000000     0.000000     0.000000   \n",
       "25%      63.888889    58.333333    53.333333    46.666667    10.000000   \n",
       "50%      69.444444    66.666667    63.333333    53.333333    26.666667   \n",
       "75%      83.333333    75.000000    66.666667    56.666667    36.666667   \n",
       "max     100.000000   100.000000   100.000000   100.000000   100.000000   \n",
       "\n",
       "              주의집중           그릿         학업소진  \n",
       "count  2383.000000  2383.000000  2383.000000  \n",
       "mean     37.919389    51.223947    32.033618  \n",
       "std      18.622242    10.436546    17.145047  \n",
       "min       0.000000     0.000000     0.000000  \n",
       "25%      23.809524    45.833333    19.444444  \n",
       "50%      38.095238    50.000000    33.333333  \n",
       "75%      52.380952    58.333333    41.666667  \n",
       "max     100.000000   100.000000   100.000000  "
      ]
     },
     "execution_count": 87,
     "metadata": {},
     "output_type": "execute_result"
    }
   ],
   "source": [
    "data.describe(include='all')"
   ]
  },
  {
   "cell_type": "code",
   "execution_count": 88,
   "id": "da5ee7c5",
   "metadata": {},
   "outputs": [],
   "source": [
    "import pandas as pd\n",
    "import numpy as np\n",
    "import matplotlib.pyplot as plt\n",
    "from matplotlib import rc\n",
    "import matplotlib"
   ]
  },
  {
   "cell_type": "code",
   "execution_count": 89,
   "id": "a3f08116",
   "metadata": {
    "scrolled": true
   },
   "outputs": [
    {
     "data": {
      "image/png": "[encoded data removed]",
      "text/plain": [
       "<Figure size 640x480 with 1 Axes>"
      ]
     },
     "metadata": {},
     "output_type": "display_data"
    }
   ],
   "source": [
    "data.plot(kind='box')\n",
    "plt.show()"
   ]
  },
  {
   "cell_type": "code",
   "execution_count": 90,
   "id": "15c85279",
   "metadata": {},
   "outputs": [
    {
     "data": {
      "text/plain": [
       "1    1251\n",
       "0    1132\n",
       "Name: 학업소진, dtype: int64"
      ]
     },
     "execution_count": 90,
     "metadata": {},
     "output_type": "execute_result"
    }
   ],
   "source": [
    "dataB['학업소진'].value_counts() "
   ]
  },
  {
   "cell_type": "code",
   "execution_count": 91,
   "id": "3f60aedc",
   "metadata": {},
   "outputs": [
    {
     "data": {
      "text/plain": [
       "1.0    1278\n",
       "2.0    1105\n",
       "Name: 성별, dtype: int64"
      ]
     },
     "execution_count": 91,
     "metadata": {},
     "output_type": "execute_result"
    }
   ],
   "source": [
    "mid2['성별'].value_counts() "
   ]
  },
  {
   "cell_type": "raw",
   "id": "254354f7",
   "metadata": {},
   "source": [
    "랜덤포레스트"
   ]
  },
  {
   "cell_type": "code",
   "execution_count": 92,
   "id": "0e16d22a",
   "metadata": {},
   "outputs": [],
   "source": [
    "scaler = StandardScaler()   # 객체 만들기\n"
   ]
  },
  {
   "cell_type": "code",
   "execution_count": 93,
   "id": "628e7cc0",
   "metadata": {},
   "outputs": [],
   "source": [
    "def modeling_uncustomized (algorithm, x_train, y_train, x_test, y_test):\n",
    "    # 하이퍼파라미터 조정 없이 모델 학습\n",
    "    uncustomized = algorithm(random_state=1234)\n",
    "    uncustomized.fit(x_train, y_train)\n",
    "    # Train Data 설명력\n",
    "    train_score_before = uncustomized.score(x_train, y_train).round(3)\n",
    "    print(f\"학습 데이터셋 정확도: {train_score_before}\")\n",
    "    # Test Data 설명력\n",
    "    test_score_before = uncustomized.score(x_test, y_test).round(3)\n",
    "    print(f\"테스트 데이터셋 정확도: {test_score_before}\")\n",
    "    return train_score_before, test_score_before"
   ]
  },
  {
   "cell_type": "code",
   "execution_count": 101,
   "id": "b36b58d3",
   "metadata": {},
   "outputs": [
    {
     "name": "stdout",
     "output_type": "stream",
     "text": [
      "(1668, 7) (715, 7) (1668,) (715,)\n"
     ]
    }
   ],
   "source": [
    "x = dataB[dataB.columns.difference(['학업소진'])]\n",
    "\n",
    "y = round(dataB['학업소진'])\n",
    "\n",
    "x_scaled = scaler.fit_transform(x)\n",
    "\n",
    "x_train, x_test, y_train, y_test = train_test_split(x_scaled,y,test_size = 0.3, random_state = 123)\n",
    "\n",
    "print(x_train.shape, x_test.shape, y_train.shape, y_test.shape) # 데이터 개수 확인"
   ]
  },
  {
   "cell_type": "code",
   "execution_count": 95,
   "id": "55026855",
   "metadata": {},
   "outputs": [],
   "source": [
    "def optimi_visualization(algorithm_name, x_values, train_score, test_score, xlabel, filename):\n",
    "    # 하이퍼파라미터 조정에 따른 학습 데이터셋 기반 모델 성능 추이 시각화\n",
    "    plt.plot(x_values, train_score, linestyle = '-', label = 'train score')\n",
    "    # 하이퍼파라미터 조정에 따른 테스트 데이터셋 기반 모델 성능 추이 시각화\n",
    "    plt.plot(x_values, test_score, linestyle = '--', label = 'test score')\n",
    "    plt.ylabel('Accuracy(%)') # y축 라벨\n",
    "    plt.xlabel(xlabel) # x축 라벨\n",
    "    plt.legend() # 범례표시"
   ]
  },
  {
   "cell_type": "code",
   "execution_count": 96,
   "id": "a266fef8",
   "metadata": {},
   "outputs": [],
   "source": [
    "def optimi_estimator(algorithm, algorithm_name, x_train, y_train, x_test, y_test, n_estimator_min, n_estimator_max):\n",
    "    train_score = []; test_score =[]\n",
    "    para_n_tree = [n_tree*5 for n_tree in range(n_estimator_min, n_estimator_max)]\n",
    "\n",
    "    for v_n_estimators in para_n_tree:\n",
    "        model = algorithm(n_estimators = v_n_estimators, random_state=1234)\n",
    "        model.fit(x_train, y_train)\n",
    "        train_score.append(model.score(x_train, y_train))\n",
    "        test_score.append(model.score(x_test, y_test))\n",
    "\n",
    "    # 트리 개수에 따른 모델 성능 저장\n",
    "    df_score_n = pd.DataFrame({'n_estimators': para_n_tree, 'TrainScore': train_score, 'TestScore': test_score})\n",
    "    # 트리 개수에 따른 모델 성능 추이 시각화 함수 호출\n",
    "    optimi_visualization(algorithm_name, para_n_tree, train_score, test_score, \"The number of estimator\", \"n_estimator\")\n",
    "    print(round(df_score_n, 4))"
   ]
  },
  {
   "cell_type": "code",
   "execution_count": 97,
   "id": "bd7b6e6e",
   "metadata": {},
   "outputs": [],
   "source": [
    "def optimi_maxdepth (algorithm, algorithm_name, x_train, y_train, x_test, y_test, depth_min, depth_max, n_estimator):\n",
    "    train_score = []; test_score = []\n",
    "    para_depth = [depth for depth in range(depth_min, depth_max)]\n",
    "\n",
    "    for v_max_depth in para_depth:\n",
    "        # 의사결정나무 모델의 경우 트리 개수를 따로 설정하지 않기 때문에 RFC, GBC와 분리하여 모델링\n",
    "        if algorithm == DTC:\n",
    "            model = algorithm(max_depth = v_max_depth,\n",
    "                              random_state=1234)\n",
    "        else:\n",
    "            model = algorithm(max_depth = v_max_depth,\n",
    "                              n_estimators = n_estimator,\n",
    "                              random_state=1234)\n",
    "        \n",
    "        model.fit(x_train, y_train)\n",
    "        train_score.append(model.score(x_train, y_train))\n",
    "        test_score.append(model.score(x_test, y_test))\n",
    "\n",
    "    # 최대 깊이에 따른 모델 성능 저장\n",
    "    df_score_n = pd.DataFrame({'depth': para_depth, 'TrainScore': train_score, 'TestScore': test_score})\n",
    "    # 최대 깊이에 따른 모델 성능 추이 시각화 함수 호출\n",
    "    optimi_visualization(algorithm_name, para_depth, train_score, test_score, \"The number of depth\", \"n_depth\")\n",
    "    print(round(df_score_n, 4))"
   ]
  },
  {
   "cell_type": "code",
   "execution_count": 98,
   "id": "edb8de9a",
   "metadata": {},
   "outputs": [],
   "source": [
    "def optimi_minsplit (algorithm, algorithm_name, x_train, y_train, x_test, y_test, n_split_min, n_split_max, n_estimator, n_depth):\n",
    "    train_score = []; test_score = []\n",
    "    para_split = [n_split*2 for n_split in range(n_split_min, n_split_max)]\n",
    "    for v_min_samples_split in para_split:\n",
    "        # 의사결정나무 모델의 경우 트리 개수를 따로 설정하지 않기 때문에 RFC, GBC와 분리하여 모델링\n",
    "        if algorithm == DTC:\n",
    "            model = algorithm(min_samples_split = v_min_samples_split,\n",
    "                              max_depth = n_depth,\n",
    "                              random_state = 1234)\n",
    "        else:\n",
    "            model = algorithm(min_samples_split = v_min_samples_split,\n",
    "                              n_estimators = n_estimator,\n",
    "                              max_depth = n_depth,\n",
    "                              random_state = 1234)\n",
    "        model.fit(x_train, y_train)\n",
    "        train_score.append(model.score(x_train, y_train))\n",
    "        test_score.append(model.score(x_test, y_test))\n",
    "\n",
    "    # 분리 노드의 최소 자료 수에 따른 모델 성능 저장\n",
    "    df_score_n = pd.DataFrame({'min_samples_split': para_split, 'TrainScore': train_score, 'TestScore': test_score})\n",
    "    # 분리 노드의 최소 자료 수에 따른 모델 성능 추이 시각화 함수 호출\n",
    "    optimi_visualization(algorithm_name, para_split, train_score, test_score, \"The minimum number of samples required to split an internal node\", \"min_samples_split\")\n",
    "    print(round(df_score_n, 4))"
   ]
  },
  {
   "cell_type": "code",
   "execution_count": 99,
   "id": "5ae0dd79",
   "metadata": {},
   "outputs": [],
   "source": [
    "def optimi_minleaf(algorithm, algorithm_name, x_train, y_train, x_test, y_test, n_leaf_min, n_leaf_max, n_estimator, n_depth, n_split):\n",
    "    train_score = []; test_score = []\n",
    "    para_leaf = [n_leaf*2 for n_leaf in range(n_leaf_min, n_leaf_max)]\n",
    "\n",
    "    for v_min_samples_leaf in para_leaf:\n",
    "        # 의사결정나무 모델의 경우 트리 개수를 따로 설정하지 않기 때문에 RFC, GBC와 분리하여 모델링\n",
    "        if algorithm == DTC:\n",
    "            model = algorithm(min_samples_leaf = v_min_samples_leaf,\n",
    "                                        max_depth = n_depth,\n",
    "                                        min_samples_split = n_split,\n",
    "                                        random_state=1234)\n",
    "        else:\n",
    "            model = algorithm(min_samples_leaf = v_min_samples_leaf,\n",
    "                                n_estimators = n_estimator,\n",
    "                                max_depth = n_depth,\n",
    "                                min_samples_split = n_split,\n",
    "                                random_state=1234)\n",
    "        model.fit(x_train, y_train)\n",
    "        train_score.append(model.score(x_train, y_train))\n",
    "        test_score.append(model.score(x_test, y_test))\n",
    "\n",
    "    # 잎사귀 노드의 최소 자료 수에 따른 모델 성능 저장\n",
    "    df_score_n = pd.DataFrame({'min_samples_leaf': para_leaf, 'TrainScore': train_score, 'TestScore': test_score})\n",
    "    # 잎사귀 노드의 최소 자료 수에 따른 모델 성능 추이 시각화 함수 호출\n",
    "    optimi_visualization(algorithm_name, para_leaf, train_score, test_score, \"The minimum number of samples required to be at a leaf node\", \"min_samples_leaf\")\n",
    "    print(round(df_score_n, 4))"
   ]
  },
  {
   "cell_type": "code",
   "execution_count": 221,
   "id": "072e82bc",
   "metadata": {},
   "outputs": [],
   "source": [
    "def model_final(algorithm, algorithm_name, feature_name, x_train, y_train, x_test, y_test, n_estimator, n_depth, n_split, n_leaf):\n",
    "    # 의사결정나무 모델의 경우 트리 개수를 따로 설정하지 않기 때문에 RFC, GBC와 분리하여 모델링\n",
    "    if algorithm == DTC:\n",
    "        model = algorithm(random_state=1234, \n",
    "                          min_samples_leaf = n_leaf,\n",
    "                          min_samples_split = n_split, \n",
    "                          max_depth = n_depth)\n",
    "    else:\n",
    "        model = algorithm(random_state = 1234, \n",
    "                          n_estimators = n_estimator, \n",
    "                          min_samples_leaf = n_leaf,\n",
    "                          min_samples_split = n_split, \n",
    "                          max_depth = n_depth)\n",
    "    # 모델 학습\n",
    "    model.fit(x_train, y_train)\n",
    "    \n",
    "    # 최종 모델의 성능 평가\n",
    "    train_acc = model.score(x_train, y_train)\n",
    "    test_acc = model.score(x_test, y_test)\n",
    "    y_pred = model.predict(x_test)\n",
    "    print(f\"Accuracy: {accuracy_score(y_test, y_pred):.3f}\") # 정확도\n",
    "    print(f\"Precision: {precision_score(y_test, y_pred,average='micro'):.3f}\") # 정밀도\n",
    "    print(f\"Recall: {recall_score(y_test, y_pred,average='micro'):.3f}\") # 재현율\n",
    "    print(f\"F1-score: {f1_score(y_test, y_pred,average='micro'):.3f}\") # F1 스코어\n",
    "    \n",
    "    \n",
    "    \n",
    "    # 혼동행렬 시각화\n",
    "    plt.figure(figsize =(30, 30))\n",
    "    plot_confusion_matrix(model, \n",
    "                         x_test, y_test,\n",
    "                         include_values = True,\n",
    "                         display_labels = ['학업소진평균'], # 목표변수 이름\n",
    "                         cmap = 'Pastel1') # 컬러맵\n",
    "\n",
    "    # 변수 중요도 산출\n",
    "    dt_importance = pd.DataFrame()\n",
    "    dt_importance['Feature'] = feature_name # 설명변수 이름\n",
    "    dt_importance['Importance'] = model.feature_importances_ # 설명변수 중요도 산출\n",
    "\n",
    "    # 변수 중요도 내림차순 정렬\n",
    "    dt_importance.sort_values(\"Importance\", ascending = False, inplace = True)\n",
    "    print(dt_importance.round(3))\n",
    "    # 변수 중요도 오름차순 정렬\n",
    "    dt_importance.sort_values(\"Importance\", ascending = True, inplace = True)\n",
    "    # 변수 중요도 시각화\n",
    "    coordinates = range(len(dt_importance)) # 설명변수 개수만큼 bar 시각화\n",
    "    plt.barh(y = coordinates, width = dt_importance[\"Importance\"])\n",
    "    plt.yticks(coordinates, dt_importance[\"Feature\"]) # y축 눈금별 설명변수 이름 기입\n",
    "    plt.xlabel(\"Feature Importance\") # x축 이름\n",
    "    plt.ylabel(\"Features\") # y축 이름\n"
   ]
  },
  {
   "cell_type": "code",
   "execution_count": null,
   "id": "5623870a",
   "metadata": {},
   "outputs": [],
   "source": []
  },
  {
   "cell_type": "code",
   "execution_count": 226,
   "id": "ecd21290",
   "metadata": {},
   "outputs": [],
   "source": [
    "algorithm = RFC\n",
    "algorithm_name = 'rfc'"
   ]
  },
  {
   "cell_type": "code",
   "execution_count": 227,
   "id": "372628e0",
   "metadata": {
    "scrolled": true
   },
   "outputs": [
    {
     "name": "stdout",
     "output_type": "stream",
     "text": [
      "학습 데이터셋 정확도: 0.999\n",
      "테스트 데이터셋 정확도: 0.708\n"
     ]
    }
   ],
   "source": [
    "train_acc_before, test_acc_before = modeling_uncustomized(algorithm, \n",
    "                                                          x_train,\n",
    "                                                          y_train,\n",
    "                                                          x_test,\n",
    "                                                          y_test)"
   ]
  },
  {
   "cell_type": "code",
   "execution_count": 228,
   "id": "171d4fd7",
   "metadata": {
    "scrolled": false
   },
   "outputs": [
    {
     "name": "stdout",
     "output_type": "stream",
     "text": [
      "    n_estimators  TrainScore  TestScore\n",
      "0              5      0.9556     0.6797\n",
      "1             10      0.9790     0.6839\n",
      "2             15      0.9934     0.6909\n",
      "3             20      0.9970     0.6839\n",
      "4             25      0.9988     0.7007\n",
      "..           ...         ...        ...\n",
      "94           475      0.9994     0.7063\n",
      "95           480      0.9994     0.7049\n",
      "96           485      0.9994     0.7021\n",
      "97           490      0.9994     0.7021\n",
      "98           495      0.9994     0.7007\n",
      "\n",
      "[99 rows x 3 columns]\n"
     ]
    },
    {
     "data": {
      "image/png": "[encoded data removed]",
      "text/plain": [
       "<Figure size 640x480 with 1 Axes>"
      ]
     },
     "metadata": {},
     "output_type": "display_data"
    }
   ],
   "source": [
    "n_estimator_min = 1\n",
    "n_estimator_max = 100\n",
    "optimi_estimator(algorithm, algorithm_name, \n",
    "                 x_train, y_train, x_test, y_test, \n",
    "                 n_estimator_min, n_estimator_max)"
   ]
  },
  {
   "cell_type": "code",
   "execution_count": 229,
   "id": "b4d80dd8",
   "metadata": {
    "scrolled": true
   },
   "outputs": [
    {
     "name": "stdout",
     "output_type": "stream",
     "text": [
      "    n_estimators  TrainScore  TestScore\n",
      "0              5      0.9556     0.6797\n",
      "1             10      0.9790     0.6839\n",
      "2             15      0.9934     0.6909\n",
      "3             20      0.9970     0.6839\n",
      "4             25      0.9988     0.7007\n",
      "5             30      0.9988     0.7035\n",
      "6             35      0.9994     0.7063\n",
      "7             40      0.9994     0.7007\n",
      "8             45      0.9988     0.6937\n",
      "9             50      0.9994     0.7049\n",
      "10            55      0.9994     0.7077\n",
      "11            60      0.9994     0.7105\n",
      "12            65      0.9994     0.7119\n",
      "13            70      0.9994     0.7133\n",
      "14            75      0.9994     0.6993\n",
      "15            80      0.9994     0.7063\n",
      "16            85      0.9994     0.7063\n",
      "17            90      0.9994     0.7063\n",
      "18            95      0.9994     0.7007\n",
      "19           100      0.9994     0.7077\n"
     ]
    },
    {
     "data": {
      "image/png": "[encoded data removed]",
      "text/plain": [
       "<Figure size 640x480 with 1 Axes>"
      ]
     },
     "metadata": {},
     "output_type": "display_data"
    }
   ],
   "source": [
    "n_estimator_min = 1\n",
    "n_estimator_max = 21\n",
    "optimi_estimator(algorithm, algorithm_name, \n",
    "                 x_train, y_train, x_test, y_test, \n",
    "                 n_estimator_min, n_estimator_max)"
   ]
  },
  {
   "cell_type": "code",
   "execution_count": 230,
   "id": "8d32045d",
   "metadata": {},
   "outputs": [],
   "source": [
    "n_estimator = 13"
   ]
  },
  {
   "cell_type": "code",
   "execution_count": 231,
   "id": "16deeb1b",
   "metadata": {
    "scrolled": false
   },
   "outputs": [
    {
     "name": "stdout",
     "output_type": "stream",
     "text": [
      "    depth  TrainScore  TestScore\n",
      "0       1      0.7026     0.7119\n",
      "1       2      0.7074     0.7105\n",
      "2       3      0.7146     0.7133\n",
      "3       4      0.7284     0.7147\n",
      "4       5      0.7416     0.7147\n",
      "5       6      0.7758     0.7077\n",
      "6       7      0.7956     0.7147\n",
      "7       8      0.8483     0.6979\n",
      "8       9      0.8585     0.6979\n",
      "9      10      0.8999     0.7147\n",
      "10     11      0.9263     0.7091\n",
      "11     12      0.9466     0.6937\n",
      "12     13      0.9622     0.6853\n",
      "13     14      0.9694     0.7021\n",
      "14     15      0.9778     0.6839\n",
      "15     16      0.9844     0.6839\n",
      "16     17      0.9814     0.6783\n",
      "17     18      0.9838     0.6867\n",
      "18     19      0.9892     0.6825\n",
      "19     20      0.9874     0.7049\n"
     ]
    },
    {
     "data": {
      "image/png": "[encoded data removed]",
      "text/plain": [
       "<Figure size 640x480 with 1 Axes>"
      ]
     },
     "metadata": {},
     "output_type": "display_data"
    }
   ],
   "source": [
    "depth_min = 1\n",
    "depth_max = 21\n",
    "optimi_maxdepth(algorithm, algorithm_name, \n",
    "                x_train, y_train, x_test, y_test, \n",
    "                depth_min, depth_max, n_estimator)"
   ]
  },
  {
   "cell_type": "code",
   "execution_count": 232,
   "id": "0b54ef4f",
   "metadata": {},
   "outputs": [],
   "source": [
    "n_depth = 13"
   ]
  },
  {
   "cell_type": "code",
   "execution_count": 233,
   "id": "7debc4bb",
   "metadata": {},
   "outputs": [
    {
     "name": "stdout",
     "output_type": "stream",
     "text": [
      "    min_samples_split  TrainScore  TestScore\n",
      "0                   2      0.9622     0.6853\n",
      "1                   4      0.9353     0.6839\n",
      "2                   6      0.9137     0.6881\n",
      "3                   8      0.8987     0.7077\n",
      "4                  10      0.8747     0.6909\n",
      "5                  12      0.8741     0.7133\n",
      "6                  14      0.8555     0.7105\n",
      "7                  16      0.8411     0.7021\n",
      "8                  18      0.8303     0.6937\n",
      "9                  20      0.8213     0.7049\n",
      "10                 22      0.8243     0.7161\n",
      "11                 24      0.8118     0.7105\n",
      "12                 26      0.8004     0.7049\n",
      "13                 28      0.8004     0.7133\n",
      "14                 30      0.7896     0.6993\n",
      "15                 32      0.7932     0.7063\n",
      "16                 34      0.7902     0.7091\n",
      "17                 36      0.7920     0.7063\n",
      "18                 38      0.7848     0.7049\n",
      "19                 40      0.7866     0.6993\n",
      "20                 42      0.7716     0.7049\n",
      "21                 44      0.7710     0.6979\n",
      "22                 46      0.7692     0.7021\n",
      "23                 48      0.7632     0.6965\n",
      "24                 50      0.7698     0.7119\n",
      "25                 52      0.7656     0.7091\n",
      "26                 54      0.7584     0.7119\n",
      "27                 56      0.7608     0.7063\n",
      "28                 58      0.7650     0.7105\n",
      "29                 60      0.7608     0.7049\n",
      "30                 62      0.7476     0.7203\n",
      "31                 64      0.7470     0.7147\n",
      "32                 66      0.7548     0.7119\n",
      "33                 68      0.7506     0.7119\n",
      "34                 70      0.7476     0.7091\n",
      "35                 72      0.7488     0.7105\n",
      "36                 74      0.7434     0.7119\n",
      "37                 76      0.7476     0.7049\n",
      "38                 78      0.7344     0.7077\n",
      "39                 80      0.7368     0.7119\n",
      "40                 82      0.7362     0.7161\n",
      "41                 84      0.7422     0.7231\n",
      "42                 86      0.7422     0.7119\n",
      "43                 88      0.7386     0.7161\n",
      "44                 90      0.7434     0.7133\n",
      "45                 92      0.7404     0.7119\n",
      "46                 94      0.7452     0.7105\n",
      "47                 96      0.7368     0.7091\n",
      "48                 98      0.7344     0.7147\n",
      "49                100      0.7320     0.7161\n",
      "50                102      0.7338     0.7203\n",
      "51                104      0.7284     0.7203\n",
      "52                106      0.7236     0.7119\n",
      "53                108      0.7260     0.7133\n",
      "54                110      0.7254     0.7105\n",
      "55                112      0.7194     0.7077\n",
      "56                114      0.7224     0.7049\n",
      "57                116      0.7308     0.7091\n",
      "58                118      0.7230     0.7063\n",
      "59                120      0.7260     0.7035\n",
      "60                122      0.7248     0.7049\n",
      "61                124      0.7212     0.7147\n",
      "62                126      0.7236     0.7119\n",
      "63                128      0.7212     0.7133\n",
      "64                130      0.7206     0.7175\n",
      "65                132      0.7200     0.7203\n",
      "66                134      0.7188     0.7161\n",
      "67                136      0.7200     0.7161\n",
      "68                138      0.7200     0.7147\n",
      "69                140      0.7176     0.7147\n",
      "70                142      0.7164     0.7147\n",
      "71                144      0.7158     0.7147\n",
      "72                146      0.7170     0.7147\n",
      "73                148      0.7194     0.7175\n",
      "74                150      0.7194     0.7175\n",
      "75                152      0.7194     0.7175\n",
      "76                154      0.7194     0.7189\n",
      "77                156      0.7170     0.7259\n",
      "78                158      0.7152     0.7273\n",
      "79                160      0.7164     0.7231\n",
      "80                162      0.7188     0.7273\n",
      "81                164      0.7164     0.7203\n",
      "82                166      0.7206     0.7189\n",
      "83                168      0.7176     0.7147\n",
      "84                170      0.7194     0.7175\n",
      "85                172      0.7200     0.7147\n",
      "86                174      0.7200     0.7147\n",
      "87                176      0.7224     0.7161\n",
      "88                178      0.7224     0.7161\n",
      "89                180      0.7224     0.7147\n",
      "90                182      0.7212     0.7161\n",
      "91                184      0.7224     0.7175\n",
      "92                186      0.7164     0.7231\n",
      "93                188      0.7200     0.7245\n",
      "94                190      0.7158     0.7273\n",
      "95                192      0.7152     0.7203\n",
      "96                194      0.7170     0.7203\n",
      "97                196      0.7182     0.7147\n",
      "98                198      0.7158     0.7217\n",
      "99                200      0.7170     0.7203\n"
     ]
    },
    {
     "data": {
      "image/png": "[encoded data removed]",
      "text/plain": [
       "<Figure size 640x480 with 1 Axes>"
      ]
     },
     "metadata": {},
     "output_type": "display_data"
    }
   ],
   "source": [
    "n_split_min = 1\n",
    "n_split_max = 101\n",
    "# 데이터프레임 행 최대 100개까지 반드시 출력\n",
    "pd.set_option('display.max_row', 100)\n",
    "optimi_minsplit (algorithm, algorithm_name,\n",
    "                 x_train, y_train, x_test, y_test,\n",
    "                 n_split_min, n_split_max, n_estimator, n_depth)"
   ]
  },
  {
   "cell_type": "code",
   "execution_count": 234,
   "id": "ad59c4fe",
   "metadata": {},
   "outputs": [],
   "source": [
    "n_split = 81"
   ]
  },
  {
   "cell_type": "code",
   "execution_count": 235,
   "id": "4c7fa219",
   "metadata": {},
   "outputs": [
    {
     "name": "stdout",
     "output_type": "stream",
     "text": [
      "    min_samples_leaf  TrainScore  TestScore\n",
      "0                  2      0.7410     0.7091\n",
      "1                  4      0.7410     0.7189\n",
      "2                  6      0.7410     0.7203\n",
      "3                  8      0.7362     0.7161\n",
      "4                 10      0.7344     0.7161\n",
      "5                 12      0.7278     0.7147\n",
      "6                 14      0.7272     0.7161\n",
      "7                 16      0.7248     0.7147\n",
      "8                 18      0.7296     0.7175\n",
      "9                 20      0.7290     0.7217\n",
      "10                22      0.7272     0.7105\n",
      "11                24      0.7236     0.7119\n",
      "12                26      0.7248     0.7175\n",
      "13                28      0.7236     0.7175\n",
      "14                30      0.7212     0.7161\n",
      "15                32      0.7218     0.7091\n",
      "16                34      0.7242     0.7189\n",
      "17                36      0.7230     0.7203\n",
      "18                38      0.7248     0.7189\n",
      "19                40      0.7260     0.7161\n",
      "20                42      0.7224     0.7119\n",
      "21                44      0.7290     0.7105\n",
      "22                46      0.7230     0.7231\n",
      "23                48      0.7200     0.7329\n",
      "24                50      0.7194     0.7161\n",
      "25                52      0.7236     0.7133\n",
      "26                54      0.7218     0.7077\n",
      "27                56      0.7170     0.7175\n",
      "28                58      0.7158     0.7147\n",
      "29                60      0.7200     0.7161\n",
      "30                62      0.7182     0.7203\n",
      "31                64      0.7194     0.7147\n",
      "32                66      0.7194     0.7091\n",
      "33                68      0.7182     0.7063\n",
      "34                70      0.7176     0.7105\n",
      "35                72      0.7188     0.7133\n",
      "36                74      0.7134     0.7133\n",
      "37                76      0.7152     0.7063\n",
      "38                78      0.7158     0.7119\n",
      "39                80      0.7152     0.7091\n",
      "40                82      0.7146     0.7175\n",
      "41                84      0.7128     0.7133\n",
      "42                86      0.7176     0.7161\n",
      "43                88      0.7218     0.7175\n",
      "44                90      0.7212     0.7105\n",
      "45                92      0.7182     0.7231\n",
      "46                94      0.7170     0.7287\n",
      "47                96      0.7134     0.7231\n",
      "48                98      0.7140     0.7231\n",
      "49               100      0.7104     0.7189\n"
     ]
    },
    {
     "data": {
      "image/png": "[encoded data removed]",
      "text/plain": [
       "<Figure size 640x480 with 1 Axes>"
      ]
     },
     "metadata": {},
     "output_type": "display_data"
    }
   ],
   "source": [
    "n_leaf_min = 1\n",
    "n_leaf_max = 51\n",
    "optimi_minleaf(algorithm, algorithm_name, \n",
    "               x_train, y_train, x_test, y_test, \n",
    "               n_leaf_min, n_leaf_max, n_estimator, n_depth, n_split)"
   ]
  },
  {
   "cell_type": "code",
   "execution_count": 236,
   "id": "abc63e13",
   "metadata": {},
   "outputs": [],
   "source": [
    "n_leaf = 34"
   ]
  },
  {
   "cell_type": "code",
   "execution_count": 237,
   "id": "0cde723a",
   "metadata": {},
   "outputs": [],
   "source": [
    "feature_name = x.columns"
   ]
  },
  {
   "cell_type": "code",
   "execution_count": 244,
   "id": "b0466d08",
   "metadata": {},
   "outputs": [
    {
     "ename": "SyntaxError",
     "evalue": "expression cannot contain assignment, perhaps you meant \"==\"? (1236707577.py, line 42)",
     "output_type": "error",
     "traceback": [
      "\u001b[0;36m  File \u001b[0;32m\"/var/folders/wz/97th05h90yjfyvrt18kyxwk40000gn/T/ipykernel_66240/1236707577.py\"\u001b[0;36m, line \u001b[0;32m42\u001b[0m\n\u001b[0;31m    plt.barh('font'='AppleGothic',y = coordinates, width = dt_importance[\"Importance\"])\u001b[0m\n\u001b[0m             ^\u001b[0m\n\u001b[0;31mSyntaxError\u001b[0m\u001b[0;31m:\u001b[0m expression cannot contain assignment, perhaps you meant \"==\"?\n"
     ]
    }
   ],
   "source": [
    "def model_final(algorithm, algorithm_name, feature_name, x_train, y_train, x_test, y_test, n_estimator, n_depth, n_split, n_leaf):\n",
    "    # 의사결정나무 모델의 경우 트리 개수를 따로 설정하지 않기 때문에 RFC, GBC와 분리하여 모델링\n",
    "    if algorithm == DTC:\n",
    "        model = algorithm(random_state=1234, \n",
    "                          min_samples_leaf = n_leaf,\n",
    "                          min_samples_split = n_split, \n",
    "                          max_depth = n_depth)\n",
    "    else:\n",
    "        model = algorithm(random_state = 1234, \n",
    "                          n_estimators = n_estimator, \n",
    "                          min_samples_leaf = n_leaf,\n",
    "                          min_samples_split = n_split, \n",
    "                          max_depth = n_depth)\n",
    "    # 모델 학습\n",
    "    model.fit(x_train, y_train)\n",
    "\n",
    "    # 최종 모델의 성능 평가\n",
    "    train_acc = model.score(x_train, y_train)\n",
    "    test_acc = model.score(x_test, y_test)\n",
    "    y_pred = model.predict(x_test)\n",
    "    print(f\"Accuracy: {accuracy_score(y_test, y_pred):.3f}\") # 정확도\n",
    "    print(f\"Precision: {precision_score(y_test, y_pred):.3f}\") # 정밀도\n",
    "    print(f\"Recall: {recall_score(y_test, y_pred):.3f}\") # 재현율\n",
    "    print(f\"F1-score: {f1_score(y_test, y_pred):.3f}\") # F1 스코어\n",
    "    \n",
    "    \n",
    "    \n",
    "\n",
    "\n",
    "    # 변수 중요도 산출\n",
    "    dt_importance = pd.DataFrame()\n",
    "    dt_importance['Feature'] = feature_name # 설명변수 이름\n",
    "    dt_importance['Importance'] = model.feature_importances_ # 설명변수 중요도 산출\n",
    "\n",
    "    # 변수 중요도 내림차순 정렬\n",
    "    dt_importance.sort_values(\"Importance\", ascending = False, inplace = True)\n",
    "    print(dt_importance.round(3))\n",
    "    # 변수 중요도 오름차순 정렬\n",
    "    dt_importance.sort_values(\"Importance\", ascending = True, inplace = True)\n",
    "    # 변수 중요도 시각화\n",
    "    coordinates = range(len(dt_importance)) # 설명변수 개수만큼 bar 시각화\n",
    "    plt.barh('font'='AppleGothic',y = coordinates, width = dt_importance[\"Importance\"])\n",
    "    plt.yticks(coordinates, dt_importance[\"Feature\"]) # y축 눈금별 설명변수 이름 기입\n",
    "    plt.xlabel(\"Feature Importance\") # x축 이름\n",
    "    plt.ylabel(\"Features\") # y축 이름\n"
   ]
  },
  {
   "cell_type": "code",
   "execution_count": 243,
   "id": "57a35508",
   "metadata": {
    "scrolled": false
   },
   "outputs": [
    {
     "name": "stdout",
     "output_type": "stream",
     "text": [
      "Accuracy: 0.719\n",
      "Precision: 0.725\n",
      "Recall: 0.768\n",
      "F1-score: 0.746\n",
      "  Feature  Importance\n",
      "5    주의집중       0.340\n",
      "3      우울       0.224\n",
      "0    교사관계       0.199\n",
      "2    부모관계       0.128\n",
      "6    친구관계       0.073\n",
      "1      그릿       0.019\n",
      "4   자아존중감       0.017\n"
     ]
    },
    {
     "ename": "AttributeError",
     "evalue": "'Rectangle' object has no property 'family'",
     "output_type": "error",
     "traceback": [
      "\u001b[0;31m---------------------------------------------------------------------------\u001b[0m",
      "\u001b[0;31mAttributeError\u001b[0m                            Traceback (most recent call last)",
      "\u001b[0;32m/var/folders/wz/97th05h90yjfyvrt18kyxwk40000gn/T/ipykernel_66240/698998392.py\u001b[0m in \u001b[0;36m<module>\u001b[0;34m\u001b[0m\n\u001b[0;32m----> 1\u001b[0;31m model_final(algorithm, algorithm_name, feature_name,\n\u001b[0m\u001b[1;32m      2\u001b[0m             \u001b[0mx_train\u001b[0m\u001b[0;34m,\u001b[0m \u001b[0my_train\u001b[0m\u001b[0;34m,\u001b[0m \u001b[0mx_test\u001b[0m\u001b[0;34m,\u001b[0m \u001b[0my_test\u001b[0m\u001b[0;34m,\u001b[0m\u001b[0;34m\u001b[0m\u001b[0;34m\u001b[0m\u001b[0m\n\u001b[1;32m      3\u001b[0m             n_estimator, n_depth, n_split, n_leaf)\n",
      "\u001b[0;32m/var/folders/wz/97th05h90yjfyvrt18kyxwk40000gn/T/ipykernel_66240/2630542120.py\u001b[0m in \u001b[0;36mmodel_final\u001b[0;34m(algorithm, algorithm_name, feature_name, x_train, y_train, x_test, y_test, n_estimator, n_depth, n_split, n_leaf)\u001b[0m\n\u001b[1;32m     40\u001b[0m     \u001b[0;31m# 변수 중요도 시각화\u001b[0m\u001b[0;34m\u001b[0m\u001b[0;34m\u001b[0m\u001b[0m\n\u001b[1;32m     41\u001b[0m     \u001b[0mcoordinates\u001b[0m \u001b[0;34m=\u001b[0m \u001b[0mrange\u001b[0m\u001b[0;34m(\u001b[0m\u001b[0mlen\u001b[0m\u001b[0;34m(\u001b[0m\u001b[0mdt_importance\u001b[0m\u001b[0;34m)\u001b[0m\u001b[0;34m)\u001b[0m \u001b[0;31m# 설명변수 개수만큼 bar 시각화\u001b[0m\u001b[0;34m\u001b[0m\u001b[0;34m\u001b[0m\u001b[0m\n\u001b[0;32m---> 42\u001b[0;31m     \u001b[0mplt\u001b[0m\u001b[0;34m.\u001b[0m\u001b[0mbarh\u001b[0m\u001b[0;34m(\u001b[0m\u001b[0mfamily\u001b[0m\u001b[0;34m=\u001b[0m\u001b[0;34m'AppleGothic'\u001b[0m\u001b[0;34m,\u001b[0m\u001b[0my\u001b[0m \u001b[0;34m=\u001b[0m \u001b[0mcoordinates\u001b[0m\u001b[0;34m,\u001b[0m \u001b[0mwidth\u001b[0m \u001b[0;34m=\u001b[0m \u001b[0mdt_importance\u001b[0m\u001b[0;34m[\u001b[0m\u001b[0;34m\"Importance\"\u001b[0m\u001b[0;34m]\u001b[0m\u001b[0;34m)\u001b[0m\u001b[0;34m\u001b[0m\u001b[0;34m\u001b[0m\u001b[0m\n\u001b[0m\u001b[1;32m     43\u001b[0m     \u001b[0mplt\u001b[0m\u001b[0;34m.\u001b[0m\u001b[0myticks\u001b[0m\u001b[0;34m(\u001b[0m\u001b[0mcoordinates\u001b[0m\u001b[0;34m,\u001b[0m \u001b[0mdt_importance\u001b[0m\u001b[0;34m[\u001b[0m\u001b[0;34m\"Feature\"\u001b[0m\u001b[0;34m]\u001b[0m\u001b[0;34m)\u001b[0m \u001b[0;31m# y축 눈금별 설명변수 이름 기입\u001b[0m\u001b[0;34m\u001b[0m\u001b[0;34m\u001b[0m\u001b[0m\n\u001b[1;32m     44\u001b[0m     \u001b[0mplt\u001b[0m\u001b[0;34m.\u001b[0m\u001b[0mxlabel\u001b[0m\u001b[0;34m(\u001b[0m\u001b[0;34m\"Feature Importance\"\u001b[0m\u001b[0;34m)\u001b[0m \u001b[0;31m# x축 이름\u001b[0m\u001b[0;34m\u001b[0m\u001b[0;34m\u001b[0m\u001b[0m\n",
      "\u001b[0;32m~/opt/anaconda3/lib/python3.9/site-packages/matplotlib/pyplot.py\u001b[0m in \u001b[0;36mbarh\u001b[0;34m(y, width, height, left, align, **kwargs)\u001b[0m\n\u001b[1;32m   2413\u001b[0m \u001b[0;34m@\u001b[0m\u001b[0m_copy_docstring_and_deprecators\u001b[0m\u001b[0;34m(\u001b[0m\u001b[0mAxes\u001b[0m\u001b[0;34m.\u001b[0m\u001b[0mbarh\u001b[0m\u001b[0;34m)\u001b[0m\u001b[0;34m\u001b[0m\u001b[0;34m\u001b[0m\u001b[0m\n\u001b[1;32m   2414\u001b[0m \u001b[0;32mdef\u001b[0m \u001b[0mbarh\u001b[0m\u001b[0;34m(\u001b[0m\u001b[0my\u001b[0m\u001b[0;34m,\u001b[0m \u001b[0mwidth\u001b[0m\u001b[0;34m,\u001b[0m \u001b[0mheight\u001b[0m\u001b[0;34m=\u001b[0m\u001b[0;36m0.8\u001b[0m\u001b[0;34m,\u001b[0m \u001b[0mleft\u001b[0m\u001b[0;34m=\u001b[0m\u001b[0;32mNone\u001b[0m\u001b[0;34m,\u001b[0m \u001b[0;34m*\u001b[0m\u001b[0;34m,\u001b[0m \u001b[0malign\u001b[0m\u001b[0;34m=\u001b[0m\u001b[0;34m'center'\u001b[0m\u001b[0;34m,\u001b[0m \u001b[0;34m**\u001b[0m\u001b[0mkwargs\u001b[0m\u001b[0;34m)\u001b[0m\u001b[0;34m:\u001b[0m\u001b[0;34m\u001b[0m\u001b[0;34m\u001b[0m\u001b[0m\n\u001b[0;32m-> 2415\u001b[0;31m     return gca().barh(\n\u001b[0m\u001b[1;32m   2416\u001b[0m         y, width, height=height, left=left, align=align, **kwargs)\n\u001b[1;32m   2417\u001b[0m \u001b[0;34m\u001b[0m\u001b[0m\n",
      "\u001b[0;32m~/opt/anaconda3/lib/python3.9/site-packages/matplotlib/axes/_axes.py\u001b[0m in \u001b[0;36mbarh\u001b[0;34m(self, y, width, height, left, align, **kwargs)\u001b[0m\n\u001b[1;32m   2549\u001b[0m         \"\"\"\n\u001b[1;32m   2550\u001b[0m         \u001b[0mkwargs\u001b[0m\u001b[0;34m.\u001b[0m\u001b[0msetdefault\u001b[0m\u001b[0;34m(\u001b[0m\u001b[0;34m'orientation'\u001b[0m\u001b[0;34m,\u001b[0m \u001b[0;34m'horizontal'\u001b[0m\u001b[0;34m)\u001b[0m\u001b[0;34m\u001b[0m\u001b[0;34m\u001b[0m\u001b[0m\n\u001b[0;32m-> 2551\u001b[0;31m         patches = self.bar(x=left, height=height, width=width, bottom=y,\n\u001b[0m\u001b[1;32m   2552\u001b[0m                            align=align, **kwargs)\n\u001b[1;32m   2553\u001b[0m         \u001b[0;32mreturn\u001b[0m \u001b[0mpatches\u001b[0m\u001b[0;34m\u001b[0m\u001b[0;34m\u001b[0m\u001b[0m\n",
      "\u001b[0;32m~/opt/anaconda3/lib/python3.9/site-packages/matplotlib/__init__.py\u001b[0m in \u001b[0;36minner\u001b[0;34m(ax, data, *args, **kwargs)\u001b[0m\n\u001b[1;32m   1410\u001b[0m     \u001b[0;32mdef\u001b[0m \u001b[0minner\u001b[0m\u001b[0;34m(\u001b[0m\u001b[0max\u001b[0m\u001b[0;34m,\u001b[0m \u001b[0;34m*\u001b[0m\u001b[0margs\u001b[0m\u001b[0;34m,\u001b[0m \u001b[0mdata\u001b[0m\u001b[0;34m=\u001b[0m\u001b[0;32mNone\u001b[0m\u001b[0;34m,\u001b[0m \u001b[0;34m**\u001b[0m\u001b[0mkwargs\u001b[0m\u001b[0;34m)\u001b[0m\u001b[0;34m:\u001b[0m\u001b[0;34m\u001b[0m\u001b[0;34m\u001b[0m\u001b[0m\n\u001b[1;32m   1411\u001b[0m         \u001b[0;32mif\u001b[0m \u001b[0mdata\u001b[0m \u001b[0;32mis\u001b[0m \u001b[0;32mNone\u001b[0m\u001b[0;34m:\u001b[0m\u001b[0;34m\u001b[0m\u001b[0;34m\u001b[0m\u001b[0m\n\u001b[0;32m-> 1412\u001b[0;31m             \u001b[0;32mreturn\u001b[0m \u001b[0mfunc\u001b[0m\u001b[0;34m(\u001b[0m\u001b[0max\u001b[0m\u001b[0;34m,\u001b[0m \u001b[0;34m*\u001b[0m\u001b[0mmap\u001b[0m\u001b[0;34m(\u001b[0m\u001b[0msanitize_sequence\u001b[0m\u001b[0;34m,\u001b[0m \u001b[0margs\u001b[0m\u001b[0;34m)\u001b[0m\u001b[0;34m,\u001b[0m \u001b[0;34m**\u001b[0m\u001b[0mkwargs\u001b[0m\u001b[0;34m)\u001b[0m\u001b[0;34m\u001b[0m\u001b[0;34m\u001b[0m\u001b[0m\n\u001b[0m\u001b[1;32m   1413\u001b[0m \u001b[0;34m\u001b[0m\u001b[0m\n\u001b[1;32m   1414\u001b[0m         \u001b[0mbound\u001b[0m \u001b[0;34m=\u001b[0m \u001b[0mnew_sig\u001b[0m\u001b[0;34m.\u001b[0m\u001b[0mbind\u001b[0m\u001b[0;34m(\u001b[0m\u001b[0max\u001b[0m\u001b[0;34m,\u001b[0m \u001b[0;34m*\u001b[0m\u001b[0margs\u001b[0m\u001b[0;34m,\u001b[0m \u001b[0;34m**\u001b[0m\u001b[0mkwargs\u001b[0m\u001b[0;34m)\u001b[0m\u001b[0;34m\u001b[0m\u001b[0;34m\u001b[0m\u001b[0m\n",
      "\u001b[0;32m~/opt/anaconda3/lib/python3.9/site-packages/matplotlib/axes/_axes.py\u001b[0m in \u001b[0;36mbar\u001b[0;34m(self, x, height, width, bottom, align, **kwargs)\u001b[0m\n\u001b[1;32m   2401\u001b[0m                 \u001b[0mhatch\u001b[0m\u001b[0;34m=\u001b[0m\u001b[0mhtch\u001b[0m\u001b[0;34m,\u001b[0m\u001b[0;34m\u001b[0m\u001b[0;34m\u001b[0m\u001b[0m\n\u001b[1;32m   2402\u001b[0m                 )\n\u001b[0;32m-> 2403\u001b[0;31m             \u001b[0mr\u001b[0m\u001b[0;34m.\u001b[0m\u001b[0mupdate\u001b[0m\u001b[0;34m(\u001b[0m\u001b[0mkwargs\u001b[0m\u001b[0;34m)\u001b[0m\u001b[0;34m\u001b[0m\u001b[0;34m\u001b[0m\u001b[0m\n\u001b[0m\u001b[1;32m   2404\u001b[0m             \u001b[0mr\u001b[0m\u001b[0;34m.\u001b[0m\u001b[0mget_path\u001b[0m\u001b[0;34m(\u001b[0m\u001b[0;34m)\u001b[0m\u001b[0;34m.\u001b[0m\u001b[0m_interpolation_steps\u001b[0m \u001b[0;34m=\u001b[0m \u001b[0;36m100\u001b[0m\u001b[0;34m\u001b[0m\u001b[0;34m\u001b[0m\u001b[0m\n\u001b[1;32m   2405\u001b[0m             \u001b[0;32mif\u001b[0m \u001b[0morientation\u001b[0m \u001b[0;34m==\u001b[0m \u001b[0;34m'vertical'\u001b[0m\u001b[0;34m:\u001b[0m\u001b[0;34m\u001b[0m\u001b[0;34m\u001b[0m\u001b[0m\n",
      "\u001b[0;32m~/opt/anaconda3/lib/python3.9/site-packages/matplotlib/artist.py\u001b[0m in \u001b[0;36mupdate\u001b[0;34m(self, props)\u001b[0m\n\u001b[1;32m   1062\u001b[0m                     \u001b[0mfunc\u001b[0m \u001b[0;34m=\u001b[0m \u001b[0mgetattr\u001b[0m\u001b[0;34m(\u001b[0m\u001b[0mself\u001b[0m\u001b[0;34m,\u001b[0m \u001b[0;34mf\"set_{k}\"\u001b[0m\u001b[0;34m,\u001b[0m \u001b[0;32mNone\u001b[0m\u001b[0;34m)\u001b[0m\u001b[0;34m\u001b[0m\u001b[0;34m\u001b[0m\u001b[0m\n\u001b[1;32m   1063\u001b[0m                     \u001b[0;32mif\u001b[0m \u001b[0;32mnot\u001b[0m \u001b[0mcallable\u001b[0m\u001b[0;34m(\u001b[0m\u001b[0mfunc\u001b[0m\u001b[0;34m)\u001b[0m\u001b[0;34m:\u001b[0m\u001b[0;34m\u001b[0m\u001b[0;34m\u001b[0m\u001b[0m\n\u001b[0;32m-> 1064\u001b[0;31m                         raise AttributeError(f\"{type(self).__name__!r} object \"\n\u001b[0m\u001b[1;32m   1065\u001b[0m                                              f\"has no property {k!r}\")\n\u001b[1;32m   1066\u001b[0m                     \u001b[0mret\u001b[0m\u001b[0;34m.\u001b[0m\u001b[0mappend\u001b[0m\u001b[0;34m(\u001b[0m\u001b[0mfunc\u001b[0m\u001b[0;34m(\u001b[0m\u001b[0mv\u001b[0m\u001b[0;34m)\u001b[0m\u001b[0;34m)\u001b[0m\u001b[0;34m\u001b[0m\u001b[0;34m\u001b[0m\u001b[0m\n",
      "\u001b[0;31mAttributeError\u001b[0m: 'Rectangle' object has no property 'family'"
     ]
    },
    {
     "data": {
      "image/png": "[encoded data removed]",
      "text/plain": [
       "<Figure size 640x480 with 1 Axes>"
      ]
     },
     "metadata": {},
     "output_type": "display_data"
    }
   ],
   "source": [
    "model_final(algorithm, algorithm_name, feature_name,\n",
    "            x_train, y_train, x_test, y_test,\n",
    "            n_estimator, n_depth, n_split, n_leaf)"
   ]
  },
  {
   "cell_type": "code",
   "execution_count": 224,
   "id": "b7125148",
   "metadata": {},
   "outputs": [
    {
     "ename": "NameError",
     "evalue": "name 'n_estimator' is not defined",
     "output_type": "error",
     "traceback": [
      "\u001b[0;31m---------------------------------------------------------------------------\u001b[0m",
      "\u001b[0;31mNameError\u001b[0m                                 Traceback (most recent call last)",
      "\u001b[0;32m/var/folders/wz/97th05h90yjfyvrt18kyxwk40000gn/T/ipykernel_66240/3865643816.py\u001b[0m in \u001b[0;36m<module>\u001b[0;34m\u001b[0m\n\u001b[1;32m      1\u001b[0m model = RFC(random_state = 1234, \n\u001b[0;32m----> 2\u001b[0;31m                       \u001b[0mn_estimators\u001b[0m \u001b[0;34m=\u001b[0m \u001b[0mn_estimator\u001b[0m\u001b[0;34m,\u001b[0m\u001b[0;34m\u001b[0m\u001b[0;34m\u001b[0m\u001b[0m\n\u001b[0m\u001b[1;32m      3\u001b[0m                       \u001b[0mmin_samples_leaf\u001b[0m \u001b[0;34m=\u001b[0m \u001b[0mn_leaf\u001b[0m\u001b[0;34m,\u001b[0m\u001b[0;34m\u001b[0m\u001b[0;34m\u001b[0m\u001b[0m\n\u001b[1;32m      4\u001b[0m                       \u001b[0mmin_samples_split\u001b[0m \u001b[0;34m=\u001b[0m \u001b[0mn_split\u001b[0m\u001b[0;34m,\u001b[0m\u001b[0;34m\u001b[0m\u001b[0;34m\u001b[0m\u001b[0m\n\u001b[1;32m      5\u001b[0m                       max_depth = n_depth)\n",
      "\u001b[0;31mNameError\u001b[0m: name 'n_estimator' is not defined"
     ]
    }
   ],
   "source": [
    "    model = RFC(random_state = 1234, \n",
    "                          n_estimators = n_estimator, \n",
    "                          min_samples_leaf = n_leaf,\n",
    "                          min_samples_split = n_split, \n",
    "                          max_depth = n_depth)\n",
    "    # 모델 학습\n",
    "    model.fit(x_train, y_train)\n",
    "\n",
    "    # 최종 모델의 성능 평가\n",
    "    train_acc = model.score(x_train, y_train)\n",
    "    test_acc = model.score(x_test, y_test)\n",
    "    pred1 = model.predict(x_test)"
   ]
  },
  {
   "cell_type": "code",
   "execution_count": 193,
   "id": "a4f98c9e",
   "metadata": {},
   "outputs": [],
   "source": [
    "from sklearn.metrics import r2_score, classification_report\n"
   ]
  },
  {
   "cell_type": "code",
   "execution_count": 223,
   "id": "96e2ddb0",
   "metadata": {
    "scrolled": true
   },
   "outputs": [
    {
     "name": "stdout",
     "output_type": "stream",
     "text": [
      "Roc AUC: 0.7760180639476333\n"
     ]
    },
    {
     "data": {
      "text/plain": [
       "[<matplotlib.lines.Line2D at 0x7f8df94e2250>]"
      ]
     },
     "execution_count": 223,
     "metadata": {},
     "output_type": "execute_result"
    },
    {
     "data": {
      "image/png": "[encoded data removed]",
      "text/plain": [
       "<Figure size 640x480 with 1 Axes>"
      ]
     },
     "metadata": {},
     "output_type": "display_data"
    }
   ],
   "source": [
    "y_proba = model.predict_proba(x_test)[:,1]\n",
    "print(\"Roc AUC:\", roc_auc_score(y_test, model.predict_proba(x_test)[:,1],average='macro'))\n",
    "fpr, tpr, thresholds = roc_curve(y_test, y_proba)\n",
    "plt.plot(fpr, tpr)"
   ]
  },
  {
   "cell_type": "raw",
   "id": "7e9363af",
   "metadata": {},
   "source": [
    "# 에이다부스트\n",
    "# 인공신경망"
   ]
  },
  {
   "cell_type": "code",
   "execution_count": 139,
   "id": "71538786",
   "metadata": {},
   "outputs": [],
   "source": [
    "from sklearn.ensemble import AdaBoostClassifier \n",
    "from sklearn import datasets\n",
    "from sklearn.model_selection import train_test_split\n",
    "from sklearn import metrics"
   ]
  },
  {
   "cell_type": "code",
   "execution_count": 140,
   "id": "eeff698a",
   "metadata": {},
   "outputs": [],
   "source": [
    "abc = AdaBoostClassifier(n_estimators=50,\n",
    "                         learning_rate=1)"
   ]
  },
  {
   "cell_type": "code",
   "execution_count": 160,
   "id": "904b3ce8",
   "metadata": {},
   "outputs": [],
   "source": [
    "model = abc.fit(x_train, y_train)"
   ]
  },
  {
   "cell_type": "code",
   "execution_count": 150,
   "id": "3f267012",
   "metadata": {
    "scrolled": true
   },
   "outputs": [
    {
     "ename": "NameError",
     "evalue": "name 'Adaboost' is not defined",
     "output_type": "error",
     "traceback": [
      "\u001b[0;31m---------------------------------------------------------------------------\u001b[0m",
      "\u001b[0;31mNameError\u001b[0m                                 Traceback (most recent call last)",
      "\u001b[0;32m/var/folders/wz/97th05h90yjfyvrt18kyxwk40000gn/T/ipykernel_66240/942490869.py\u001b[0m in \u001b[0;36m<module>\u001b[0;34m\u001b[0m\n\u001b[0;32m----> 1\u001b[0;31m \u001b[0mm\u001b[0m \u001b[0;34m=\u001b[0m \u001b[0mAdaboost\u001b[0m\u001b[0;34m(\u001b[0m\u001b[0mrandom_state\u001b[0m\u001b[0;34m=\u001b[0m\u001b[0;36m1234\u001b[0m\u001b[0;34m)\u001b[0m\u001b[0;34m\u001b[0m\u001b[0;34m\u001b[0m\u001b[0m\n\u001b[0m\u001b[1;32m      2\u001b[0m \u001b[0mm\u001b[0m\u001b[0;34m.\u001b[0m\u001b[0mfit\u001b[0m\u001b[0;34m(\u001b[0m\u001b[0mx_train\u001b[0m\u001b[0;34m,\u001b[0m \u001b[0my_train\u001b[0m\u001b[0;34m)\u001b[0m\u001b[0;34m\u001b[0m\u001b[0;34m\u001b[0m\u001b[0m\n\u001b[1;32m      3\u001b[0m \u001b[0mpred2\u001b[0m \u001b[0;34m=\u001b[0m \u001b[0mm\u001b[0m\u001b[0;34m.\u001b[0m\u001b[0mpredict\u001b[0m\u001b[0;34m(\u001b[0m\u001b[0mx_test\u001b[0m\u001b[0;34m)\u001b[0m\u001b[0;34m\u001b[0m\u001b[0;34m\u001b[0m\u001b[0m\n",
      "\u001b[0;31mNameError\u001b[0m: name 'Adaboost' is not defined"
     ]
    }
   ],
   "source": [
    "m = Adaboost(random_state=1234)\n",
    "m.fit(x_train, y_train)\n",
    "pred2 = m.predict(x_test)"
   ]
  },
  {
   "cell_type": "code",
   "execution_count": 142,
   "id": "289179ad",
   "metadata": {
    "scrolled": false
   },
   "outputs": [
    {
     "ename": "NameError",
     "evalue": "name 'classification_report' is not defined",
     "output_type": "error",
     "traceback": [
      "\u001b[0;31m---------------------------------------------------------------------------\u001b[0m",
      "\u001b[0;31mNameError\u001b[0m                                 Traceback (most recent call last)",
      "\u001b[0;32m/var/folders/wz/97th05h90yjfyvrt18kyxwk40000gn/T/ipykernel_66240/2323636689.py\u001b[0m in \u001b[0;36m<module>\u001b[0;34m\u001b[0m\n\u001b[0;32m----> 1\u001b[0;31m \u001b[0mprint\u001b[0m\u001b[0;34m(\u001b[0m\u001b[0mclassification_report\u001b[0m\u001b[0;34m(\u001b[0m\u001b[0my_test\u001b[0m\u001b[0;34m,\u001b[0m\u001b[0mpredicted\u001b[0m\u001b[0;34m)\u001b[0m\u001b[0;34m)\u001b[0m\u001b[0;34m\u001b[0m\u001b[0;34m\u001b[0m\u001b[0m\n\u001b[0m",
      "\u001b[0;31mNameError\u001b[0m: name 'classification_report' is not defined"
     ]
    }
   ],
   "source": [
    "print(classification_report(y_test,predicted))"
   ]
  },
  {
   "cell_type": "code",
   "execution_count": 143,
   "id": "6d499db7",
   "metadata": {
    "scrolled": false
   },
   "outputs": [
    {
     "ename": "NameError",
     "evalue": "name 'predicted' is not defined",
     "output_type": "error",
     "traceback": [
      "\u001b[0;31m---------------------------------------------------------------------------\u001b[0m",
      "\u001b[0;31mNameError\u001b[0m                                 Traceback (most recent call last)",
      "\u001b[0;32m/var/folders/wz/97th05h90yjfyvrt18kyxwk40000gn/T/ipykernel_66240/2485691476.py\u001b[0m in \u001b[0;36m<module>\u001b[0;34m\u001b[0m\n\u001b[0;32m----> 1\u001b[0;31m \u001b[0mprint\u001b[0m\u001b[0;34m(\u001b[0m\u001b[0;34m\"Accuracy:\"\u001b[0m\u001b[0;34m,\u001b[0m\u001b[0mmetrics\u001b[0m\u001b[0;34m.\u001b[0m\u001b[0maccuracy_score\u001b[0m\u001b[0;34m(\u001b[0m\u001b[0my_test\u001b[0m\u001b[0;34m,\u001b[0m \u001b[0mpredicted\u001b[0m\u001b[0;34m)\u001b[0m\u001b[0;34m)\u001b[0m\u001b[0;34m\u001b[0m\u001b[0;34m\u001b[0m\u001b[0m\n\u001b[0m",
      "\u001b[0;31mNameError\u001b[0m: name 'predicted' is not defined"
     ]
    }
   ],
   "source": [
    "print(\"Accuracy:\",metrics.accuracy_score(y_test, predicted))"
   ]
  },
  {
   "cell_type": "code",
   "execution_count": 163,
   "id": "b9e6d1d1",
   "metadata": {},
   "outputs": [],
   "source": [
    "from sklearn.tree import DecisionTreeClassifier\n",
    "\n",
    "base_model = DecisionTreeClassifier(max_depth = 5)"
   ]
  },
  {
   "cell_type": "code",
   "execution_count": 179,
   "id": "6f6bd12f",
   "metadata": {
    "scrolled": true
   },
   "outputs": [
    {
     "name": "stdout",
     "output_type": "stream",
     "text": [
      "0.7146853146853147\n"
     ]
    }
   ],
   "source": [
    "clf2 = AdaBoostClassifier(base_estimator = base_model , n_estimators=500, random_state=20, learning_rate = 0.01)\n",
    "clf2.fit(x_train, y_train) \n",
    "pred3=clf2.predict(x_test)\n",
    "print(accuracy_score(y_test, pred3))"
   ]
  },
  {
   "cell_type": "code",
   "execution_count": 180,
   "id": "e2534dc7",
   "metadata": {},
   "outputs": [
    {
     "name": "stdout",
     "output_type": "stream",
     "text": [
      "Accuracy: 0.7146853146853147\n",
      "Precision: 0.715\n",
      "Recall: 0.715\n",
      "F1-score: 0.715\n"
     ]
    }
   ],
   "source": [
    "print(\"Accuracy:\",metrics.accuracy_score(y_test, pred3))\n",
    "print(f\"Precision: {precision_score(y_test, pred3,average='micro'):.3f}\") # 정밀도\n",
    "print(f\"Recall: {recall_score(y_test, pred3,average='micro'):.3f}\") # 재현율\n",
    "print(f\"F1-score: {f1_score(y_test, pred3,average='micro'):.3f}\") # F1 스코어\n",
    "    "
   ]
  },
  {
   "cell_type": "code",
   "execution_count": 181,
   "id": "81f81fc5",
   "metadata": {},
   "outputs": [
    {
     "name": "stdout",
     "output_type": "stream",
     "text": [
      "Roc AUC: 0.7760180639476333\n"
     ]
    },
    {
     "data": {
      "text/plain": [
       "[<matplotlib.lines.Line2D at 0x7f8e289e5e80>]"
      ]
     },
     "execution_count": 181,
     "metadata": {},
     "output_type": "execute_result"
    },
    {
     "data": {
      "image/png": "[encoded data removed]",
      "text/plain": [
       "<Figure size 640x480 with 1 Axes>"
      ]
     },
     "metadata": {},
     "output_type": "display_data"
    }
   ],
   "source": [
    "y_proba = clf2.predict_proba(x_test)[:,1]\n",
    "print(\"Roc AUC:\", roc_auc_score(y_test, model.predict_proba(x_test)[:,1],average='macro'))\n",
    "fpr, tpr, thresholds = roc_curve(y_test, y_proba)\n",
    "plt.plot(fpr, tpr)"
   ]
  },
  {
   "cell_type": "code",
   "execution_count": 203,
   "id": "77558e7d",
   "metadata": {},
   "outputs": [],
   "source": [
    "algorithm = abc\n",
    "algorithm_name = AdaBoostClassifier"
   ]
  },
  {
   "cell_type": "raw",
   "id": "df5b9c9d",
   "metadata": {},
   "source": [
    "인공신경망"
   ]
  },
  {
   "cell_type": "code",
   "execution_count": 204,
   "id": "593908db",
   "metadata": {},
   "outputs": [],
   "source": [
    "scaler = StandardScaler()"
   ]
  },
  {
   "cell_type": "code",
   "execution_count": 206,
   "id": "71103ed3",
   "metadata": {},
   "outputs": [
    {
     "data": {
      "text/plain": [
       "StandardScaler()"
      ]
     },
     "execution_count": 206,
     "metadata": {},
     "output_type": "execute_result"
    }
   ],
   "source": [
    "scaler.fit(x_train)"
   ]
  },
  {
   "cell_type": "code",
   "execution_count": 207,
   "id": "eb445fcb",
   "metadata": {},
   "outputs": [],
   "source": [
    "X_train = scaler.transform(x_train)\n",
    "X_test = scaler.transform(x_test)"
   ]
  },
  {
   "cell_type": "code",
   "execution_count": 213,
   "id": "917fb1d4",
   "metadata": {},
   "outputs": [],
   "source": [
    "mlp = MLPClassifier(hidden_layer_sizes=(10,), \\\n",
    "                    solver='lbfgs', alpha=0.01, batch_size=32, \\\n",
    "                    learning_rate_init=0.1, max_iter=20)"
   ]
  },
  {
   "cell_type": "code",
   "execution_count": 214,
   "id": "289538c0",
   "metadata": {},
   "outputs": [
    {
     "data": {
      "text/plain": [
       "MLPClassifier(alpha=0.01, batch_size=32, hidden_layer_sizes=(10,),\n",
       "              learning_rate_init=0.1, max_iter=20, solver='lbfgs')"
      ]
     },
     "execution_count": 214,
     "metadata": {},
     "output_type": "execute_result"
    }
   ],
   "source": [
    "mlp.fit(x_train, y_train)"
   ]
  },
  {
   "cell_type": "code",
   "execution_count": 215,
   "id": "67948b0c",
   "metadata": {},
   "outputs": [],
   "source": [
    "predictions = mlp.predict(x_test)"
   ]
  },
  {
   "cell_type": "code",
   "execution_count": 216,
   "id": "249aa687",
   "metadata": {},
   "outputs": [
    {
     "name": "stdout",
     "output_type": "stream",
     "text": [
      "[[222 109]\n",
      " [ 88 296]]\n"
     ]
    }
   ],
   "source": [
    "print(confusion_matrix(y_test, predictions))"
   ]
  },
  {
   "cell_type": "code",
   "execution_count": 217,
   "id": "9d32dedb",
   "metadata": {
    "scrolled": false
   },
   "outputs": [
    {
     "name": "stdout",
     "output_type": "stream",
     "text": [
      "              precision    recall  f1-score   support\n",
      "\n",
      "           0       0.72      0.67      0.69       331\n",
      "           1       0.73      0.77      0.75       384\n",
      "\n",
      "    accuracy                           0.72       715\n",
      "   macro avg       0.72      0.72      0.72       715\n",
      "weighted avg       0.72      0.72      0.72       715\n",
      "\n"
     ]
    }
   ],
   "source": [
    "print( classification_report(y_test, predictions))"
   ]
  },
  {
   "cell_type": "code",
   "execution_count": 219,
   "id": "42957d2e",
   "metadata": {},
   "outputs": [
    {
     "name": "stdout",
     "output_type": "stream",
     "text": [
      "Accuracy: 0.7244755244755244\n",
      "Precision: 0.724\n",
      "Recall: 0.724\n",
      "F1-score: 0.724\n"
     ]
    }
   ],
   "source": [
    "print(\"Accuracy:\",metrics.accuracy_score(y_test, predictions))\n",
    "print(f\"Precision: {precision_score(y_test, predictions,average='micro'):.3f}\") # 정밀도\n",
    "print(f\"Recall: {recall_score(y_test, predictions,average='micro'):.3f}\") # 재현율\n",
    "print(f\"F1-score: {f1_score(y_test, predictions,average='micro'):.3f}\") # F1 스코어"
   ]
  },
  {
   "cell_type": "code",
   "execution_count": 218,
   "id": "e7c24d1d",
   "metadata": {},
   "outputs": [
    {
     "name": "stdout",
     "output_type": "stream",
     "text": [
      "Roc AUC: 0.7760180639476333\n"
     ]
    },
    {
     "data": {
      "text/plain": [
       "[<matplotlib.lines.Line2D at 0x7f8dfad16f10>]"
      ]
     },
     "execution_count": 218,
     "metadata": {},
     "output_type": "execute_result"
    },
    {
     "data": {
      "image/png": "[encoded data removed]",
      "text/plain": [
       "<Figure size 640x480 with 1 Axes>"
      ]
     },
     "metadata": {},
     "output_type": "display_data"
    }
   ],
   "source": [
    "y_proba = mlp.predict_proba(x_test)[:,1]\n",
    "print(\"Roc AUC:\", roc_auc_score(y_test, model.predict_proba(x_test)[:,1],average='macro'))\n",
    "fpr, tpr, thresholds = roc_curve(y_test, y_proba)\n",
    "plt.plot(fpr, tpr)"
   ]
  },
  {
   "cell_type": "code",
   "execution_count": null,
   "id": "bc0afeac",
   "metadata": {},
   "outputs": [],
   "source": []
  },
  {
   "cell_type": "code",
   "execution_count": null,
   "id": "0aa1afae",
   "metadata": {},
   "outputs": [],
   "source": []
  },
  {
   "cell_type": "code",
   "execution_count": null,
   "id": "af3f3558",
   "metadata": {},
   "outputs": [],
   "source": []
  },
  {
   "cell_type": "code",
   "execution_count": 182,
   "id": "05b0d2dd",
   "metadata": {},
   "outputs": [],
   "source": [
    "from sklearn.neural_network import MLPClassifier"
   ]
  },
  {
   "cell_type": "code",
   "execution_count": 183,
   "id": "3aab4ddd",
   "metadata": {},
   "outputs": [],
   "source": [
    "mlp = MLPClassifier(hidden_layer_sizes=(10,), \\\n",
    "                    solver='lbfgs', alpha=0.01, batch_size=32, \\\n",
    "                    learning_rate_init=0.1, max_iter=20)  # 객체 생성"
   ]
  },
  {
   "cell_type": "code",
   "execution_count": 184,
   "id": "e98eceae",
   "metadata": {},
   "outputs": [],
   "source": [
    "x_train2, x_val, y_train2, y_val = \\\n",
    "  train_test_split(x_train,y_train,stratify=y_train, \\\n",
    "                   test_size= 0.3,random_state=123)  # 훈련 데이터와 검증 데이터 분류"
   ]
  },
  {
   "cell_type": "code",
   "execution_count": 185,
   "id": "1416c28b",
   "metadata": {},
   "outputs": [],
   "source": [
    "scaler = StandardScaler()   # 객체 만들기\n",
    "scaler.fit(x_train2)     # 변환 규칙을 익히기\n",
    "x_train_scaled = scaler.transform(x_train2)  # 데이터를 표준화 전처리\n",
    "x_val_scaled = scaler.transform(x_val)      # 데이터를 표준화 전처리"
   ]
  },
  {
   "cell_type": "code",
   "execution_count": 186,
   "id": "fb2cee10",
   "metadata": {
    "scrolled": false
   },
   "outputs": [
    {
     "data": {
      "text/plain": [
       "MLPClassifier(alpha=0.01, batch_size=32, hidden_layer_sizes=(10,),\n",
       "              learning_rate_init=0.1, max_iter=20, solver='lbfgs')"
      ]
     },
     "execution_count": 186,
     "metadata": {},
     "output_type": "execute_result"
    }
   ],
   "source": [
    "mlp.fit(x_train_scaled, y_train2)    # 훈련하기"
   ]
  },
  {
   "cell_type": "code",
   "execution_count": 187,
   "id": "65310120",
   "metadata": {
    "scrolled": false
   },
   "outputs": [
    {
     "data": {
      "text/plain": [
       "0.656686626746507"
      ]
     },
     "execution_count": 187,
     "metadata": {},
     "output_type": "execute_result"
    }
   ],
   "source": [
    "mlp.score(x_val_scaled, y_val)      # 정확도 평가"
   ]
  },
  {
   "cell_type": "code",
   "execution_count": null,
   "id": "15b3c4c3",
   "metadata": {},
   "outputs": [],
   "source": []
  },
  {
   "cell_type": "code",
   "execution_count": 197,
   "id": "cffae2ca",
   "metadata": {
    "scrolled": true
   },
   "outputs": [
    {
     "data": {
      "text/plain": [
       "0.656686626746507"
      ]
     },
     "execution_count": 197,
     "metadata": {},
     "output_type": "execute_result"
    }
   ],
   "source": [
    "mlp.score(x_val, y_val)   "
   ]
  },
  {
   "cell_type": "code",
   "execution_count": 201,
   "id": "5596b802",
   "metadata": {},
   "outputs": [],
   "source": [
    "from sklearn.metrics import classification_report, confusion_matrix"
   ]
  },
  {
   "cell_type": "code",
   "execution_count": 203,
   "id": "1318712f",
   "metadata": {},
   "outputs": [
    {
     "ename": "ValueError",
     "evalue": "Classification metrics can't handle a mix of continuous-multioutput and binary targets",
     "output_type": "error",
     "traceback": [
      "\u001b[0;31m---------------------------------------------------------------------------\u001b[0m",
      "\u001b[0;31mValueError\u001b[0m                                Traceback (most recent call last)",
      "\u001b[0;32m/var/folders/wz/97th05h90yjfyvrt18kyxwk40000gn/T/ipykernel_66240/3528602242.py\u001b[0m in \u001b[0;36m<module>\u001b[0;34m\u001b[0m\n\u001b[0;32m----> 1\u001b[0;31m \u001b[0mprint\u001b[0m\u001b[0;34m(\u001b[0m\u001b[0mconfusion_matrix\u001b[0m\u001b[0;34m(\u001b[0m\u001b[0mx_val_scaled\u001b[0m\u001b[0;34m,\u001b[0m \u001b[0my_val\u001b[0m\u001b[0;34m)\u001b[0m\u001b[0;34m)\u001b[0m\u001b[0;34m\u001b[0m\u001b[0;34m\u001b[0m\u001b[0m\n\u001b[0m",
      "\u001b[0;32m~/opt/anaconda3/lib/python3.9/site-packages/sklearn/metrics/_classification.py\u001b[0m in \u001b[0;36mconfusion_matrix\u001b[0;34m(y_true, y_pred, labels, sample_weight, normalize)\u001b[0m\n\u001b[1;32m    305\u001b[0m     \u001b[0;34m(\u001b[0m\u001b[0;36m0\u001b[0m\u001b[0;34m,\u001b[0m \u001b[0;36m2\u001b[0m\u001b[0;34m,\u001b[0m \u001b[0;36m1\u001b[0m\u001b[0;34m,\u001b[0m \u001b[0;36m1\u001b[0m\u001b[0;34m)\u001b[0m\u001b[0;34m\u001b[0m\u001b[0;34m\u001b[0m\u001b[0m\n\u001b[1;32m    306\u001b[0m     \"\"\"\n\u001b[0;32m--> 307\u001b[0;31m     \u001b[0my_type\u001b[0m\u001b[0;34m,\u001b[0m \u001b[0my_true\u001b[0m\u001b[0;34m,\u001b[0m \u001b[0my_pred\u001b[0m \u001b[0;34m=\u001b[0m \u001b[0m_check_targets\u001b[0m\u001b[0;34m(\u001b[0m\u001b[0my_true\u001b[0m\u001b[0;34m,\u001b[0m \u001b[0my_pred\u001b[0m\u001b[0;34m)\u001b[0m\u001b[0;34m\u001b[0m\u001b[0;34m\u001b[0m\u001b[0m\n\u001b[0m\u001b[1;32m    308\u001b[0m     \u001b[0;32mif\u001b[0m \u001b[0my_type\u001b[0m \u001b[0;32mnot\u001b[0m \u001b[0;32min\u001b[0m \u001b[0;34m(\u001b[0m\u001b[0;34m\"binary\"\u001b[0m\u001b[0;34m,\u001b[0m \u001b[0;34m\"multiclass\"\u001b[0m\u001b[0;34m)\u001b[0m\u001b[0;34m:\u001b[0m\u001b[0;34m\u001b[0m\u001b[0;34m\u001b[0m\u001b[0m\n\u001b[1;32m    309\u001b[0m         \u001b[0;32mraise\u001b[0m \u001b[0mValueError\u001b[0m\u001b[0;34m(\u001b[0m\u001b[0;34m\"%s is not supported\"\u001b[0m \u001b[0;34m%\u001b[0m \u001b[0my_type\u001b[0m\u001b[0;34m)\u001b[0m\u001b[0;34m\u001b[0m\u001b[0;34m\u001b[0m\u001b[0m\n",
      "\u001b[0;32m~/opt/anaconda3/lib/python3.9/site-packages/sklearn/metrics/_classification.py\u001b[0m in \u001b[0;36m_check_targets\u001b[0;34m(y_true, y_pred)\u001b[0m\n\u001b[1;32m     91\u001b[0m \u001b[0;34m\u001b[0m\u001b[0m\n\u001b[1;32m     92\u001b[0m     \u001b[0;32mif\u001b[0m \u001b[0mlen\u001b[0m\u001b[0;34m(\u001b[0m\u001b[0my_type\u001b[0m\u001b[0;34m)\u001b[0m \u001b[0;34m>\u001b[0m \u001b[0;36m1\u001b[0m\u001b[0;34m:\u001b[0m\u001b[0;34m\u001b[0m\u001b[0;34m\u001b[0m\u001b[0m\n\u001b[0;32m---> 93\u001b[0;31m         raise ValueError(\n\u001b[0m\u001b[1;32m     94\u001b[0m             \"Classification metrics can't handle a mix of {0} and {1} targets\".format(\n\u001b[1;32m     95\u001b[0m                 \u001b[0mtype_true\u001b[0m\u001b[0;34m,\u001b[0m \u001b[0mtype_pred\u001b[0m\u001b[0;34m\u001b[0m\u001b[0;34m\u001b[0m\u001b[0m\n",
      "\u001b[0;31mValueError\u001b[0m: Classification metrics can't handle a mix of continuous-multioutput and binary targets"
     ]
    }
   ],
   "source": [
    "print(confusion_matrix(x_val_scaled, y_val))"
   ]
  },
  {
   "cell_type": "code",
   "execution_count": 188,
   "id": "e136f903",
   "metadata": {},
   "outputs": [],
   "source": [
    "pred4=mlp.predict(x_test)"
   ]
  },
  {
   "cell_type": "code",
   "execution_count": 198,
   "id": "c6560c52",
   "metadata": {
    "scrolled": false
   },
   "outputs": [
    {
     "ename": "ValueError",
     "evalue": "Classification metrics can't handle a mix of continuous-multioutput and binary targets",
     "output_type": "error",
     "traceback": [
      "\u001b[0;31m---------------------------------------------------------------------------\u001b[0m",
      "\u001b[0;31mValueError\u001b[0m                                Traceback (most recent call last)",
      "\u001b[0;32m/var/folders/wz/97th05h90yjfyvrt18kyxwk40000gn/T/ipykernel_66240/2659017808.py\u001b[0m in \u001b[0;36m<module>\u001b[0;34m\u001b[0m\n\u001b[0;32m----> 1\u001b[0;31m \u001b[0mprint\u001b[0m\u001b[0;34m(\u001b[0m\u001b[0;34m\"Accuracy:\"\u001b[0m\u001b[0;34m,\u001b[0m\u001b[0mmetrics\u001b[0m\u001b[0;34m.\u001b[0m\u001b[0maccuracy_score\u001b[0m\u001b[0;34m(\u001b[0m\u001b[0mx_val\u001b[0m\u001b[0;34m,\u001b[0m \u001b[0my_val\u001b[0m\u001b[0;34m)\u001b[0m\u001b[0;34m)\u001b[0m\u001b[0;34m\u001b[0m\u001b[0;34m\u001b[0m\u001b[0m\n\u001b[0m\u001b[1;32m      2\u001b[0m \u001b[0mprint\u001b[0m\u001b[0;34m(\u001b[0m\u001b[0;34mf\"Precision: {precision_score(x_val_scaled, y_val,average='micro'):.3f}\"\u001b[0m\u001b[0;34m)\u001b[0m \u001b[0;31m# 정밀도\u001b[0m\u001b[0;34m\u001b[0m\u001b[0;34m\u001b[0m\u001b[0m\n\u001b[1;32m      3\u001b[0m \u001b[0mprint\u001b[0m\u001b[0;34m(\u001b[0m\u001b[0;34mf\"Recall: {recall_score(x_val_scaled, y_val,average='micro'):.3f}\"\u001b[0m\u001b[0;34m)\u001b[0m \u001b[0;31m# 재현율\u001b[0m\u001b[0;34m\u001b[0m\u001b[0;34m\u001b[0m\u001b[0m\n\u001b[1;32m      4\u001b[0m \u001b[0mprint\u001b[0m\u001b[0;34m(\u001b[0m\u001b[0;34mf\"F1-score: {f1_score(x_val_scaled, y_val,average='micro'):.3f}\"\u001b[0m\u001b[0;34m)\u001b[0m \u001b[0;31m# F1 스코어\u001b[0m\u001b[0;34m\u001b[0m\u001b[0;34m\u001b[0m\u001b[0m\n",
      "\u001b[0;32m~/opt/anaconda3/lib/python3.9/site-packages/sklearn/metrics/_classification.py\u001b[0m in \u001b[0;36maccuracy_score\u001b[0;34m(y_true, y_pred, normalize, sample_weight)\u001b[0m\n\u001b[1;32m    209\u001b[0m \u001b[0;34m\u001b[0m\u001b[0m\n\u001b[1;32m    210\u001b[0m     \u001b[0;31m# Compute accuracy for each possible representation\u001b[0m\u001b[0;34m\u001b[0m\u001b[0;34m\u001b[0m\u001b[0m\n\u001b[0;32m--> 211\u001b[0;31m     \u001b[0my_type\u001b[0m\u001b[0;34m,\u001b[0m \u001b[0my_true\u001b[0m\u001b[0;34m,\u001b[0m \u001b[0my_pred\u001b[0m \u001b[0;34m=\u001b[0m \u001b[0m_check_targets\u001b[0m\u001b[0;34m(\u001b[0m\u001b[0my_true\u001b[0m\u001b[0;34m,\u001b[0m \u001b[0my_pred\u001b[0m\u001b[0;34m)\u001b[0m\u001b[0;34m\u001b[0m\u001b[0;34m\u001b[0m\u001b[0m\n\u001b[0m\u001b[1;32m    212\u001b[0m     \u001b[0mcheck_consistent_length\u001b[0m\u001b[0;34m(\u001b[0m\u001b[0my_true\u001b[0m\u001b[0;34m,\u001b[0m \u001b[0my_pred\u001b[0m\u001b[0;34m,\u001b[0m \u001b[0msample_weight\u001b[0m\u001b[0;34m)\u001b[0m\u001b[0;34m\u001b[0m\u001b[0;34m\u001b[0m\u001b[0m\n\u001b[1;32m    213\u001b[0m     \u001b[0;32mif\u001b[0m \u001b[0my_type\u001b[0m\u001b[0;34m.\u001b[0m\u001b[0mstartswith\u001b[0m\u001b[0;34m(\u001b[0m\u001b[0;34m\"multilabel\"\u001b[0m\u001b[0;34m)\u001b[0m\u001b[0;34m:\u001b[0m\u001b[0;34m\u001b[0m\u001b[0;34m\u001b[0m\u001b[0m\n",
      "\u001b[0;32m~/opt/anaconda3/lib/python3.9/site-packages/sklearn/metrics/_classification.py\u001b[0m in \u001b[0;36m_check_targets\u001b[0;34m(y_true, y_pred)\u001b[0m\n\u001b[1;32m     91\u001b[0m \u001b[0;34m\u001b[0m\u001b[0m\n\u001b[1;32m     92\u001b[0m     \u001b[0;32mif\u001b[0m \u001b[0mlen\u001b[0m\u001b[0;34m(\u001b[0m\u001b[0my_type\u001b[0m\u001b[0;34m)\u001b[0m \u001b[0;34m>\u001b[0m \u001b[0;36m1\u001b[0m\u001b[0;34m:\u001b[0m\u001b[0;34m\u001b[0m\u001b[0;34m\u001b[0m\u001b[0m\n\u001b[0;32m---> 93\u001b[0;31m         raise ValueError(\n\u001b[0m\u001b[1;32m     94\u001b[0m             \"Classification metrics can't handle a mix of {0} and {1} targets\".format(\n\u001b[1;32m     95\u001b[0m                 \u001b[0mtype_true\u001b[0m\u001b[0;34m,\u001b[0m \u001b[0mtype_pred\u001b[0m\u001b[0;34m\u001b[0m\u001b[0;34m\u001b[0m\u001b[0m\n",
      "\u001b[0;31mValueError\u001b[0m: Classification metrics can't handle a mix of continuous-multioutput and binary targets"
     ]
    }
   ],
   "source": [
    "print(\"Accuracy:\",metrics.accuracy_score(x_val, y_val))\n",
    "print(f\"Precision: {precision_score(x_val_scaled, y_val,average='micro'):.3f}\") # 정밀도\n",
    "print(f\"Recall: {recall_score(x_val_scaled, y_val,average='micro'):.3f}\") # 재현율\n",
    "print(f\"F1-score: {f1_score(x_val_scaled, y_val,average='micro'):.3f}\") # F1 스코어"
   ]
  },
  {
   "cell_type": "code",
   "execution_count": null,
   "id": "e4b2e09e",
   "metadata": {},
   "outputs": [],
   "source": []
  },
  {
   "cell_type": "markdown",
   "id": "a3bd5a4f",
   "metadata": {},
   "source": [
    "스태킹모델"
   ]
  },
  {
   "cell_type": "code",
   "execution_count": 1,
   "id": "b2f8b8a7",
   "metadata": {
    "scrolled": true
   },
   "outputs": [
    {
     "ename": "ModuleNotFoundError",
     "evalue": "No module named 'tensorflow'",
     "output_type": "error",
     "traceback": [
      "\u001b[0;31m---------------------------------------------------------------------------\u001b[0m",
      "\u001b[0;31mModuleNotFoundError\u001b[0m                       Traceback (most recent call last)",
      "\u001b[0;32m/var/folders/wz/97th05h90yjfyvrt18kyxwk40000gn/T/ipykernel_64528/3793406994.py\u001b[0m in \u001b[0;36m<module>\u001b[0;34m\u001b[0m\n\u001b[0;32m----> 1\u001b[0;31m \u001b[0;32mimport\u001b[0m \u001b[0mtensorflow\u001b[0m \u001b[0;32mas\u001b[0m \u001b[0mtf\u001b[0m\u001b[0;34m\u001b[0m\u001b[0;34m\u001b[0m\u001b[0m\n\u001b[0m",
      "\u001b[0;31mModuleNotFoundError\u001b[0m: No module named 'tensorflow'"
     ]
    }
   ],
   "source": [
    "import tensorflow as tf"
   ]
  },
  {
   "cell_type": "code",
   "execution_count": 247,
   "id": "21f39af7",
   "metadata": {
    "scrolled": true
   },
   "outputs": [
    {
     "name": "stdout",
     "output_type": "stream",
     "text": [
      "Collecting package metadata (current_repodata.json): done\n",
      "Solving environment: failed with initial frozen solve. Retrying with flexible solve.\n",
      "Solving environment: - ^C\n",
      "failed with repodata from current_repodata.json, will retry with next repodata source.\n",
      "\n",
      "CondaError: KeyboardInterrupt\n",
      "\n",
      "\n",
      "Note: you may need to restart the kernel to use updated packages.\n"
     ]
    }
   ],
   "source": [
    "conda install tensorflow==2.0.0"
   ]
  },
  {
   "cell_type": "code",
   "execution_count": 239,
   "id": "87fe6d81",
   "metadata": {
    "scrolled": false
   },
   "outputs": [
    {
     "ename": "ModuleNotFoundError",
     "evalue": "No module named 'tensorflow'",
     "output_type": "error",
     "traceback": [
      "\u001b[0;31m---------------------------------------------------------------------------\u001b[0m",
      "\u001b[0;31mModuleNotFoundError\u001b[0m                       Traceback (most recent call last)",
      "\u001b[0;32m/var/folders/wz/97th05h90yjfyvrt18kyxwk40000gn/T/ipykernel_53719/647143640.py\u001b[0m in \u001b[0;36m<module>\u001b[0;34m\u001b[0m\n\u001b[1;32m      1\u001b[0m \u001b[0;32mfrom\u001b[0m \u001b[0msklearn\u001b[0m\u001b[0;34m.\u001b[0m\u001b[0mmodel_selection\u001b[0m \u001b[0;32mimport\u001b[0m \u001b[0mtrain_test_split\u001b[0m\u001b[0;34m\u001b[0m\u001b[0;34m\u001b[0m\u001b[0m\n\u001b[0;32m----> 2\u001b[0;31m \u001b[0;32mimport\u001b[0m \u001b[0mtensorflow\u001b[0m \u001b[0;32mas\u001b[0m \u001b[0mtf\u001b[0m\u001b[0;34m\u001b[0m\u001b[0;34m\u001b[0m\u001b[0m\n\u001b[0m\u001b[1;32m      3\u001b[0m \u001b[0mtf\u001b[0m\u001b[0;34m.\u001b[0m\u001b[0mcompat\u001b[0m\u001b[0;34m.\u001b[0m\u001b[0mv1\u001b[0m\u001b[0;34m.\u001b[0m\u001b[0mdisable_eager_execution\u001b[0m\u001b[0;34m(\u001b[0m\u001b[0;34m)\u001b[0m \u001b[0;31m#텐서플로우 v2 에서도 실행 가능하게 하기\u001b[0m\u001b[0;34m\u001b[0m\u001b[0;34m\u001b[0m\u001b[0m\n\u001b[1;32m      4\u001b[0m \u001b[0mtf\u001b[0m\u001b[0;34m.\u001b[0m\u001b[0mcompat\u001b[0m\u001b[0;34m.\u001b[0m\u001b[0mv1\u001b[0m\u001b[0;34m.\u001b[0m\u001b[0mrandom\u001b[0m\u001b[0;34m.\u001b[0m\u001b[0mset_random_seed\u001b[0m\u001b[0;34m(\u001b[0m\u001b[0;36m777\u001b[0m\u001b[0;34m)\u001b[0m \u001b[0;31m#하이퍼파라미터 튜닝을 위해 실행시 마다 변수가 같은 초기값 가지게 하기\u001b[0m\u001b[0;34m\u001b[0m\u001b[0;34m\u001b[0m\u001b[0m\n\u001b[1;32m      5\u001b[0m \u001b[0;32mfrom\u001b[0m \u001b[0mPIL\u001b[0m \u001b[0;32mimport\u001b[0m \u001b[0mImage\u001b[0m\u001b[0;34m\u001b[0m\u001b[0;34m\u001b[0m\u001b[0m\n",
      "\u001b[0;31mModuleNotFoundError\u001b[0m: No module named 'tensorflow'"
     ]
    }
   ],
   "source": [
    "from sklearn.model_selection import train_test_split\n",
    "import tensorflow as tf\n",
    "tf.compat.v1.disable_eager_execution() #텐서플로우 v2 에서도 실행 가능하게 하기\n",
    "tf.compat.v1.random.set_random_seed(777) #하이퍼파라미터 튜닝을 위해 실행시 마다 변수가 같은 초기값 가지게 하기\n",
    "from PIL import Image\n",
    "import numpy as np"
   ]
  },
  {
   "cell_type": "code",
   "execution_count": 107,
   "id": "bcb8ad92",
   "metadata": {},
   "outputs": [
    {
     "name": "stdout",
     "output_type": "stream",
     "text": [
      "Collecting graphviz\n",
      "  Using cached graphviz-0.20.1-py3-none-any.whl (47 kB)\n",
      "Installing collected packages: graphviz\n",
      "Successfully installed graphviz-0.20.1\n",
      "Note: you may need to restart the kernel to use updated packages.\n"
     ]
    }
   ],
   "source": [
    "pip install graphviz"
   ]
  },
  {
   "cell_type": "code",
   "execution_count": 108,
   "id": "859af4a5",
   "metadata": {},
   "outputs": [],
   "source": [
    "import mglearn\n",
    "import graphviz"
   ]
  },
  {
   "cell_type": "code",
   "execution_count": 119,
   "id": "cce33005",
   "metadata": {},
   "outputs": [
    {
     "ename": "SyntaxError",
     "evalue": "positional argument follows keyword argument (3227651701.py, line 4)",
     "output_type": "error",
     "traceback": [
      "\u001b[0;36m  File \u001b[0;32m\"/var/folders/wz/97th05h90yjfyvrt18kyxwk40000gn/T/ipykernel_66240/3227651701.py\"\u001b[0;36m, line \u001b[0;32m4\u001b[0m\n\u001b[0;31m    mglearn.plots.plot_2d_separator(mlp, y_train, fill=True, alpha=.3)\u001b[0m\n\u001b[0m    ^\u001b[0m\n\u001b[0;31mSyntaxError\u001b[0m\u001b[0;31m:\u001b[0m positional argument follows keyword argument\n"
     ]
    }
   ],
   "source": [
    "# 10개의 유닛으로 된 두 개의 은닉층\n",
    "mlp = MLPClassifier(solver='lbfgs', random_state=0,\n",
    "mlp.fit(x_train, y_train)\n",
    "mglearn.plots.plot_2d_separator(mlp, x_train, fill=True, alpha=.3)\n",
    "mglearn.discrete_scatter(x_train[:, 0], x_train[:, 1], y_train)\n"
   ]
  },
  {
   "cell_type": "code",
   "execution_count": null,
   "id": "0442a4c4",
   "metadata": {},
   "outputs": [],
   "source": []
  },
  {
   "cell_type": "code",
   "execution_count": null,
   "id": "d737f672",
   "metadata": {},
   "outputs": [],
   "source": []
  },
  {
   "cell_type": "code",
   "execution_count": null,
   "id": "1aef345d",
   "metadata": {},
   "outputs": [],
   "source": []
  },
  {
   "cell_type": "code",
   "execution_count": null,
   "id": "ffbf2a06",
   "metadata": {},
   "outputs": [],
   "source": []
  },
  {
   "cell_type": "code",
   "execution_count": 216,
   "id": "1ec02a68",
   "metadata": {},
   "outputs": [],
   "source": [
    "from sklearn.linear_model import LogisticRegression"
   ]
  },
  {
   "cell_type": "code",
   "execution_count": 102,
   "id": "b4961786",
   "metadata": {
    "scrolled": false
   },
   "outputs": [
    {
     "ename": "NameError",
     "evalue": "name 'pred1' is not defined",
     "output_type": "error",
     "traceback": [
      "\u001b[0;31m---------------------------------------------------------------------------\u001b[0m",
      "\u001b[0;31mNameError\u001b[0m                                 Traceback (most recent call last)",
      "\u001b[0;32m/var/folders/wz/97th05h90yjfyvrt18kyxwk40000gn/T/ipykernel_66240/647372812.py\u001b[0m in \u001b[0;36m<module>\u001b[0;34m\u001b[0m\n\u001b[0;32m----> 1\u001b[0;31m \u001b[0mpred_all\u001b[0m \u001b[0;34m=\u001b[0m \u001b[0mnp\u001b[0m\u001b[0;34m.\u001b[0m\u001b[0marray\u001b[0m\u001b[0;34m(\u001b[0m\u001b[0;34m[\u001b[0m\u001b[0mpred1\u001b[0m\u001b[0;34m,\u001b[0m \u001b[0mpred2\u001b[0m\u001b[0;34m,\u001b[0m\u001b[0mpred4\u001b[0m\u001b[0;34m]\u001b[0m\u001b[0;34m)\u001b[0m\u001b[0;34m\u001b[0m\u001b[0;34m\u001b[0m\u001b[0m\n\u001b[0m\u001b[1;32m      2\u001b[0m \u001b[0mprint\u001b[0m\u001b[0;34m(\u001b[0m\u001b[0mpred_all\u001b[0m\u001b[0;34m.\u001b[0m\u001b[0mshape\u001b[0m\u001b[0;34m)\u001b[0m\u001b[0;34m\u001b[0m\u001b[0;34m\u001b[0m\u001b[0m\n\u001b[1;32m      3\u001b[0m \u001b[0;34m\u001b[0m\u001b[0m\n\u001b[1;32m      4\u001b[0m \u001b[0;31m# transpose를 이용해 행과 열의 위치 교환. 컬럼 레벨로 각 알고리즘의 예측 결과를 피처로 만듦.\u001b[0m\u001b[0;34m\u001b[0m\u001b[0;34m\u001b[0m\u001b[0m\n\u001b[1;32m      5\u001b[0m \u001b[0mpred_all\u001b[0m \u001b[0;34m=\u001b[0m \u001b[0mnp\u001b[0m\u001b[0;34m.\u001b[0m\u001b[0mtranspose\u001b[0m\u001b[0;34m(\u001b[0m\u001b[0mpred_all\u001b[0m\u001b[0;34m)\u001b[0m\u001b[0;34m\u001b[0m\u001b[0;34m\u001b[0m\u001b[0m\n",
      "\u001b[0;31mNameError\u001b[0m: name 'pred1' is not defined"
     ]
    }
   ],
   "source": [
    "pred_all = np.array([pred1, pred2,pred4])\n",
    "print(pred_all.shape)\n",
    "\n",
    "# transpose를 이용해 행과 열의 위치 교환. 컬럼 레벨로 각 알고리즘의 예측 결과를 피처로 만듦. \n",
    "pred_all = np.transpose(pred_all)\n",
    "print(pred_all.shape)\n",
    "\n",
    "# 최종 분류기 모델 생성\n",
    "lr_final = LogisticRegression(C=10)\n",
    "\n",
    "# 최종 분류기 학습 및 예측\n",
    "lr_final.fit(pred_all, y_test)\n",
    "final = lr_final.predict(pred_all)\n",
    "\n",
    "print('최종 메타 모델의 예측 정확도: {0:.4f}'.format(accuracy_score(y_test , final)))"
   ]
  }
 ],
 "metadata": {
  "kernelspec": {
   "display_name": "Python 3 (ipykernel)",
   "language": "python",
   "name": "python3"
  },
  "language_info": {
   "codemirror_mode": {
    "name": "ipython",
    "version": 3
   },
   "file_extension": ".py",
   "mimetype": "text/x-python",
   "name": "python",
   "nbconvert_exporter": "python",
   "pygments_lexer": "ipython3",
   "version": "3.9.13"
  }
 },
 "nbformat": 4,
 "nbformat_minor": 5
}
